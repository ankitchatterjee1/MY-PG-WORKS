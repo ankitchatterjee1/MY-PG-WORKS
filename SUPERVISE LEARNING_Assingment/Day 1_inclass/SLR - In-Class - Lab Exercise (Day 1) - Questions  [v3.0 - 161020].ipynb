{
 "cells": [
  {
   "cell_type": "markdown",
   "metadata": {},
   "source": [
    "<table align=\"center\" width=100%>\n",
    "    <tr>\n",
    "        <td width=\"15%\">\n",
    "            <img src=\"in_class.png\">\n",
    "        </td>\n",
    "        <td>\n",
    "            <div align=\"center\">\n",
    "                <font color=\"#21618C\" size=8px>\n",
    "                    <b> Inclass - Lab <br>(Day 1)\n",
    "                    </b>\n",
    "                </font>\n",
    "            </div>\n",
    "        </td>\n",
    "    </tr>\n",
    "</table>"
   ]
  },
  {
   "cell_type": "markdown",
   "metadata": {},
   "source": [
    "### About the data set 1 (Life Expectancy data)\n",
    "\n",
    "The dataset contains information about several health and economic factors that contribute to average life expectancy for different countries. <br> Attribute information: \n",
    "\n",
    "**Country:** Name of the country\n",
    "\n",
    "**Status:** Whether the country is Developed or Developing\n",
    "\n",
    "**Adult_Mortality:** Mortality rate for age group 15-60 out of every 1000 individuals of the population\n",
    "\n",
    "**Infant_Deaths:** Number of infant deaths per 1000 population\n",
    "\n",
    "**Hepatitis:** Hepatitis B (HepB) immunization coverage for 1 year olds (Percentage)\n",
    "\n",
    "**Measles:** Number of reported cases for measles per 1000 from population\n",
    "\n",
    "**BMI:** Average Body Mass Index for entire population\n",
    "\n",
    "**Underfive_Deaths:** Number of deaths under 5 years of age per 1000 population\n",
    "\n",
    "**Polio:** Polio (Pol3) immunization coverage for 1 year olds (Percentage)\n",
    "\n",
    "**Diphtheria:** Diphtheria tetanus toxoid and pertussis (DTP3) immunization coverage for 1 year olds (Percentage)\n",
    "\n",
    "**HIV:** Deaths per 1000 live births due to HIV/AIDS (0-4 years)\n",
    "\n",
    "**GDP:** Gross Domestic Product per capita (in USD)\n",
    "\n",
    "**Population:** Population of the country\n",
    "\n",
    "**Malnourished10_19:** Prevalence of malnutrition among children and adolescents for Age 10 to 19 (Percentage)\n",
    "\n",
    "**Malnourished5_9:** Prevalence of malnutrition among children for Age 5 to 9 (Percentage)\n",
    "\n",
    "**Income_Index:** Human Development Index (HDI) in terms of national income per capita (index ranging from 0 to 1)\n",
    "\n",
    "**Schooling:** Number of years of Schooling\n",
    "\n",
    "**Life_Expectancy:** Life Expectancy in age for the country\n",
    "\n",
    "\n",
    "\n"
   ]
  },
  {
   "cell_type": "markdown",
   "metadata": {},
   "source": [
    "## Table of Content\n",
    "\n",
    "1. **[Bivariate Regression](#Bivariate)**\n",
    "2. **[Multiple Linear Regression (MLR)](#MLR)**\n",
    "3. **[Inferences about slope](#ins)**\n",
    "4. **[Model Evaluation](#ML_eval)**\n",
    "5. **[Assumptions of Linear Regression](#assum)**\n",
    "6. **[Model Performance](#ml_perf)**"
   ]
  },
  {
   "cell_type": "markdown",
   "metadata": {},
   "source": [
    "**Import the required libraries**"
   ]
  },
  {
   "cell_type": "code",
   "execution_count": 2,
   "metadata": {},
   "outputs": [],
   "source": [
    "# import 'Pandas' \n",
    "import pandas as pd \n",
    "\n",
    "# import 'Numpy' \n",
    "import numpy as np\n",
    "\n",
    "# import subpackage of Matplotlib\n",
    "import matplotlib.pyplot as plt\n",
    "\n",
    "# import 'Seaborn' \n",
    "import seaborn as sns\n",
    "\n",
    "# to suppress warnings \n",
    "from warnings import filterwarnings\n",
    "filterwarnings('ignore')\n",
    "\n",
    "# display all columns of the dataframe\n",
    "pd.options.display.max_columns = None\n",
    "\n",
    "# display all rows of the dataframe\n",
    "pd.options.display.max_rows = None\n",
    " \n",
    "# to display the float values upto 6 decimal places     \n",
    "pd.options.display.float_format = '{:.6f}'.format\n",
    "\n",
    "# import train-test split \n",
    "from sklearn.model_selection import train_test_split\n",
    "\n",
    "# import various functions from statsmodel to perform linear regression\n",
    "import statsmodels\n",
    "import statsmodels.api as sm\n",
    "import statsmodels.stats.api as sms\n",
    "from statsmodels.compat import lzip\n",
    "from statsmodels.stats.outliers_influence import variance_inflation_factor\n",
    "from statsmodels.graphics.gofplots import qqplot\n",
    "from statsmodels.stats.anova import anova_lm\n",
    "from statsmodels.formula.api import ols\n",
    "from statsmodels.tools.eval_measures import rmse\n",
    "\n",
    "# import various functions from scipy\n",
    "from scipy import stats\n",
    "from scipy.stats import shapiro\n",
    "\n",
    "# 'metrics' from sklearn is used for evaluating the model performance\n",
    "from sklearn.metrics import mean_absolute_error\n",
    "from sklearn.metrics import mean_squared_error"
   ]
  },
  {
   "cell_type": "markdown",
   "metadata": {},
   "source": [
    "#### Load the first dataset and check the first five observations\n",
    "\n",
    "Load the csv file and set the first column as index"
   ]
  },
  {
   "cell_type": "code",
   "execution_count": 3,
   "metadata": {},
   "outputs": [
    {
     "data": {
      "text/html": [
       "<div>\n",
       "<style scoped>\n",
       "    .dataframe tbody tr th:only-of-type {\n",
       "        vertical-align: middle;\n",
       "    }\n",
       "\n",
       "    .dataframe tbody tr th {\n",
       "        vertical-align: top;\n",
       "    }\n",
       "\n",
       "    .dataframe thead th {\n",
       "        text-align: right;\n",
       "    }\n",
       "</style>\n",
       "<table border=\"1\" class=\"dataframe\">\n",
       "  <thead>\n",
       "    <tr style=\"text-align: right;\">\n",
       "      <th></th>\n",
       "      <th>Country</th>\n",
       "      <th>Status</th>\n",
       "      <th>Adult_Mortality</th>\n",
       "      <th>Infant_Deaths</th>\n",
       "      <th>Hepatitis</th>\n",
       "      <th>Measles</th>\n",
       "      <th>BMI</th>\n",
       "      <th>Underfive_Deaths</th>\n",
       "      <th>Polio</th>\n",
       "      <th>Diphtheria</th>\n",
       "      <th>HIV</th>\n",
       "      <th>GDP</th>\n",
       "      <th>Population</th>\n",
       "      <th>Malnourished10_19</th>\n",
       "      <th>Malnourished5_9</th>\n",
       "      <th>Income_Index</th>\n",
       "      <th>Schooling</th>\n",
       "      <th>Expected</th>\n",
       "    </tr>\n",
       "  </thead>\n",
       "  <tbody>\n",
       "    <tr>\n",
       "      <th>0</th>\n",
       "      <td>Afghanistan</td>\n",
       "      <td>Developing</td>\n",
       "      <td>263</td>\n",
       "      <td>62</td>\n",
       "      <td>65</td>\n",
       "      <td>1154</td>\n",
       "      <td>19.100000</td>\n",
       "      <td>83</td>\n",
       "      <td>6</td>\n",
       "      <td>65</td>\n",
       "      <td>0.100000</td>\n",
       "      <td>584.259210</td>\n",
       "      <td>33736494</td>\n",
       "      <td>17.200000</td>\n",
       "      <td>17.300000</td>\n",
       "      <td>0.479000</td>\n",
       "      <td>10.100000</td>\n",
       "      <td>65.000000</td>\n",
       "    </tr>\n",
       "    <tr>\n",
       "      <th>1</th>\n",
       "      <td>Albania</td>\n",
       "      <td>Developing</td>\n",
       "      <td>8</td>\n",
       "      <td>0</td>\n",
       "      <td>98</td>\n",
       "      <td>0</td>\n",
       "      <td>57.200000</td>\n",
       "      <td>1</td>\n",
       "      <td>98</td>\n",
       "      <td>98</td>\n",
       "      <td>0.100000</td>\n",
       "      <td>4575.763787</td>\n",
       "      <td>288914</td>\n",
       "      <td>1.200000</td>\n",
       "      <td>1.300000</td>\n",
       "      <td>0.761000</td>\n",
       "      <td>14.200000</td>\n",
       "      <td>77.500000</td>\n",
       "    </tr>\n",
       "    <tr>\n",
       "      <th>2</th>\n",
       "      <td>Algeria</td>\n",
       "      <td>Developing</td>\n",
       "      <td>19</td>\n",
       "      <td>21</td>\n",
       "      <td>95</td>\n",
       "      <td>63</td>\n",
       "      <td>59.500000</td>\n",
       "      <td>24</td>\n",
       "      <td>95</td>\n",
       "      <td>95</td>\n",
       "      <td>0.100000</td>\n",
       "      <td>4132.762920</td>\n",
       "      <td>39871528</td>\n",
       "      <td>6.000000</td>\n",
       "      <td>5.800000</td>\n",
       "      <td>0.743000</td>\n",
       "      <td>14.400000</td>\n",
       "      <td>75.600000</td>\n",
       "    </tr>\n",
       "    <tr>\n",
       "      <th>3</th>\n",
       "      <td>Angola</td>\n",
       "      <td>Developing</td>\n",
       "      <td>335</td>\n",
       "      <td>66</td>\n",
       "      <td>64</td>\n",
       "      <td>118</td>\n",
       "      <td>23.300000</td>\n",
       "      <td>98</td>\n",
       "      <td>7</td>\n",
       "      <td>64</td>\n",
       "      <td>1.900000</td>\n",
       "      <td>3695.793748</td>\n",
       "      <td>2785935</td>\n",
       "      <td>8.300000</td>\n",
       "      <td>8.200000</td>\n",
       "      <td>0.531000</td>\n",
       "      <td>11.400000</td>\n",
       "      <td>52.400000</td>\n",
       "    </tr>\n",
       "    <tr>\n",
       "      <th>4</th>\n",
       "      <td>Argentina</td>\n",
       "      <td>Developing</td>\n",
       "      <td>116</td>\n",
       "      <td>8</td>\n",
       "      <td>94</td>\n",
       "      <td>0</td>\n",
       "      <td>62.800000</td>\n",
       "      <td>9</td>\n",
       "      <td>93</td>\n",
       "      <td>94</td>\n",
       "      <td>0.100000</td>\n",
       "      <td>13467.123600</td>\n",
       "      <td>43417765</td>\n",
       "      <td>1.000000</td>\n",
       "      <td>0.900000</td>\n",
       "      <td>0.826000</td>\n",
       "      <td>17.300000</td>\n",
       "      <td>76.300000</td>\n",
       "    </tr>\n",
       "    <tr>\n",
       "      <th>5</th>\n",
       "      <td>Armenia</td>\n",
       "      <td>Developing</td>\n",
       "      <td>118</td>\n",
       "      <td>1</td>\n",
       "      <td>94</td>\n",
       "      <td>33</td>\n",
       "      <td>54.900000</td>\n",
       "      <td>1</td>\n",
       "      <td>96</td>\n",
       "      <td>94</td>\n",
       "      <td>0.100000</td>\n",
       "      <td>369.654776</td>\n",
       "      <td>291695</td>\n",
       "      <td>2.100000</td>\n",
       "      <td>2.200000</td>\n",
       "      <td>0.741000</td>\n",
       "      <td>12.700000</td>\n",
       "      <td>74.800000</td>\n",
       "    </tr>\n",
       "    <tr>\n",
       "      <th>6</th>\n",
       "      <td>Australia</td>\n",
       "      <td>Developed</td>\n",
       "      <td>59</td>\n",
       "      <td>1</td>\n",
       "      <td>93</td>\n",
       "      <td>74</td>\n",
       "      <td>66.600000</td>\n",
       "      <td>1</td>\n",
       "      <td>93</td>\n",
       "      <td>93</td>\n",
       "      <td>0.100000</td>\n",
       "      <td>56554.387600</td>\n",
       "      <td>23789338</td>\n",
       "      <td>0.600000</td>\n",
       "      <td>0.600000</td>\n",
       "      <td>0.937000</td>\n",
       "      <td>20.400000</td>\n",
       "      <td>82.800000</td>\n",
       "    </tr>\n",
       "    <tr>\n",
       "      <th>7</th>\n",
       "      <td>Austria</td>\n",
       "      <td>Developed</td>\n",
       "      <td>65</td>\n",
       "      <td>0</td>\n",
       "      <td>93</td>\n",
       "      <td>309</td>\n",
       "      <td>57.600000</td>\n",
       "      <td>0</td>\n",
       "      <td>93</td>\n",
       "      <td>93</td>\n",
       "      <td>0.100000</td>\n",
       "      <td>43665.947000</td>\n",
       "      <td>8633169</td>\n",
       "      <td>1.900000</td>\n",
       "      <td>2.100000</td>\n",
       "      <td>0.892000</td>\n",
       "      <td>15.900000</td>\n",
       "      <td>81.500000</td>\n",
       "    </tr>\n",
       "    <tr>\n",
       "      <th>8</th>\n",
       "      <td>Azerbaijan</td>\n",
       "      <td>Developing</td>\n",
       "      <td>118</td>\n",
       "      <td>5</td>\n",
       "      <td>96</td>\n",
       "      <td>0</td>\n",
       "      <td>52.500000</td>\n",
       "      <td>6</td>\n",
       "      <td>98</td>\n",
       "      <td>96</td>\n",
       "      <td>0.100000</td>\n",
       "      <td>55.313820</td>\n",
       "      <td>9649341</td>\n",
       "      <td>2.800000</td>\n",
       "      <td>2.900000</td>\n",
       "      <td>0.758000</td>\n",
       "      <td>12.700000</td>\n",
       "      <td>72.700000</td>\n",
       "    </tr>\n",
       "    <tr>\n",
       "      <th>9</th>\n",
       "      <td>Bahrain</td>\n",
       "      <td>Developing</td>\n",
       "      <td>69</td>\n",
       "      <td>0</td>\n",
       "      <td>98</td>\n",
       "      <td>0</td>\n",
       "      <td>63.600000</td>\n",
       "      <td>0</td>\n",
       "      <td>98</td>\n",
       "      <td>98</td>\n",
       "      <td>0.100000</td>\n",
       "      <td>22688.878240</td>\n",
       "      <td>1378188</td>\n",
       "      <td>6.200000</td>\n",
       "      <td>6.100000</td>\n",
       "      <td>0.823000</td>\n",
       "      <td>14.500000</td>\n",
       "      <td>76.900000</td>\n",
       "    </tr>\n",
       "  </tbody>\n",
       "</table>\n",
       "</div>"
      ],
      "text/plain": [
       "       Country      Status  Adult_Mortality  Infant_Deaths  Hepatitis   \\\n",
       "0  Afghanistan  Developing              263             62          65   \n",
       "1      Albania  Developing                8              0          98   \n",
       "2      Algeria  Developing               19             21          95   \n",
       "3       Angola  Developing              335             66          64   \n",
       "4    Argentina  Developing              116              8          94   \n",
       "5      Armenia  Developing              118              1          94   \n",
       "6    Australia   Developed               59              1          93   \n",
       "7      Austria   Developed               65              0          93   \n",
       "8   Azerbaijan  Developing              118              5          96   \n",
       "9      Bahrain  Developing               69              0          98   \n",
       "\n",
       "   Measles       BMI   Underfive_Deaths   Polio  Diphtheria       HIV  \\\n",
       "0      1154 19.100000                 83      6           65 0.100000   \n",
       "1         0 57.200000                  1     98           98 0.100000   \n",
       "2        63 59.500000                 24     95           95 0.100000   \n",
       "3       118 23.300000                 98      7           64 1.900000   \n",
       "4         0 62.800000                  9     93           94 0.100000   \n",
       "5        33 54.900000                  1     96           94 0.100000   \n",
       "6        74 66.600000                  1     93           93 0.100000   \n",
       "7       309 57.600000                  0     93           93 0.100000   \n",
       "8         0 52.500000                  6     98           96 0.100000   \n",
       "9         0 63.600000                  0     98           98 0.100000   \n",
       "\n",
       "           GDP  Population  Malnourished10_19   Malnourished5_9  Income_Index  \\\n",
       "0   584.259210    33736494           17.200000        17.300000      0.479000   \n",
       "1  4575.763787      288914            1.200000         1.300000      0.761000   \n",
       "2  4132.762920    39871528            6.000000         5.800000      0.743000   \n",
       "3  3695.793748     2785935            8.300000         8.200000      0.531000   \n",
       "4 13467.123600    43417765            1.000000         0.900000      0.826000   \n",
       "5   369.654776      291695            2.100000         2.200000      0.741000   \n",
       "6 56554.387600    23789338            0.600000         0.600000      0.937000   \n",
       "7 43665.947000     8633169            1.900000         2.100000      0.892000   \n",
       "8    55.313820     9649341            2.800000         2.900000      0.758000   \n",
       "9 22688.878240     1378188            6.200000         6.100000      0.823000   \n",
       "\n",
       "   Schooling  Expected  \n",
       "0  10.100000 65.000000  \n",
       "1  14.200000 77.500000  \n",
       "2  14.400000 75.600000  \n",
       "3  11.400000 52.400000  \n",
       "4  17.300000 76.300000  \n",
       "5  12.700000 74.800000  \n",
       "6  20.400000 82.800000  \n",
       "7  15.900000 81.500000  \n",
       "8  12.700000 72.700000  \n",
       "9  14.500000 76.900000  "
      ]
     },
     "execution_count": 3,
     "metadata": {},
     "output_type": "execute_result"
    }
   ],
   "source": [
    "data=pd.read_csv('Life_Expectancy.csv')\n",
    "data.head(10)"
   ]
  },
  {
   "cell_type": "code",
   "execution_count": 3,
   "metadata": {},
   "outputs": [
    {
     "data": {
      "text/plain": [
       "(124, 18)"
      ]
     },
     "execution_count": 3,
     "metadata": {},
     "output_type": "execute_result"
    }
   ],
   "source": [
    "data.shape"
   ]
  },
  {
   "cell_type": "code",
   "execution_count": 4,
   "metadata": {},
   "outputs": [
    {
     "name": "stdout",
     "output_type": "stream",
     "text": [
      "<class 'pandas.core.frame.DataFrame'>\n",
      "RangeIndex: 124 entries, 0 to 123\n",
      "Data columns (total 18 columns):\n",
      " #   Column              Non-Null Count  Dtype  \n",
      "---  ------              --------------  -----  \n",
      " 0   Country             124 non-null    object \n",
      " 1   Status              124 non-null    object \n",
      " 2   Adult_Mortality     124 non-null    int64  \n",
      " 3   Infant_Deaths       124 non-null    int64  \n",
      " 4   Hepatitis           124 non-null    int64  \n",
      " 5   Measles             124 non-null    int64  \n",
      " 6    BMI                124 non-null    float64\n",
      " 7   Underfive_Deaths    124 non-null    int64  \n",
      " 8   Polio               124 non-null    int64  \n",
      " 9   Diphtheria          124 non-null    int64  \n",
      " 10   HIV                124 non-null    float64\n",
      " 11  GDP                 124 non-null    float64\n",
      " 12  Population          124 non-null    int64  \n",
      " 13  Malnourished10_19   124 non-null    float64\n",
      " 14  Malnourished5_9     124 non-null    float64\n",
      " 15  Income_Index        124 non-null    float64\n",
      " 16  Schooling           124 non-null    float64\n",
      " 17  Expected            124 non-null    float64\n",
      "dtypes: float64(8), int64(8), object(2)\n",
      "memory usage: 17.6+ KB\n"
     ]
    }
   ],
   "source": [
    "data.info()"
   ]
  },
  {
   "cell_type": "code",
   "execution_count": 5,
   "metadata": {},
   "outputs": [
    {
     "data": {
      "text/html": [
       "<div>\n",
       "<style scoped>\n",
       "    .dataframe tbody tr th:only-of-type {\n",
       "        vertical-align: middle;\n",
       "    }\n",
       "\n",
       "    .dataframe tbody tr th {\n",
       "        vertical-align: top;\n",
       "    }\n",
       "\n",
       "    .dataframe thead th {\n",
       "        text-align: right;\n",
       "    }\n",
       "</style>\n",
       "<table border=\"1\" class=\"dataframe\">\n",
       "  <thead>\n",
       "    <tr style=\"text-align: right;\">\n",
       "      <th></th>\n",
       "      <th>Adult_Mortality</th>\n",
       "      <th>Infant_Deaths</th>\n",
       "      <th>Hepatitis</th>\n",
       "      <th>Measles</th>\n",
       "      <th>BMI</th>\n",
       "      <th>Underfive_Deaths</th>\n",
       "      <th>Polio</th>\n",
       "      <th>Diphtheria</th>\n",
       "      <th>HIV</th>\n",
       "      <th>GDP</th>\n",
       "      <th>Population</th>\n",
       "      <th>Malnourished10_19</th>\n",
       "      <th>Malnourished5_9</th>\n",
       "      <th>Income_Index</th>\n",
       "      <th>Schooling</th>\n",
       "      <th>Expected</th>\n",
       "    </tr>\n",
       "  </thead>\n",
       "  <tbody>\n",
       "    <tr>\n",
       "      <th>count</th>\n",
       "      <td>124.000000</td>\n",
       "      <td>124.000000</td>\n",
       "      <td>124.000000</td>\n",
       "      <td>124.000000</td>\n",
       "      <td>124.000000</td>\n",
       "      <td>124.000000</td>\n",
       "      <td>124.000000</td>\n",
       "      <td>124.000000</td>\n",
       "      <td>124.000000</td>\n",
       "      <td>124.000000</td>\n",
       "      <td>124.000000</td>\n",
       "      <td>124.000000</td>\n",
       "      <td>124.000000</td>\n",
       "      <td>124.000000</td>\n",
       "      <td>124.000000</td>\n",
       "      <td>124.000000</td>\n",
       "    </tr>\n",
       "    <tr>\n",
       "      <th>mean</th>\n",
       "      <td>160.475806</td>\n",
       "      <td>27.637097</td>\n",
       "      <td>85.104839</td>\n",
       "      <td>2841.637097</td>\n",
       "      <td>41.733871</td>\n",
       "      <td>36.798387</td>\n",
       "      <td>86.637097</td>\n",
       "      <td>87.919355</td>\n",
       "      <td>0.819355</td>\n",
       "      <td>6866.816502</td>\n",
       "      <td>19606036.048387</td>\n",
       "      <td>4.180645</td>\n",
       "      <td>4.373387</td>\n",
       "      <td>0.690685</td>\n",
       "      <td>13.085484</td>\n",
       "      <td>71.220968</td>\n",
       "    </tr>\n",
       "    <tr>\n",
       "      <th>std</th>\n",
       "      <td>101.794506</td>\n",
       "      <td>94.347510</td>\n",
       "      <td>20.839229</td>\n",
       "      <td>11517.586950</td>\n",
       "      <td>21.186385</td>\n",
       "      <td>122.248912</td>\n",
       "      <td>21.653342</td>\n",
       "      <td>19.122879</td>\n",
       "      <td>1.764127</td>\n",
       "      <td>10885.243579</td>\n",
       "      <td>41007621.897546</td>\n",
       "      <td>4.086736</td>\n",
       "      <td>4.212797</td>\n",
       "      <td>0.168296</td>\n",
       "      <td>2.909242</td>\n",
       "      <td>8.467924</td>\n",
       "    </tr>\n",
       "    <tr>\n",
       "      <th>min</th>\n",
       "      <td>3.000000</td>\n",
       "      <td>0.000000</td>\n",
       "      <td>6.000000</td>\n",
       "      <td>0.000000</td>\n",
       "      <td>2.100000</td>\n",
       "      <td>0.000000</td>\n",
       "      <td>6.000000</td>\n",
       "      <td>6.000000</td>\n",
       "      <td>0.100000</td>\n",
       "      <td>5.668726</td>\n",
       "      <td>8381.000000</td>\n",
       "      <td>0.300000</td>\n",
       "      <td>0.200000</td>\n",
       "      <td>0.332000</td>\n",
       "      <td>5.300000</td>\n",
       "      <td>48.600000</td>\n",
       "    </tr>\n",
       "    <tr>\n",
       "      <th>25%</th>\n",
       "      <td>73.500000</td>\n",
       "      <td>1.000000</td>\n",
       "      <td>82.000000</td>\n",
       "      <td>0.750000</td>\n",
       "      <td>20.950000</td>\n",
       "      <td>1.000000</td>\n",
       "      <td>88.000000</td>\n",
       "      <td>89.000000</td>\n",
       "      <td>0.100000</td>\n",
       "      <td>639.799727</td>\n",
       "      <td>821556.000000</td>\n",
       "      <td>1.500000</td>\n",
       "      <td>1.575000</td>\n",
       "      <td>0.551500</td>\n",
       "      <td>10.875000</td>\n",
       "      <td>65.175000</td>\n",
       "    </tr>\n",
       "    <tr>\n",
       "      <th>50%</th>\n",
       "      <td>139.500000</td>\n",
       "      <td>10.000000</td>\n",
       "      <td>94.000000</td>\n",
       "      <td>37.000000</td>\n",
       "      <td>54.100000</td>\n",
       "      <td>12.000000</td>\n",
       "      <td>95.000000</td>\n",
       "      <td>95.000000</td>\n",
       "      <td>0.100000</td>\n",
       "      <td>2728.291765</td>\n",
       "      <td>4234054.000000</td>\n",
       "      <td>2.400000</td>\n",
       "      <td>2.800000</td>\n",
       "      <td>0.740000</td>\n",
       "      <td>13.300000</td>\n",
       "      <td>72.200000</td>\n",
       "    </tr>\n",
       "    <tr>\n",
       "      <th>75%</th>\n",
       "      <td>234.000000</td>\n",
       "      <td>21.000000</td>\n",
       "      <td>97.000000</td>\n",
       "      <td>588.750000</td>\n",
       "      <td>59.750000</td>\n",
       "      <td>26.500000</td>\n",
       "      <td>98.000000</td>\n",
       "      <td>98.000000</td>\n",
       "      <td>0.400000</td>\n",
       "      <td>8437.562894</td>\n",
       "      <td>14827671.000000</td>\n",
       "      <td>6.425000</td>\n",
       "      <td>6.425000</td>\n",
       "      <td>0.799000</td>\n",
       "      <td>15.000000</td>\n",
       "      <td>77.500000</td>\n",
       "    </tr>\n",
       "    <tr>\n",
       "      <th>max</th>\n",
       "      <td>438.000000</td>\n",
       "      <td>910.000000</td>\n",
       "      <td>99.000000</td>\n",
       "      <td>90387.000000</td>\n",
       "      <td>71.400000</td>\n",
       "      <td>1100.000000</td>\n",
       "      <td>99.000000</td>\n",
       "      <td>99.000000</td>\n",
       "      <td>8.100000</td>\n",
       "      <td>56554.387600</td>\n",
       "      <td>258162113.000000</td>\n",
       "      <td>26.700000</td>\n",
       "      <td>27.300000</td>\n",
       "      <td>0.945000</td>\n",
       "      <td>20.400000</td>\n",
       "      <td>86.000000</td>\n",
       "    </tr>\n",
       "  </tbody>\n",
       "</table>\n",
       "</div>"
      ],
      "text/plain": [
       "       Adult_Mortality  Infant_Deaths  Hepatitis      Measles        BMI   \\\n",
       "count       124.000000     124.000000  124.000000   124.000000 124.000000   \n",
       "mean        160.475806      27.637097   85.104839  2841.637097  41.733871   \n",
       "std         101.794506      94.347510   20.839229 11517.586950  21.186385   \n",
       "min           3.000000       0.000000    6.000000     0.000000   2.100000   \n",
       "25%          73.500000       1.000000   82.000000     0.750000  20.950000   \n",
       "50%         139.500000      10.000000   94.000000    37.000000  54.100000   \n",
       "75%         234.000000      21.000000   97.000000   588.750000  59.750000   \n",
       "max         438.000000     910.000000   99.000000 90387.000000  71.400000   \n",
       "\n",
       "       Underfive_Deaths       Polio  Diphtheria         HIV          GDP  \\\n",
       "count         124.000000 124.000000   124.000000 124.000000   124.000000   \n",
       "mean           36.798387  86.637097    87.919355   0.819355  6866.816502   \n",
       "std           122.248912  21.653342    19.122879   1.764127 10885.243579   \n",
       "min             0.000000   6.000000     6.000000   0.100000     5.668726   \n",
       "25%             1.000000  88.000000    89.000000   0.100000   639.799727   \n",
       "50%            12.000000  95.000000    95.000000   0.100000  2728.291765   \n",
       "75%            26.500000  98.000000    98.000000   0.400000  8437.562894   \n",
       "max          1100.000000  99.000000    99.000000   8.100000 56554.387600   \n",
       "\n",
       "            Population  Malnourished10_19   Malnourished5_9  Income_Index  \\\n",
       "count       124.000000          124.000000       124.000000    124.000000   \n",
       "mean   19606036.048387            4.180645         4.373387      0.690685   \n",
       "std    41007621.897546            4.086736         4.212797      0.168296   \n",
       "min        8381.000000            0.300000         0.200000      0.332000   \n",
       "25%      821556.000000            1.500000         1.575000      0.551500   \n",
       "50%     4234054.000000            2.400000         2.800000      0.740000   \n",
       "75%    14827671.000000            6.425000         6.425000      0.799000   \n",
       "max   258162113.000000           26.700000        27.300000      0.945000   \n",
       "\n",
       "       Schooling   Expected  \n",
       "count 124.000000 124.000000  \n",
       "mean   13.085484  71.220968  \n",
       "std     2.909242   8.467924  \n",
       "min     5.300000  48.600000  \n",
       "25%    10.875000  65.175000  \n",
       "50%    13.300000  72.200000  \n",
       "75%    15.000000  77.500000  \n",
       "max    20.400000  86.000000  "
      ]
     },
     "execution_count": 5,
     "metadata": {},
     "output_type": "execute_result"
    }
   ],
   "source": [
    "data.describe()"
   ]
  },
  {
   "cell_type": "code",
   "execution_count": 6,
   "metadata": {},
   "outputs": [
    {
     "data": {
      "text/plain": [
       "Adult_Mortality       0.588472\n",
       "Infant_Deaths         7.816143\n",
       "Hepatitis            -2.317231\n",
       "Measles               5.635226\n",
       " BMI                 -0.421571\n",
       "Underfive_Deaths      7.269122\n",
       "Polio                -2.633000\n",
       "Diphtheria           -2.880857\n",
       " HIV                  3.077187\n",
       "GDP                   2.530833\n",
       "Population            3.304973\n",
       "Malnourished10_19     2.429036\n",
       "Malnourished5_9       2.318286\n",
       "Income_Index         -0.558301\n",
       "Schooling            -0.109486\n",
       "Expected             -0.501548\n",
       "dtype: float64"
      ]
     },
     "execution_count": 6,
     "metadata": {},
     "output_type": "execute_result"
    }
   ],
   "source": [
    "data.skew()"
   ]
  },
  {
   "cell_type": "code",
   "execution_count": 5,
   "metadata": {},
   "outputs": [],
   "source": [
    "data_num=data.select_dtypes(np.number)\n",
    "data_cat=data.select_dtypes(object)"
   ]
  },
  {
   "cell_type": "code",
   "execution_count": 8,
   "metadata": {},
   "outputs": [
    {
     "data": {
      "image/png": "[encoded data removed]",
      "text/plain": [
       "<Figure size 1440x1800 with 16 Axes>"
      ]
     },
     "metadata": {
      "needs_background": "light"
     },
     "output_type": "display_data"
    }
   ],
   "source": [
    "plt.figure(figsize=(20,25))\n",
    "j=1\n",
    "for i in data_num.columns:\n",
    "    plt.subplot(5,4,j)\n",
    "    sns.distplot(data_num[i])\n",
    "    j+=1"
   ]
  },
  {
   "cell_type": "code",
   "execution_count": 81,
   "metadata": {},
   "outputs": [],
   "source": [
    "#there is some skewness in some of the attributes\n",
    "#log transform"
   ]
  },
  {
   "cell_type": "markdown",
   "metadata": {},
   "source": [
    "### Let's begin with some hands-on practice exercises"
   ]
  },
  {
   "cell_type": "markdown",
   "metadata": {},
   "source": [
    "<a id=\"Bivariate\"> </a>\n",
    "## 1. Bivariate Regression"
   ]
  },
  {
   "cell_type": "markdown",
   "metadata": {},
   "source": [
    "## We shall use the life expectancy dataset"
   ]
  },
  {
   "cell_type": "markdown",
   "metadata": {
    "collapsed": true
   },
   "source": [
    "<table align=\"left\">\n",
    "    <tr>\n",
    "        <td width=\"6%\">\n",
    "            <img src=\"question_icon.png\">\n",
    "        </td>\n",
    "        <td>\n",
    "            <div align=\"left\", style=\"font-size:120%\">\n",
    "                <font color=\"#21618C\">\n",
    "                    <b>1. How do we analyze the impact of adult mortality rate on average life expectancy of a country?</b>\n",
    "                </font>\n",
    "            </div>\n",
    "        </td>\n",
    "    </tr>\n",
    "</table>"
   ]
  },
  {
   "cell_type": "code",
   "execution_count": 9,
   "metadata": {},
   "outputs": [
    {
     "data": {
      "text/plain": [
       "<AxesSubplot:xlabel='Adult_Mortality', ylabel='Expected'>"
      ]
     },
     "execution_count": 9,
     "metadata": {},
     "output_type": "execute_result"
    },
    {
     "data": {
      "image/png": "[encoded data removed]",
      "text/plain": [
       "<Figure size 720x864 with 1 Axes>"
      ]
     },
     "metadata": {
      "needs_background": "light"
     },
     "output_type": "display_data"
    }
   ],
   "source": [
    "plt.figure(figsize=(10,12))\n",
    "sns.scatterplot(data['Adult_Mortality'],data['Expected'])"
   ]
  },
  {
   "cell_type": "code",
   "execution_count": 10,
   "metadata": {},
   "outputs": [
    {
     "data": {
      "text/plain": [
       "-0.7108678534954708"
      ]
     },
     "execution_count": 10,
     "metadata": {},
     "output_type": "execute_result"
    }
   ],
   "source": [
    "data['Adult_Mortality'].corr(data['Expected'])"
   ]
  },
  {
   "cell_type": "code",
   "execution_count": 84,
   "metadata": {},
   "outputs": [],
   "source": [
    "#the atribute are negatively correlated "
   ]
  },
  {
   "cell_type": "markdown",
   "metadata": {
    "collapsed": true
   },
   "source": [
    "<table align=\"left\">\n",
    "    <tr>\n",
    "        <td width=\"6%\">\n",
    "            <img src=\"question_icon.png\">\n",
    "        </td>\n",
    "        <td>\n",
    "            <div align=\"left\", style=\"font-size:120%\">\n",
    "                <font color=\"#21618C\">\n",
    "                    <b>2. A regression model is built to check the impact of Human Development Index (Income) on the life expectancy of a nation. What is the expected error value?</b>\n",
    "                </font>\n",
    "            </div>\n",
    "        </td>\n",
    "    </tr>\n",
    "</table>"
   ]
  },
  {
   "cell_type": "code",
   "execution_count": 11,
   "metadata": {},
   "outputs": [
    {
     "data": {
      "text/html": [
       "<table class=\"simpletable\">\n",
       "<caption>OLS Regression Results</caption>\n",
       "<tr>\n",
       "  <th>Dep. Variable:</th>        <td>Expected</td>     <th>  R-squared (uncentered):</th>      <td>   0.977</td> \n",
       "</tr>\n",
       "<tr>\n",
       "  <th>Model:</th>                   <td>OLS</td>       <th>  Adj. R-squared (uncentered):</th> <td>   0.977</td> \n",
       "</tr>\n",
       "<tr>\n",
       "  <th>Method:</th>             <td>Least Squares</td>  <th>  F-statistic:       </th>          <td>   5225.</td> \n",
       "</tr>\n",
       "<tr>\n",
       "  <th>Date:</th>             <td>Fri, 30 Jul 2021</td> <th>  Prob (F-statistic):</th>          <td>1.28e-102</td>\n",
       "</tr>\n",
       "<tr>\n",
       "  <th>Time:</th>                 <td>21:32:01</td>     <th>  Log-Likelihood:    </th>          <td> -471.89</td> \n",
       "</tr>\n",
       "<tr>\n",
       "  <th>No. Observations:</th>      <td>   124</td>      <th>  AIC:               </th>          <td>   945.8</td> \n",
       "</tr>\n",
       "<tr>\n",
       "  <th>Df Residuals:</th>          <td>   123</td>      <th>  BIC:               </th>          <td>   948.6</td> \n",
       "</tr>\n",
       "<tr>\n",
       "  <th>Df Model:</th>              <td>     1</td>      <th>                     </th>              <td> </td>    \n",
       "</tr>\n",
       "<tr>\n",
       "  <th>Covariance Type:</th>      <td>nonrobust</td>    <th>                     </th>              <td> </td>    \n",
       "</tr>\n",
       "</table>\n",
       "<table class=\"simpletable\">\n",
       "<tr>\n",
       "        <td></td>          <th>coef</th>     <th>std err</th>      <th>t</th>      <th>P>|t|</th>  <th>[0.025</th>    <th>0.975]</th>  \n",
       "</tr>\n",
       "<tr>\n",
       "  <th>Income_Index</th> <td>   99.7408</td> <td>    1.380</td> <td>   72.285</td> <td> 0.000</td> <td>   97.009</td> <td>  102.472</td>\n",
       "</tr>\n",
       "</table>\n",
       "<table class=\"simpletable\">\n",
       "<tr>\n",
       "  <th>Omnibus:</th>       <td>10.401</td> <th>  Durbin-Watson:     </th> <td>   1.190</td>\n",
       "</tr>\n",
       "<tr>\n",
       "  <th>Prob(Omnibus):</th> <td> 0.006</td> <th>  Jarque-Bera (JB):  </th> <td>  11.305</td>\n",
       "</tr>\n",
       "<tr>\n",
       "  <th>Skew:</th>          <td> 0.719</td> <th>  Prob(JB):          </th> <td> 0.00351</td>\n",
       "</tr>\n",
       "<tr>\n",
       "  <th>Kurtosis:</th>      <td> 2.652</td> <th>  Cond. No.          </th> <td>    1.00</td>\n",
       "</tr>\n",
       "</table><br/><br/>Notes:<br/>[1] R² is computed without centering (uncentered) since the model does not contain a constant.<br/>[2] Standard Errors assume that the covariance matrix of the errors is correctly specified."
      ],
      "text/plain": [
       "<class 'statsmodels.iolib.summary.Summary'>\n",
       "\"\"\"\n",
       "                                 OLS Regression Results                                \n",
       "=======================================================================================\n",
       "Dep. Variable:               Expected   R-squared (uncentered):                   0.977\n",
       "Model:                            OLS   Adj. R-squared (uncentered):              0.977\n",
       "Method:                 Least Squares   F-statistic:                              5225.\n",
       "Date:                Fri, 30 Jul 2021   Prob (F-statistic):                   1.28e-102\n",
       "Time:                        21:32:01   Log-Likelihood:                         -471.89\n",
       "No. Observations:                 124   AIC:                                      945.8\n",
       "Df Residuals:                     123   BIC:                                      948.6\n",
       "Df Model:                           1                                                  \n",
       "Covariance Type:            nonrobust                                                  \n",
       "================================================================================\n",
       "                   coef    std err          t      P>|t|      [0.025      0.975]\n",
       "--------------------------------------------------------------------------------\n",
       "Income_Index    99.7408      1.380     72.285      0.000      97.009     102.472\n",
       "==============================================================================\n",
       "Omnibus:                       10.401   Durbin-Watson:                   1.190\n",
       "Prob(Omnibus):                  0.006   Jarque-Bera (JB):               11.305\n",
       "Skew:                           0.719   Prob(JB):                      0.00351\n",
       "Kurtosis:                       2.652   Cond. No.                         1.00\n",
       "==============================================================================\n",
       "\n",
       "Notes:\n",
       "[1] R² is computed without centering (uncentered) since the model does not contain a constant.\n",
       "[2] Standard Errors assume that the covariance matrix of the errors is correctly specified.\n",
       "\"\"\""
      ]
     },
     "execution_count": 11,
     "metadata": {},
     "output_type": "execute_result"
    }
   ],
   "source": [
    "x=data.Income_Index\n",
    "y=data.Expected\n",
    "\n",
    "X=sm.add_constant\n",
    "model_first=sm.OLS(y,x).fit()\n",
    "model_first.summary()"
   ]
  },
  {
   "cell_type": "code",
   "execution_count": 12,
   "metadata": {},
   "outputs": [],
   "source": [
    "ypred=model_first.predict()"
   ]
  },
  {
   "cell_type": "code",
   "execution_count": 13,
   "metadata": {},
   "outputs": [],
   "source": [
    "res=y-ypred"
   ]
  },
  {
   "cell_type": "code",
   "execution_count": 14,
   "metadata": {},
   "outputs": [],
   "source": [
    "sum_res=np.sum(res)"
   ]
  },
  {
   "cell_type": "code",
   "execution_count": 15,
   "metadata": {},
   "outputs": [],
   "source": [
    "error=sum_res/data.shape[0]"
   ]
  },
  {
   "cell_type": "code",
   "execution_count": 16,
   "metadata": {},
   "outputs": [
    {
     "name": "stdout",
     "output_type": "stream",
     "text": [
      "289.1032089115584 2.331477491222245\n"
     ]
    }
   ],
   "source": [
    "print(sum_res,error)"
   ]
  },
  {
   "cell_type": "markdown",
   "metadata": {},
   "source": [
    "<a id=\"MLR\"> </a>\n",
    "## 2. Multiple Linear Regression(MLR)"
   ]
  },
  {
   "cell_type": "markdown",
   "metadata": {
    "collapsed": true
   },
   "source": [
    "<table align=\"left\">\n",
    "    <tr>\n",
    "        <td width=\"6%\">\n",
    "            <img src=\"question_icon.png\">\n",
    "        </td>\n",
    "        <td>\n",
    "            <div align=\"left\", style=\"font-size:120%\">\n",
    "                <font color=\"#21618C\">\n",
    "                    <b>3. Analyze the impact of immunization on life expectancy. </b>\n",
    "                </font>\n",
    "            </div>\n",
    "        </td>\n",
    "    </tr>\n",
    "</table>"
   ]
  },
  {
   "cell_type": "code",
   "execution_count": 17,
   "metadata": {
    "scrolled": true
   },
   "outputs": [
    {
     "data": {
      "text/html": [
       "<table class=\"simpletable\">\n",
       "<caption>OLS Regression Results</caption>\n",
       "<tr>\n",
       "  <th>Dep. Variable:</th>        <td>Expected</td>     <th>  R-squared (uncentered):</th>      <td>   0.961</td>\n",
       "</tr>\n",
       "<tr>\n",
       "  <th>Model:</th>                   <td>OLS</td>       <th>  Adj. R-squared (uncentered):</th> <td>   0.960</td>\n",
       "</tr>\n",
       "<tr>\n",
       "  <th>Method:</th>             <td>Least Squares</td>  <th>  F-statistic:       </th>          <td>   998.7</td>\n",
       "</tr>\n",
       "<tr>\n",
       "  <th>Date:</th>             <td>Fri, 30 Jul 2021</td> <th>  Prob (F-statistic):</th>          <td>3.75e-85</td>\n",
       "</tr>\n",
       "<tr>\n",
       "  <th>Time:</th>                 <td>21:32:10</td>     <th>  Log-Likelihood:    </th>          <td> -504.34</td>\n",
       "</tr>\n",
       "<tr>\n",
       "  <th>No. Observations:</th>      <td>   124</td>      <th>  AIC:               </th>          <td>   1015.</td>\n",
       "</tr>\n",
       "<tr>\n",
       "  <th>Df Residuals:</th>          <td>   121</td>      <th>  BIC:               </th>          <td>   1023.</td>\n",
       "</tr>\n",
       "<tr>\n",
       "  <th>Df Model:</th>              <td>     3</td>      <th>                     </th>              <td> </td>   \n",
       "</tr>\n",
       "<tr>\n",
       "  <th>Covariance Type:</th>      <td>nonrobust</td>    <th>                     </th>              <td> </td>   \n",
       "</tr>\n",
       "</table>\n",
       "<table class=\"simpletable\">\n",
       "<tr>\n",
       "       <td></td>          <th>coef</th>     <th>std err</th>      <th>t</th>      <th>P>|t|</th>  <th>[0.025</th>    <th>0.975]</th>  \n",
       "</tr>\n",
       "<tr>\n",
       "  <th>Hepatitis </th>  <td>   -0.0282</td> <td>    0.122</td> <td>   -0.232</td> <td> 0.817</td> <td>   -0.269</td> <td>    0.213</td>\n",
       "</tr>\n",
       "<tr>\n",
       "  <th>Polio</th>       <td>    0.2922</td> <td>    0.075</td> <td>    3.912</td> <td> 0.000</td> <td>    0.144</td> <td>    0.440</td>\n",
       "</tr>\n",
       "<tr>\n",
       "  <th>Diphtheria </th> <td>    0.5223</td> <td>    0.142</td> <td>    3.683</td> <td> 0.000</td> <td>    0.242</td> <td>    0.803</td>\n",
       "</tr>\n",
       "</table>\n",
       "<table class=\"simpletable\">\n",
       "<tr>\n",
       "  <th>Omnibus:</th>       <td>54.731</td> <th>  Durbin-Watson:     </th> <td>   1.127</td>\n",
       "</tr>\n",
       "<tr>\n",
       "  <th>Prob(Omnibus):</th> <td> 0.000</td> <th>  Jarque-Bera (JB):  </th> <td> 175.134</td>\n",
       "</tr>\n",
       "<tr>\n",
       "  <th>Skew:</th>          <td> 1.632</td> <th>  Prob(JB):          </th> <td>9.34e-39</td>\n",
       "</tr>\n",
       "<tr>\n",
       "  <th>Kurtosis:</th>      <td> 7.821</td> <th>  Cond. No.          </th> <td>    21.7</td>\n",
       "</tr>\n",
       "</table><br/><br/>Notes:<br/>[1] R² is computed without centering (uncentered) since the model does not contain a constant.<br/>[2] Standard Errors assume that the covariance matrix of the errors is correctly specified."
      ],
      "text/plain": [
       "<class 'statsmodels.iolib.summary.Summary'>\n",
       "\"\"\"\n",
       "                                 OLS Regression Results                                \n",
       "=======================================================================================\n",
       "Dep. Variable:               Expected   R-squared (uncentered):                   0.961\n",
       "Model:                            OLS   Adj. R-squared (uncentered):              0.960\n",
       "Method:                 Least Squares   F-statistic:                              998.7\n",
       "Date:                Fri, 30 Jul 2021   Prob (F-statistic):                    3.75e-85\n",
       "Time:                        21:32:10   Log-Likelihood:                         -504.34\n",
       "No. Observations:                 124   AIC:                                      1015.\n",
       "Df Residuals:                     121   BIC:                                      1023.\n",
       "Df Model:                           3                                                  \n",
       "Covariance Type:            nonrobust                                                  \n",
       "===============================================================================\n",
       "                  coef    std err          t      P>|t|      [0.025      0.975]\n",
       "-------------------------------------------------------------------------------\n",
       "Hepatitis      -0.0282      0.122     -0.232      0.817      -0.269       0.213\n",
       "Polio           0.2922      0.075      3.912      0.000       0.144       0.440\n",
       "Diphtheria      0.5223      0.142      3.683      0.000       0.242       0.803\n",
       "==============================================================================\n",
       "Omnibus:                       54.731   Durbin-Watson:                   1.127\n",
       "Prob(Omnibus):                  0.000   Jarque-Bera (JB):              175.134\n",
       "Skew:                           1.632   Prob(JB):                     9.34e-39\n",
       "Kurtosis:                       7.821   Cond. No.                         21.7\n",
       "==============================================================================\n",
       "\n",
       "Notes:\n",
       "[1] R² is computed without centering (uncentered) since the model does not contain a constant.\n",
       "[2] Standard Errors assume that the covariance matrix of the errors is correctly specified.\n",
       "\"\"\""
      ]
     },
     "execution_count": 17,
     "metadata": {},
     "output_type": "execute_result"
    }
   ],
   "source": [
    "x=data.iloc[:,[4,8,9]]\n",
    "y=data.Expected\n",
    "\n",
    "X=sm.add_constant\n",
    "model_first=sm.OLS(y,x).fit()\n",
    "model_first.summary()"
   ]
  },
  {
   "cell_type": "code",
   "execution_count": 92,
   "metadata": {},
   "outputs": [],
   "source": [
    "#R2, adj is not that high,----- so the model is not that significant"
   ]
  },
  {
   "cell_type": "code",
   "execution_count": 93,
   "metadata": {},
   "outputs": [],
   "source": [
    "#b0 57  of age\n",
    "#B1: neg rel\n",
    "#B2: pos rel\n",
    "#B3: pos rel"
   ]
  },
  {
   "cell_type": "code",
   "execution_count": 94,
   "metadata": {},
   "outputs": [],
   "source": [
    "#significant relatio with ditpthoria,polio"
   ]
  },
  {
   "cell_type": "markdown",
   "metadata": {
    "collapsed": true
   },
   "source": [
    "<table align=\"left\">\n",
    "    <tr>\n",
    "        <td width=\"6%\">\n",
    "            <img src=\"question_icon.png\">\n",
    "        </td>\n",
    "        <td>\n",
    "            <div align=\"left\", style=\"font-size:120%\">\n",
    "                <font color=\"#21618C\">\n",
    "                    <b>4. If the information that whether the country is a developed or a developing country is included, does it alter the impact of immunzation on life expectancy ?</b>\n",
    "                </font>\n",
    "            </div>\n",
    "        </td>\n",
    "    </tr>\n",
    "</table>"
   ]
  },
  {
   "cell_type": "code",
   "execution_count": 18,
   "metadata": {},
   "outputs": [
    {
     "data": {
      "text/html": [
       "<table class=\"simpletable\">\n",
       "<caption>OLS Regression Results</caption>\n",
       "<tr>\n",
       "  <th>Dep. Variable:</th>        <td>Expected</td>     <th>  R-squared:         </th> <td>   0.321</td>\n",
       "</tr>\n",
       "<tr>\n",
       "  <th>Model:</th>                   <td>OLS</td>       <th>  Adj. R-squared:    </th> <td>   0.298</td>\n",
       "</tr>\n",
       "<tr>\n",
       "  <th>Method:</th>             <td>Least Squares</td>  <th>  F-statistic:       </th> <td>   14.06</td>\n",
       "</tr>\n",
       "<tr>\n",
       "  <th>Date:</th>             <td>Fri, 30 Jul 2021</td> <th>  Prob (F-statistic):</th> <td>2.00e-09</td>\n",
       "</tr>\n",
       "<tr>\n",
       "  <th>Time:</th>                 <td>21:32:14</td>     <th>  Log-Likelihood:    </th> <td> -416.35</td>\n",
       "</tr>\n",
       "<tr>\n",
       "  <th>No. Observations:</th>      <td>   124</td>      <th>  AIC:               </th> <td>   842.7</td>\n",
       "</tr>\n",
       "<tr>\n",
       "  <th>Df Residuals:</th>          <td>   119</td>      <th>  BIC:               </th> <td>   856.8</td>\n",
       "</tr>\n",
       "<tr>\n",
       "  <th>Df Model:</th>              <td>     4</td>      <th>                     </th>     <td> </td>   \n",
       "</tr>\n",
       "<tr>\n",
       "  <th>Covariance Type:</th>      <td>nonrobust</td>    <th>                     </th>     <td> </td>   \n",
       "</tr>\n",
       "</table>\n",
       "<table class=\"simpletable\">\n",
       "<tr>\n",
       "          <td></td>             <th>coef</th>     <th>std err</th>      <th>t</th>      <th>P>|t|</th>  <th>[0.025</th>    <th>0.975]</th>  \n",
       "</tr>\n",
       "<tr>\n",
       "  <th>const</th>             <td>   69.8090</td> <td>    3.771</td> <td>   18.512</td> <td> 0.000</td> <td>   62.342</td> <td>   77.276</td>\n",
       "</tr>\n",
       "<tr>\n",
       "  <th>Hepatitis </th>        <td>   -0.0035</td> <td>    0.063</td> <td>   -0.056</td> <td> 0.955</td> <td>   -0.128</td> <td>    0.121</td>\n",
       "</tr>\n",
       "<tr>\n",
       "  <th>Polio</th>             <td>    0.0771</td> <td>    0.039</td> <td>    1.993</td> <td> 0.049</td> <td>    0.000</td> <td>    0.154</td>\n",
       "</tr>\n",
       "<tr>\n",
       "  <th>Diphtheria </th>       <td>    0.0456</td> <td>    0.076</td> <td>    0.602</td> <td> 0.548</td> <td>   -0.104</td> <td>    0.196</td>\n",
       "</tr>\n",
       "<tr>\n",
       "  <th>status_Developing</th> <td>  -10.6036</td> <td>    1.872</td> <td>   -5.664</td> <td> 0.000</td> <td>  -14.310</td> <td>   -6.897</td>\n",
       "</tr>\n",
       "</table>\n",
       "<table class=\"simpletable\">\n",
       "<tr>\n",
       "  <th>Omnibus:</th>       <td> 2.973</td> <th>  Durbin-Watson:     </th> <td>   1.211</td>\n",
       "</tr>\n",
       "<tr>\n",
       "  <th>Prob(Omnibus):</th> <td> 0.226</td> <th>  Jarque-Bera (JB):  </th> <td>   2.635</td>\n",
       "</tr>\n",
       "<tr>\n",
       "  <th>Skew:</th>          <td>-0.355</td> <th>  Prob(JB):          </th> <td>   0.268</td>\n",
       "</tr>\n",
       "<tr>\n",
       "  <th>Kurtosis:</th>      <td> 3.077</td> <th>  Cond. No.          </th> <td>    946.</td>\n",
       "</tr>\n",
       "</table><br/><br/>Notes:<br/>[1] Standard Errors assume that the covariance matrix of the errors is correctly specified."
      ],
      "text/plain": [
       "<class 'statsmodels.iolib.summary.Summary'>\n",
       "\"\"\"\n",
       "                            OLS Regression Results                            \n",
       "==============================================================================\n",
       "Dep. Variable:               Expected   R-squared:                       0.321\n",
       "Model:                            OLS   Adj. R-squared:                  0.298\n",
       "Method:                 Least Squares   F-statistic:                     14.06\n",
       "Date:                Fri, 30 Jul 2021   Prob (F-statistic):           2.00e-09\n",
       "Time:                        21:32:14   Log-Likelihood:                -416.35\n",
       "No. Observations:                 124   AIC:                             842.7\n",
       "Df Residuals:                     119   BIC:                             856.8\n",
       "Df Model:                           4                                         \n",
       "Covariance Type:            nonrobust                                         \n",
       "=====================================================================================\n",
       "                        coef    std err          t      P>|t|      [0.025      0.975]\n",
       "-------------------------------------------------------------------------------------\n",
       "const                69.8090      3.771     18.512      0.000      62.342      77.276\n",
       "Hepatitis            -0.0035      0.063     -0.056      0.955      -0.128       0.121\n",
       "Polio                 0.0771      0.039      1.993      0.049       0.000       0.154\n",
       "Diphtheria            0.0456      0.076      0.602      0.548      -0.104       0.196\n",
       "status_Developing   -10.6036      1.872     -5.664      0.000     -14.310      -6.897\n",
       "==============================================================================\n",
       "Omnibus:                        2.973   Durbin-Watson:                   1.211\n",
       "Prob(Omnibus):                  0.226   Jarque-Bera (JB):                2.635\n",
       "Skew:                          -0.355   Prob(JB):                        0.268\n",
       "Kurtosis:                       3.077   Cond. No.                         946.\n",
       "==============================================================================\n",
       "\n",
       "Notes:\n",
       "[1] Standard Errors assume that the covariance matrix of the errors is correctly specified.\n",
       "\"\"\""
      ]
     },
     "execution_count": 18,
     "metadata": {},
     "output_type": "execute_result"
    }
   ],
   "source": [
    "x=data.iloc[:,[4,8,9]]\n",
    "y=data.Expected\n",
    "x=sm.add_constant(x)\n",
    "Status_encode=pd.get_dummies(data['Status'], drop_first=True , prefix=\"status\")\n",
    "x=pd.concat([pd.DataFrame(x),Status_encode],axis=1)\n",
    "model_first=sm.OLS(y,x).fit()\n",
    "model_first.summary()"
   ]
  },
  {
   "cell_type": "code",
   "execution_count": 43,
   "metadata": {},
   "outputs": [],
   "source": [
    "#r2 and adj r2 is very low so not a very significant model"
   ]
  },
  {
   "cell_type": "code",
   "execution_count": 44,
   "metadata": {},
   "outputs": [],
   "source": [
    "#B0=69 age\n",
    "#B1= neg.B2 ,B3=pos\n",
    "#B4=-10.36"
   ]
  },
  {
   "cell_type": "markdown",
   "metadata": {},
   "source": [
    "<a id=\"ins\"> </a>\n",
    "## 3. Inferences about slope"
   ]
  },
  {
   "cell_type": "markdown",
   "metadata": {
    "collapsed": true
   },
   "source": [
    "<table align=\"left\">\n",
    "    <tr>\n",
    "        <td width=\"6%\">\n",
    "            <img src=\"question_icon.png\">\n",
    "        </td>\n",
    "        <td>\n",
    "            <div align=\"left\", style=\"font-size:120%\">\n",
    "                <font color=\"#21618C\">\n",
    "                    <b>5. Find the significant variables in the full model when all the variables are considered for prediction of life expectancy.</b>\n",
    "                </font>\n",
    "            </div>\n",
    "        </td>\n",
    "    </tr>\n",
    "</table>"
   ]
  },
  {
   "cell_type": "code",
   "execution_count": 19,
   "metadata": {},
   "outputs": [
    {
     "data": {
      "text/plain": [
       "const               0.000000\n",
       "Adult_Mortality     0.000000\n",
       "Hepatitis           0.031500\n",
       " HIV                0.000157\n",
       "Population          0.026100\n",
       "Income_Index        0.000000\n",
       "status_Developing   0.033838\n",
       "dtype: float64"
      ]
     },
     "execution_count": 19,
     "metadata": {},
     "output_type": "execute_result"
    }
   ],
   "source": [
    "x=data.iloc[:,2:16]\n",
    "y=data.Expected\n",
    "x=sm.add_constant(x)\n",
    "Status_encode=pd.get_dummies(data['Status'], drop_first=True , prefix=\"status\")\n",
    "x=pd.concat([pd.DataFrame(x),Status_encode],axis=1)\n",
    "model_first=sm.OLS(y,x).fit()\n",
    "model_first.summary()\n",
    "np.round(model_first.pvalues[model_first.pvalues<0.05],6)"
   ]
  },
  {
   "cell_type": "markdown",
   "metadata": {
    "collapsed": true
   },
   "source": [
    "<table align=\"left\">\n",
    "    <tr>\n",
    "        <td width=\"6%\">\n",
    "            <img src=\"question_icon.png\">\n",
    "        </td>\n",
    "        <td>\n",
    "            <div align=\"left\", style=\"font-size:120%\">\n",
    "                <font color=\"#21618C\">\n",
    "                    <b>6. If economic indices are used to predict the life expectancy, calculate the total variation for the observed values of life expectancy.</b>\n",
    "                </font>\n",
    "            </div>\n",
    "        </td>\n",
    "    </tr>\n",
    "</table>"
   ]
  },
  {
   "cell_type": "code",
   "execution_count": 20,
   "metadata": {},
   "outputs": [],
   "source": [
    "x=data.iloc[:,[11,15]]\n",
    "y=data.Expected\n",
    "x=sm.add_constant(x)\n",
    "\n",
    "model_first=sm.OLS(y,x).fit()\n",
    "yperd=model_first.predict(x)"
   ]
  },
  {
   "cell_type": "code",
   "execution_count": 21,
   "metadata": {},
   "outputs": [
    {
     "name": "stdout",
     "output_type": "stream",
     "text": [
      "ssr 6292.571603999787 sse 2527.2338798711357 sst 8819.805483870923\n"
     ]
    }
   ],
   "source": [
    "#ssr,sst,sse\n",
    "#sst=ssr-sse\n",
    "\n",
    "ssr=np.sum((yperd-np.mean(y))**2)\n",
    "sse=np.sum((yperd-y)**2)\n",
    "sst=ssr+sse\n",
    "\n",
    "print('ssr',ssr,'sse',sse,'sst',sst)"
   ]
  },
  {
   "cell_type": "markdown",
   "metadata": {
    "collapsed": true
   },
   "source": [
    "<table align=\"left\">\n",
    "    <tr>\n",
    "        <td width=\"6%\">\n",
    "            <img src=\"question_icon.png\">\n",
    "        </td>\n",
    "        <td>\n",
    "            <div align=\"left\", style=\"font-size:120%\">\n",
    "                <font color=\"#21618C\">\n",
    "                    <b>7. Determine the lower bound and upper bound for estimated value of life expectancy per unit change in HDI (for income)</b>\n",
    "                </font>\n",
    "            </div>\n",
    "        </td>\n",
    "    </tr>\n",
    "</table>"
   ]
  },
  {
   "cell_type": "code",
   "execution_count": 22,
   "metadata": {},
   "outputs": [],
   "source": [
    "x=data.iloc[:,[15]]\n",
    "y=data.Expected\n",
    "\n",
    "#X=sm.add_constant\n",
    "model_first=sm.OLS(y,x).fit()\n"
   ]
  },
  {
   "cell_type": "code",
   "execution_count": 23,
   "metadata": {},
   "outputs": [
    {
     "data": {
      "text/html": [
       "<div>\n",
       "<style scoped>\n",
       "    .dataframe tbody tr th:only-of-type {\n",
       "        vertical-align: middle;\n",
       "    }\n",
       "\n",
       "    .dataframe tbody tr th {\n",
       "        vertical-align: top;\n",
       "    }\n",
       "\n",
       "    .dataframe thead th {\n",
       "        text-align: right;\n",
       "    }\n",
       "</style>\n",
       "<table border=\"1\" class=\"dataframe\">\n",
       "  <thead>\n",
       "    <tr style=\"text-align: right;\">\n",
       "      <th></th>\n",
       "      <th>0</th>\n",
       "      <th>1</th>\n",
       "    </tr>\n",
       "  </thead>\n",
       "  <tbody>\n",
       "    <tr>\n",
       "      <th>Income_Index</th>\n",
       "      <td>97.009477</td>\n",
       "      <td>102.472029</td>\n",
       "    </tr>\n",
       "  </tbody>\n",
       "</table>\n",
       "</div>"
      ],
      "text/plain": [
       "                     0          1\n",
       "Income_Index 97.009477 102.472029"
      ]
     },
     "execution_count": 23,
     "metadata": {},
     "output_type": "execute_result"
    }
   ],
   "source": [
    "model_first.conf_int()"
   ]
  },
  {
   "cell_type": "markdown",
   "metadata": {},
   "source": [
    "<a id=\"ML_eval\"> </a>\n",
    "## 4. Model Evaluation"
   ]
  },
  {
   "cell_type": "markdown",
   "metadata": {
    "collapsed": true
   },
   "source": [
    "<table align=\"left\">\n",
    "    <tr>\n",
    "        <td width=\"6%\">\n",
    "            <img src=\"question_icon.png\">\n",
    "        </td>\n",
    "        <td>\n",
    "            <div align=\"left\", style=\"font-size:120%\">\n",
    "                <font color=\"#21618C\">\n",
    "                    <b>8. A model is built to analyze the impact of mortality on Life expectancy. Would the addition of information about population of the country lead to a better prediction?</b>\n",
    "                </font>\n",
    "            </div>\n",
    "        </td>\n",
    "    </tr>\n",
    "</table>"
   ]
  },
  {
   "cell_type": "code",
   "execution_count": 24,
   "metadata": {},
   "outputs": [
    {
     "data": {
      "text/html": [
       "<table class=\"simpletable\">\n",
       "<caption>OLS Regression Results</caption>\n",
       "<tr>\n",
       "  <th>Dep. Variable:</th>        <td>Expected</td>     <th>  R-squared:         </th> <td>   0.530</td>\n",
       "</tr>\n",
       "<tr>\n",
       "  <th>Model:</th>                   <td>OLS</td>       <th>  Adj. R-squared:    </th> <td>   0.519</td>\n",
       "</tr>\n",
       "<tr>\n",
       "  <th>Method:</th>             <td>Least Squares</td>  <th>  F-statistic:       </th> <td>   45.18</td>\n",
       "</tr>\n",
       "<tr>\n",
       "  <th>Date:</th>             <td>Fri, 30 Jul 2021</td> <th>  Prob (F-statistic):</th> <td>1.29e-19</td>\n",
       "</tr>\n",
       "<tr>\n",
       "  <th>Time:</th>                 <td>21:32:32</td>     <th>  Log-Likelihood:    </th> <td> -393.48</td>\n",
       "</tr>\n",
       "<tr>\n",
       "  <th>No. Observations:</th>      <td>   124</td>      <th>  AIC:               </th> <td>   795.0</td>\n",
       "</tr>\n",
       "<tr>\n",
       "  <th>Df Residuals:</th>          <td>   120</td>      <th>  BIC:               </th> <td>   806.2</td>\n",
       "</tr>\n",
       "<tr>\n",
       "  <th>Df Model:</th>              <td>     3</td>      <th>                     </th>     <td> </td>   \n",
       "</tr>\n",
       "<tr>\n",
       "  <th>Covariance Type:</th>      <td>nonrobust</td>    <th>                     </th>     <td> </td>   \n",
       "</tr>\n",
       "</table>\n",
       "<table class=\"simpletable\">\n",
       "<tr>\n",
       "          <td></td>             <th>coef</th>     <th>std err</th>      <th>t</th>      <th>P>|t|</th>  <th>[0.025</th>    <th>0.975]</th>  \n",
       "</tr>\n",
       "<tr>\n",
       "  <th>const</th>             <td>   80.3623</td> <td>    1.004</td> <td>   80.060</td> <td> 0.000</td> <td>   78.375</td> <td>   82.350</td>\n",
       "</tr>\n",
       "<tr>\n",
       "  <th>Adult_Mortality</th>   <td>   -0.0548</td> <td>    0.005</td> <td>   -9.996</td> <td> 0.000</td> <td>   -0.066</td> <td>   -0.044</td>\n",
       "</tr>\n",
       "<tr>\n",
       "  <th>Infant_Deaths</th>     <td>    0.0905</td> <td>    0.049</td> <td>    1.844</td> <td> 0.068</td> <td>   -0.007</td> <td>    0.188</td>\n",
       "</tr>\n",
       "<tr>\n",
       "  <th>Underfive_Deaths </th> <td>   -0.0775</td> <td>    0.038</td> <td>   -2.033</td> <td> 0.044</td> <td>   -0.153</td> <td>   -0.002</td>\n",
       "</tr>\n",
       "</table>\n",
       "<table class=\"simpletable\">\n",
       "<tr>\n",
       "  <th>Omnibus:</th>       <td>54.244</td> <th>  Durbin-Watson:     </th> <td>   1.530</td>\n",
       "</tr>\n",
       "<tr>\n",
       "  <th>Prob(Omnibus):</th> <td> 0.000</td> <th>  Jarque-Bera (JB):  </th> <td> 142.185</td>\n",
       "</tr>\n",
       "<tr>\n",
       "  <th>Skew:</th>          <td>-1.734</td> <th>  Prob(JB):          </th> <td>1.33e-31</td>\n",
       "</tr>\n",
       "<tr>\n",
       "  <th>Kurtosis:</th>      <td> 6.937</td> <th>  Cond. No.          </th> <td>    392.</td>\n",
       "</tr>\n",
       "</table><br/><br/>Notes:<br/>[1] Standard Errors assume that the covariance matrix of the errors is correctly specified."
      ],
      "text/plain": [
       "<class 'statsmodels.iolib.summary.Summary'>\n",
       "\"\"\"\n",
       "                            OLS Regression Results                            \n",
       "==============================================================================\n",
       "Dep. Variable:               Expected   R-squared:                       0.530\n",
       "Model:                            OLS   Adj. R-squared:                  0.519\n",
       "Method:                 Least Squares   F-statistic:                     45.18\n",
       "Date:                Fri, 30 Jul 2021   Prob (F-statistic):           1.29e-19\n",
       "Time:                        21:32:32   Log-Likelihood:                -393.48\n",
       "No. Observations:                 124   AIC:                             795.0\n",
       "Df Residuals:                     120   BIC:                             806.2\n",
       "Df Model:                           3                                         \n",
       "Covariance Type:            nonrobust                                         \n",
       "=====================================================================================\n",
       "                        coef    std err          t      P>|t|      [0.025      0.975]\n",
       "-------------------------------------------------------------------------------------\n",
       "const                80.3623      1.004     80.060      0.000      78.375      82.350\n",
       "Adult_Mortality      -0.0548      0.005     -9.996      0.000      -0.066      -0.044\n",
       "Infant_Deaths         0.0905      0.049      1.844      0.068      -0.007       0.188\n",
       "Underfive_Deaths     -0.0775      0.038     -2.033      0.044      -0.153      -0.002\n",
       "==============================================================================\n",
       "Omnibus:                       54.244   Durbin-Watson:                   1.530\n",
       "Prob(Omnibus):                  0.000   Jarque-Bera (JB):              142.185\n",
       "Skew:                          -1.734   Prob(JB):                     1.33e-31\n",
       "Kurtosis:                       6.937   Cond. No.                         392.\n",
       "==============================================================================\n",
       "\n",
       "Notes:\n",
       "[1] Standard Errors assume that the covariance matrix of the errors is correctly specified.\n",
       "\"\"\""
      ]
     },
     "execution_count": 24,
     "metadata": {},
     "output_type": "execute_result"
    }
   ],
   "source": [
    "x=data.iloc[:,[2,3,7]]\n",
    "y=data.Expected\n",
    "X=sm.add_constant(x)\n",
    "model_first=sm.OLS(y,X).fit()\n",
    "model_first.summary()"
   ]
  },
  {
   "cell_type": "code",
   "execution_count": 25,
   "metadata": {},
   "outputs": [
    {
     "data": {
      "text/html": [
       "<table class=\"simpletable\">\n",
       "<caption>OLS Regression Results</caption>\n",
       "<tr>\n",
       "  <th>Dep. Variable:</th>        <td>Expected</td>     <th>  R-squared:         </th> <td>   0.531</td>\n",
       "</tr>\n",
       "<tr>\n",
       "  <th>Model:</th>                   <td>OLS</td>       <th>  Adj. R-squared:    </th> <td>   0.515</td>\n",
       "</tr>\n",
       "<tr>\n",
       "  <th>Method:</th>             <td>Least Squares</td>  <th>  F-statistic:       </th> <td>   33.68</td>\n",
       "</tr>\n",
       "<tr>\n",
       "  <th>Date:</th>             <td>Fri, 30 Jul 2021</td> <th>  Prob (F-statistic):</th> <td>8.93e-19</td>\n",
       "</tr>\n",
       "<tr>\n",
       "  <th>Time:</th>                 <td>21:32:36</td>     <th>  Log-Likelihood:    </th> <td> -393.41</td>\n",
       "</tr>\n",
       "<tr>\n",
       "  <th>No. Observations:</th>      <td>   124</td>      <th>  AIC:               </th> <td>   796.8</td>\n",
       "</tr>\n",
       "<tr>\n",
       "  <th>Df Residuals:</th>          <td>   119</td>      <th>  BIC:               </th> <td>   810.9</td>\n",
       "</tr>\n",
       "<tr>\n",
       "  <th>Df Model:</th>              <td>     4</td>      <th>                     </th>     <td> </td>   \n",
       "</tr>\n",
       "<tr>\n",
       "  <th>Covariance Type:</th>      <td>nonrobust</td>    <th>                     </th>     <td> </td>   \n",
       "</tr>\n",
       "</table>\n",
       "<table class=\"simpletable\">\n",
       "<tr>\n",
       "          <td></td>             <th>coef</th>     <th>std err</th>      <th>t</th>      <th>P>|t|</th>  <th>[0.025</th>    <th>0.975]</th>  \n",
       "</tr>\n",
       "<tr>\n",
       "  <th>const</th>             <td>   80.3071</td> <td>    1.019</td> <td>   78.813</td> <td> 0.000</td> <td>   78.289</td> <td>   82.325</td>\n",
       "</tr>\n",
       "<tr>\n",
       "  <th>Adult_Mortality</th>   <td>   -0.0550</td> <td>    0.006</td> <td>   -9.929</td> <td> 0.000</td> <td>   -0.066</td> <td>   -0.044</td>\n",
       "</tr>\n",
       "<tr>\n",
       "  <th>Infant_Deaths</th>     <td>    0.0886</td> <td>    0.050</td> <td>    1.788</td> <td> 0.076</td> <td>   -0.010</td> <td>    0.187</td>\n",
       "</tr>\n",
       "<tr>\n",
       "  <th>Underfive_Deaths </th> <td>   -0.0760</td> <td>    0.038</td> <td>   -1.975</td> <td> 0.051</td> <td>   -0.152</td> <td>    0.000</td>\n",
       "</tr>\n",
       "<tr>\n",
       "  <th>Population</th>        <td> 4.736e-09</td> <td> 1.31e-08</td> <td>    0.361</td> <td> 0.718</td> <td>-2.12e-08</td> <td> 3.07e-08</td>\n",
       "</tr>\n",
       "</table>\n",
       "<table class=\"simpletable\">\n",
       "<tr>\n",
       "  <th>Omnibus:</th>       <td>54.418</td> <th>  Durbin-Watson:     </th> <td>   1.537</td>\n",
       "</tr>\n",
       "<tr>\n",
       "  <th>Prob(Omnibus):</th> <td> 0.000</td> <th>  Jarque-Bera (JB):  </th> <td> 143.042</td>\n",
       "</tr>\n",
       "<tr>\n",
       "  <th>Skew:</th>          <td>-1.738</td> <th>  Prob(JB):          </th> <td>8.69e-32</td>\n",
       "</tr>\n",
       "<tr>\n",
       "  <th>Kurtosis:</th>      <td> 6.949</td> <th>  Cond. No.          </th> <td>8.72e+07</td>\n",
       "</tr>\n",
       "</table><br/><br/>Notes:<br/>[1] Standard Errors assume that the covariance matrix of the errors is correctly specified.<br/>[2] The condition number is large, 8.72e+07. This might indicate that there are<br/>strong multicollinearity or other numerical problems."
      ],
      "text/plain": [
       "<class 'statsmodels.iolib.summary.Summary'>\n",
       "\"\"\"\n",
       "                            OLS Regression Results                            \n",
       "==============================================================================\n",
       "Dep. Variable:               Expected   R-squared:                       0.531\n",
       "Model:                            OLS   Adj. R-squared:                  0.515\n",
       "Method:                 Least Squares   F-statistic:                     33.68\n",
       "Date:                Fri, 30 Jul 2021   Prob (F-statistic):           8.93e-19\n",
       "Time:                        21:32:36   Log-Likelihood:                -393.41\n",
       "No. Observations:                 124   AIC:                             796.8\n",
       "Df Residuals:                     119   BIC:                             810.9\n",
       "Df Model:                           4                                         \n",
       "Covariance Type:            nonrobust                                         \n",
       "=====================================================================================\n",
       "                        coef    std err          t      P>|t|      [0.025      0.975]\n",
       "-------------------------------------------------------------------------------------\n",
       "const                80.3071      1.019     78.813      0.000      78.289      82.325\n",
       "Adult_Mortality      -0.0550      0.006     -9.929      0.000      -0.066      -0.044\n",
       "Infant_Deaths         0.0886      0.050      1.788      0.076      -0.010       0.187\n",
       "Underfive_Deaths     -0.0760      0.038     -1.975      0.051      -0.152       0.000\n",
       "Population         4.736e-09   1.31e-08      0.361      0.718   -2.12e-08    3.07e-08\n",
       "==============================================================================\n",
       "Omnibus:                       54.418   Durbin-Watson:                   1.537\n",
       "Prob(Omnibus):                  0.000   Jarque-Bera (JB):              143.042\n",
       "Skew:                          -1.738   Prob(JB):                     8.69e-32\n",
       "Kurtosis:                       6.949   Cond. No.                     8.72e+07\n",
       "==============================================================================\n",
       "\n",
       "Notes:\n",
       "[1] Standard Errors assume that the covariance matrix of the errors is correctly specified.\n",
       "[2] The condition number is large, 8.72e+07. This might indicate that there are\n",
       "strong multicollinearity or other numerical problems.\n",
       "\"\"\""
      ]
     },
     "execution_count": 25,
     "metadata": {},
     "output_type": "execute_result"
    }
   ],
   "source": [
    "x=data.iloc[:,[2,3,7,12]]\n",
    "y=data.Expected\n",
    "X=sm.add_constant(x)\n",
    "model_first=sm.OLS(y,X).fit()\n",
    "model_first.summary()"
   ]
  },
  {
   "cell_type": "code",
   "execution_count": null,
   "metadata": {},
   "outputs": [],
   "source": [
    "#although our r2 values are same but science their reduction in adj r2,so we can say the model after adding population para is not imporoved"
   ]
  },
  {
   "cell_type": "code",
   "execution_count": 52,
   "metadata": {},
   "outputs": [],
   "source": [
    "from sklearn.metrics import mean_squared_error,mean_absolute_error"
   ]
  },
  {
   "cell_type": "code",
   "execution_count": null,
   "metadata": {},
   "outputs": [],
   "source": []
  },
  {
   "cell_type": "markdown",
   "metadata": {
    "collapsed": true
   },
   "source": [
    "<table align=\"left\">\n",
    "    <tr>\n",
    "        <td width=\"6%\">\n",
    "            <img src=\"question_icon.png\">\n",
    "        </td>\n",
    "        <td>\n",
    "            <div align=\"left\", style=\"font-size:120%\">\n",
    "                <font color=\"#21618C\">\n",
    "                    <b>9. Fit a full model and test the significance of the overall model. <br></b>\n",
    "                </font>\n",
    "            </div>\n",
    "        </td>\n",
    "    </tr>\n",
    "</table>"
   ]
  },
  {
   "cell_type": "code",
   "execution_count": 26,
   "metadata": {
    "scrolled": false
   },
   "outputs": [
    {
     "data": {
      "text/html": [
       "<table class=\"simpletable\">\n",
       "<caption>OLS Regression Results</caption>\n",
       "<tr>\n",
       "  <th>Dep. Variable:</th>        <td>Expected</td>     <th>  R-squared:         </th> <td>   0.848</td>\n",
       "</tr>\n",
       "<tr>\n",
       "  <th>Model:</th>                   <td>OLS</td>       <th>  Adj. R-squared:    </th> <td>   0.826</td>\n",
       "</tr>\n",
       "<tr>\n",
       "  <th>Method:</th>             <td>Least Squares</td>  <th>  F-statistic:       </th> <td>   37.43</td>\n",
       "</tr>\n",
       "<tr>\n",
       "  <th>Date:</th>             <td>Fri, 30 Jul 2021</td> <th>  Prob (F-statistic):</th> <td>1.94e-36</td>\n",
       "</tr>\n",
       "<tr>\n",
       "  <th>Time:</th>                 <td>21:32:39</td>     <th>  Log-Likelihood:    </th> <td> -323.38</td>\n",
       "</tr>\n",
       "<tr>\n",
       "  <th>No. Observations:</th>      <td>   124</td>      <th>  AIC:               </th> <td>   680.8</td>\n",
       "</tr>\n",
       "<tr>\n",
       "  <th>Df Residuals:</th>          <td>   107</td>      <th>  BIC:               </th> <td>   728.7</td>\n",
       "</tr>\n",
       "<tr>\n",
       "  <th>Df Model:</th>              <td>    16</td>      <th>                     </th>     <td> </td>   \n",
       "</tr>\n",
       "<tr>\n",
       "  <th>Covariance Type:</th>      <td>nonrobust</td>    <th>                     </th>     <td> </td>   \n",
       "</tr>\n",
       "</table>\n",
       "<table class=\"simpletable\">\n",
       "<tr>\n",
       "           <td></td>             <th>coef</th>     <th>std err</th>      <th>t</th>      <th>P>|t|</th>  <th>[0.025</th>    <th>0.975]</th>  \n",
       "</tr>\n",
       "<tr>\n",
       "  <th>const</th>              <td>   60.0678</td> <td>    3.747</td> <td>   16.030</td> <td> 0.000</td> <td>   52.639</td> <td>   67.496</td>\n",
       "</tr>\n",
       "<tr>\n",
       "  <th>Adult_Mortality</th>    <td>   -0.0231</td> <td>    0.004</td> <td>   -5.685</td> <td> 0.000</td> <td>   -0.031</td> <td>   -0.015</td>\n",
       "</tr>\n",
       "<tr>\n",
       "  <th>Infant_Deaths</th>      <td>    0.0556</td> <td>    0.037</td> <td>    1.507</td> <td> 0.135</td> <td>   -0.018</td> <td>    0.129</td>\n",
       "</tr>\n",
       "<tr>\n",
       "  <th>Hepatitis </th>         <td>    0.0656</td> <td>    0.032</td> <td>    2.056</td> <td> 0.042</td> <td>    0.002</td> <td>    0.129</td>\n",
       "</tr>\n",
       "<tr>\n",
       "  <th>Measles </th>           <td> -5.93e-05</td> <td> 6.09e-05</td> <td>   -0.974</td> <td> 0.332</td> <td>   -0.000</td> <td> 6.14e-05</td>\n",
       "</tr>\n",
       "<tr>\n",
       "  <th> BMI </th>              <td>   -0.0266</td> <td>    0.023</td> <td>   -1.179</td> <td> 0.241</td> <td>   -0.071</td> <td>    0.018</td>\n",
       "</tr>\n",
       "<tr>\n",
       "  <th>Underfive_Deaths </th>  <td>   -0.0389</td> <td>    0.027</td> <td>   -1.439</td> <td> 0.153</td> <td>   -0.093</td> <td>    0.015</td>\n",
       "</tr>\n",
       "<tr>\n",
       "  <th>Polio</th>              <td>   -0.0091</td> <td>    0.022</td> <td>   -0.417</td> <td> 0.677</td> <td>   -0.053</td> <td>    0.034</td>\n",
       "</tr>\n",
       "<tr>\n",
       "  <th>Diphtheria </th>        <td>   -0.0345</td> <td>    0.040</td> <td>   -0.868</td> <td> 0.387</td> <td>   -0.113</td> <td>    0.044</td>\n",
       "</tr>\n",
       "<tr>\n",
       "  <th> HIV</th>               <td>   -1.0385</td> <td>    0.268</td> <td>   -3.881</td> <td> 0.000</td> <td>   -1.569</td> <td>   -0.508</td>\n",
       "</tr>\n",
       "<tr>\n",
       "  <th>GDP</th>                <td> 5.021e-05</td> <td> 3.48e-05</td> <td>    1.445</td> <td> 0.151</td> <td>-1.87e-05</td> <td>    0.000</td>\n",
       "</tr>\n",
       "<tr>\n",
       "  <th>Population</th>         <td>-1.845e-08</td> <td>  8.6e-09</td> <td>   -2.146</td> <td> 0.034</td> <td>-3.55e-08</td> <td>-1.41e-09</td>\n",
       "</tr>\n",
       "<tr>\n",
       "  <th>Malnourished10_19 </th> <td>   -0.4850</td> <td>    0.300</td> <td>   -1.616</td> <td> 0.109</td> <td>   -1.080</td> <td>    0.110</td>\n",
       "</tr>\n",
       "<tr>\n",
       "  <th>Malnourished5_9</th>    <td>    0.2983</td> <td>    0.283</td> <td>    1.053</td> <td> 0.294</td> <td>   -0.263</td> <td>    0.860</td>\n",
       "</tr>\n",
       "<tr>\n",
       "  <th>Income_Index</th>       <td>   18.6518</td> <td>    6.313</td> <td>    2.955</td> <td> 0.004</td> <td>    6.138</td> <td>   31.166</td>\n",
       "</tr>\n",
       "<tr>\n",
       "  <th>Schooling</th>          <td>    0.3599</td> <td>    0.346</td> <td>    1.040</td> <td> 0.301</td> <td>   -0.326</td> <td>    1.046</td>\n",
       "</tr>\n",
       "<tr>\n",
       "  <th>status_Developing</th>  <td>   -2.0360</td> <td>    1.168</td> <td>   -1.743</td> <td> 0.084</td> <td>   -4.352</td> <td>    0.280</td>\n",
       "</tr>\n",
       "</table>\n",
       "<table class=\"simpletable\">\n",
       "<tr>\n",
       "  <th>Omnibus:</th>       <td> 6.529</td> <th>  Durbin-Watson:     </th> <td>   1.754</td>\n",
       "</tr>\n",
       "<tr>\n",
       "  <th>Prob(Omnibus):</th> <td> 0.038</td> <th>  Jarque-Bera (JB):  </th> <td>  10.518</td>\n",
       "</tr>\n",
       "<tr>\n",
       "  <th>Skew:</th>          <td> 0.122</td> <th>  Prob(JB):          </th> <td> 0.00520</td>\n",
       "</tr>\n",
       "<tr>\n",
       "  <th>Kurtosis:</th>      <td> 4.406</td> <th>  Cond. No.          </th> <td>9.15e+08</td>\n",
       "</tr>\n",
       "</table><br/><br/>Notes:<br/>[1] Standard Errors assume that the covariance matrix of the errors is correctly specified.<br/>[2] The condition number is large, 9.15e+08. This might indicate that there are<br/>strong multicollinearity or other numerical problems."
      ],
      "text/plain": [
       "<class 'statsmodels.iolib.summary.Summary'>\n",
       "\"\"\"\n",
       "                            OLS Regression Results                            \n",
       "==============================================================================\n",
       "Dep. Variable:               Expected   R-squared:                       0.848\n",
       "Model:                            OLS   Adj. R-squared:                  0.826\n",
       "Method:                 Least Squares   F-statistic:                     37.43\n",
       "Date:                Fri, 30 Jul 2021   Prob (F-statistic):           1.94e-36\n",
       "Time:                        21:32:39   Log-Likelihood:                -323.38\n",
       "No. Observations:                 124   AIC:                             680.8\n",
       "Df Residuals:                     107   BIC:                             728.7\n",
       "Df Model:                          16                                         \n",
       "Covariance Type:            nonrobust                                         \n",
       "======================================================================================\n",
       "                         coef    std err          t      P>|t|      [0.025      0.975]\n",
       "--------------------------------------------------------------------------------------\n",
       "const                 60.0678      3.747     16.030      0.000      52.639      67.496\n",
       "Adult_Mortality       -0.0231      0.004     -5.685      0.000      -0.031      -0.015\n",
       "Infant_Deaths          0.0556      0.037      1.507      0.135      -0.018       0.129\n",
       "Hepatitis              0.0656      0.032      2.056      0.042       0.002       0.129\n",
       "Measles             -5.93e-05   6.09e-05     -0.974      0.332      -0.000    6.14e-05\n",
       " BMI                  -0.0266      0.023     -1.179      0.241      -0.071       0.018\n",
       "Underfive_Deaths      -0.0389      0.027     -1.439      0.153      -0.093       0.015\n",
       "Polio                 -0.0091      0.022     -0.417      0.677      -0.053       0.034\n",
       "Diphtheria            -0.0345      0.040     -0.868      0.387      -0.113       0.044\n",
       " HIV                  -1.0385      0.268     -3.881      0.000      -1.569      -0.508\n",
       "GDP                 5.021e-05   3.48e-05      1.445      0.151   -1.87e-05       0.000\n",
       "Population         -1.845e-08    8.6e-09     -2.146      0.034   -3.55e-08   -1.41e-09\n",
       "Malnourished10_19     -0.4850      0.300     -1.616      0.109      -1.080       0.110\n",
       "Malnourished5_9        0.2983      0.283      1.053      0.294      -0.263       0.860\n",
       "Income_Index          18.6518      6.313      2.955      0.004       6.138      31.166\n",
       "Schooling              0.3599      0.346      1.040      0.301      -0.326       1.046\n",
       "status_Developing     -2.0360      1.168     -1.743      0.084      -4.352       0.280\n",
       "==============================================================================\n",
       "Omnibus:                        6.529   Durbin-Watson:                   1.754\n",
       "Prob(Omnibus):                  0.038   Jarque-Bera (JB):               10.518\n",
       "Skew:                           0.122   Prob(JB):                      0.00520\n",
       "Kurtosis:                       4.406   Cond. No.                     9.15e+08\n",
       "==============================================================================\n",
       "\n",
       "Notes:\n",
       "[1] Standard Errors assume that the covariance matrix of the errors is correctly specified.\n",
       "[2] The condition number is large, 9.15e+08. This might indicate that there are\n",
       "strong multicollinearity or other numerical problems.\n",
       "\"\"\""
      ]
     },
     "execution_count": 26,
     "metadata": {},
     "output_type": "execute_result"
    }
   ],
   "source": [
    "X=data.iloc[:,1:17]\n",
    "y=data.Expected\n",
    "X=sm.add_constant(X)\n",
    "Status_encode=pd.get_dummies(data['Status'], drop_first= True, prefix= \"status\")\n",
    "X=pd.concat([pd.DataFrame(X),Status_encode], axis=1)\n",
    "X1=X.drop('Status',axis=1)\n",
    "model_full= sm.OLS(y,X1).fit()\n",
    "model_full.summary()\n"
   ]
  },
  {
   "cell_type": "code",
   "execution_count": 27,
   "metadata": {},
   "outputs": [
    {
     "data": {
      "text/plain": [
       "1.943066855484856e-36"
      ]
     },
     "execution_count": 27,
     "metadata": {},
     "output_type": "execute_result"
    }
   ],
   "source": [
    "model_full.f_pvalue"
   ]
  },
  {
   "cell_type": "code",
   "execution_count": null,
   "metadata": {},
   "outputs": [],
   "source": [
    "#not significantsince the fpavalue is smaller than 0.05"
   ]
  },
  {
   "cell_type": "markdown",
   "metadata": {},
   "source": [
    "<a id=\"assum\"> </a>\n",
    "## 5. Assumptions of Linear Regression"
   ]
  },
  {
   "cell_type": "markdown",
   "metadata": {
    "collapsed": true
   },
   "source": [
    "<table align=\"left\">\n",
    "    <tr>\n",
    "        <td width=\"6%\">\n",
    "            <img src=\"question_icon.png\">\n",
    "        </td>\n",
    "        <td>\n",
    "            <div align=\"left\", style=\"font-size:120%\">\n",
    "                <font color=\"#21618C\">\n",
    "                    <b>10. A model is built using all the features (full model) to predict the life expectancy. Check whether the residuals obtained form the model follow a normal distribution.</b>\n",
    "                </font>\n",
    "            </div>\n",
    "        </td>\n",
    "    </tr>\n",
    "</table>"
   ]
  },
  {
   "cell_type": "code",
   "execution_count": 28,
   "metadata": {},
   "outputs": [
    {
     "data": {
      "text/html": [
       "<table class=\"simpletable\">\n",
       "<caption>OLS Regression Results</caption>\n",
       "<tr>\n",
       "  <th>Dep. Variable:</th>        <td>Expected</td>     <th>  R-squared:         </th> <td>   0.848</td>\n",
       "</tr>\n",
       "<tr>\n",
       "  <th>Model:</th>                   <td>OLS</td>       <th>  Adj. R-squared:    </th> <td>   0.826</td>\n",
       "</tr>\n",
       "<tr>\n",
       "  <th>Method:</th>             <td>Least Squares</td>  <th>  F-statistic:       </th> <td>   37.43</td>\n",
       "</tr>\n",
       "<tr>\n",
       "  <th>Date:</th>             <td>Fri, 30 Jul 2021</td> <th>  Prob (F-statistic):</th> <td>1.94e-36</td>\n",
       "</tr>\n",
       "<tr>\n",
       "  <th>Time:</th>                 <td>21:32:48</td>     <th>  Log-Likelihood:    </th> <td> -323.38</td>\n",
       "</tr>\n",
       "<tr>\n",
       "  <th>No. Observations:</th>      <td>   124</td>      <th>  AIC:               </th> <td>   680.8</td>\n",
       "</tr>\n",
       "<tr>\n",
       "  <th>Df Residuals:</th>          <td>   107</td>      <th>  BIC:               </th> <td>   728.7</td>\n",
       "</tr>\n",
       "<tr>\n",
       "  <th>Df Model:</th>              <td>    16</td>      <th>                     </th>     <td> </td>   \n",
       "</tr>\n",
       "<tr>\n",
       "  <th>Covariance Type:</th>      <td>nonrobust</td>    <th>                     </th>     <td> </td>   \n",
       "</tr>\n",
       "</table>\n",
       "<table class=\"simpletable\">\n",
       "<tr>\n",
       "           <td></td>             <th>coef</th>     <th>std err</th>      <th>t</th>      <th>P>|t|</th>  <th>[0.025</th>    <th>0.975]</th>  \n",
       "</tr>\n",
       "<tr>\n",
       "  <th>const</th>              <td>   60.0678</td> <td>    3.747</td> <td>   16.030</td> <td> 0.000</td> <td>   52.639</td> <td>   67.496</td>\n",
       "</tr>\n",
       "<tr>\n",
       "  <th>Adult_Mortality</th>    <td>   -0.0231</td> <td>    0.004</td> <td>   -5.685</td> <td> 0.000</td> <td>   -0.031</td> <td>   -0.015</td>\n",
       "</tr>\n",
       "<tr>\n",
       "  <th>Infant_Deaths</th>      <td>    0.0556</td> <td>    0.037</td> <td>    1.507</td> <td> 0.135</td> <td>   -0.018</td> <td>    0.129</td>\n",
       "</tr>\n",
       "<tr>\n",
       "  <th>Hepatitis </th>         <td>    0.0656</td> <td>    0.032</td> <td>    2.056</td> <td> 0.042</td> <td>    0.002</td> <td>    0.129</td>\n",
       "</tr>\n",
       "<tr>\n",
       "  <th>Measles </th>           <td> -5.93e-05</td> <td> 6.09e-05</td> <td>   -0.974</td> <td> 0.332</td> <td>   -0.000</td> <td> 6.14e-05</td>\n",
       "</tr>\n",
       "<tr>\n",
       "  <th> BMI </th>              <td>   -0.0266</td> <td>    0.023</td> <td>   -1.179</td> <td> 0.241</td> <td>   -0.071</td> <td>    0.018</td>\n",
       "</tr>\n",
       "<tr>\n",
       "  <th>Underfive_Deaths </th>  <td>   -0.0389</td> <td>    0.027</td> <td>   -1.439</td> <td> 0.153</td> <td>   -0.093</td> <td>    0.015</td>\n",
       "</tr>\n",
       "<tr>\n",
       "  <th>Polio</th>              <td>   -0.0091</td> <td>    0.022</td> <td>   -0.417</td> <td> 0.677</td> <td>   -0.053</td> <td>    0.034</td>\n",
       "</tr>\n",
       "<tr>\n",
       "  <th>Diphtheria </th>        <td>   -0.0345</td> <td>    0.040</td> <td>   -0.868</td> <td> 0.387</td> <td>   -0.113</td> <td>    0.044</td>\n",
       "</tr>\n",
       "<tr>\n",
       "  <th> HIV</th>               <td>   -1.0385</td> <td>    0.268</td> <td>   -3.881</td> <td> 0.000</td> <td>   -1.569</td> <td>   -0.508</td>\n",
       "</tr>\n",
       "<tr>\n",
       "  <th>GDP</th>                <td> 5.021e-05</td> <td> 3.48e-05</td> <td>    1.445</td> <td> 0.151</td> <td>-1.87e-05</td> <td>    0.000</td>\n",
       "</tr>\n",
       "<tr>\n",
       "  <th>Population</th>         <td>-1.845e-08</td> <td>  8.6e-09</td> <td>   -2.146</td> <td> 0.034</td> <td>-3.55e-08</td> <td>-1.41e-09</td>\n",
       "</tr>\n",
       "<tr>\n",
       "  <th>Malnourished10_19 </th> <td>   -0.4850</td> <td>    0.300</td> <td>   -1.616</td> <td> 0.109</td> <td>   -1.080</td> <td>    0.110</td>\n",
       "</tr>\n",
       "<tr>\n",
       "  <th>Malnourished5_9</th>    <td>    0.2983</td> <td>    0.283</td> <td>    1.053</td> <td> 0.294</td> <td>   -0.263</td> <td>    0.860</td>\n",
       "</tr>\n",
       "<tr>\n",
       "  <th>Income_Index</th>       <td>   18.6518</td> <td>    6.313</td> <td>    2.955</td> <td> 0.004</td> <td>    6.138</td> <td>   31.166</td>\n",
       "</tr>\n",
       "<tr>\n",
       "  <th>Schooling</th>          <td>    0.3599</td> <td>    0.346</td> <td>    1.040</td> <td> 0.301</td> <td>   -0.326</td> <td>    1.046</td>\n",
       "</tr>\n",
       "<tr>\n",
       "  <th>status_Developing</th>  <td>   -2.0360</td> <td>    1.168</td> <td>   -1.743</td> <td> 0.084</td> <td>   -4.352</td> <td>    0.280</td>\n",
       "</tr>\n",
       "</table>\n",
       "<table class=\"simpletable\">\n",
       "<tr>\n",
       "  <th>Omnibus:</th>       <td> 6.529</td> <th>  Durbin-Watson:     </th> <td>   1.754</td>\n",
       "</tr>\n",
       "<tr>\n",
       "  <th>Prob(Omnibus):</th> <td> 0.038</td> <th>  Jarque-Bera (JB):  </th> <td>  10.518</td>\n",
       "</tr>\n",
       "<tr>\n",
       "  <th>Skew:</th>          <td> 0.122</td> <th>  Prob(JB):          </th> <td> 0.00520</td>\n",
       "</tr>\n",
       "<tr>\n",
       "  <th>Kurtosis:</th>      <td> 4.406</td> <th>  Cond. No.          </th> <td>9.15e+08</td>\n",
       "</tr>\n",
       "</table><br/><br/>Notes:<br/>[1] Standard Errors assume that the covariance matrix of the errors is correctly specified.<br/>[2] The condition number is large, 9.15e+08. This might indicate that there are<br/>strong multicollinearity or other numerical problems."
      ],
      "text/plain": [
       "<class 'statsmodels.iolib.summary.Summary'>\n",
       "\"\"\"\n",
       "                            OLS Regression Results                            \n",
       "==============================================================================\n",
       "Dep. Variable:               Expected   R-squared:                       0.848\n",
       "Model:                            OLS   Adj. R-squared:                  0.826\n",
       "Method:                 Least Squares   F-statistic:                     37.43\n",
       "Date:                Fri, 30 Jul 2021   Prob (F-statistic):           1.94e-36\n",
       "Time:                        21:32:48   Log-Likelihood:                -323.38\n",
       "No. Observations:                 124   AIC:                             680.8\n",
       "Df Residuals:                     107   BIC:                             728.7\n",
       "Df Model:                          16                                         \n",
       "Covariance Type:            nonrobust                                         \n",
       "======================================================================================\n",
       "                         coef    std err          t      P>|t|      [0.025      0.975]\n",
       "--------------------------------------------------------------------------------------\n",
       "const                 60.0678      3.747     16.030      0.000      52.639      67.496\n",
       "Adult_Mortality       -0.0231      0.004     -5.685      0.000      -0.031      -0.015\n",
       "Infant_Deaths          0.0556      0.037      1.507      0.135      -0.018       0.129\n",
       "Hepatitis              0.0656      0.032      2.056      0.042       0.002       0.129\n",
       "Measles             -5.93e-05   6.09e-05     -0.974      0.332      -0.000    6.14e-05\n",
       " BMI                  -0.0266      0.023     -1.179      0.241      -0.071       0.018\n",
       "Underfive_Deaths      -0.0389      0.027     -1.439      0.153      -0.093       0.015\n",
       "Polio                 -0.0091      0.022     -0.417      0.677      -0.053       0.034\n",
       "Diphtheria            -0.0345      0.040     -0.868      0.387      -0.113       0.044\n",
       " HIV                  -1.0385      0.268     -3.881      0.000      -1.569      -0.508\n",
       "GDP                 5.021e-05   3.48e-05      1.445      0.151   -1.87e-05       0.000\n",
       "Population         -1.845e-08    8.6e-09     -2.146      0.034   -3.55e-08   -1.41e-09\n",
       "Malnourished10_19     -0.4850      0.300     -1.616      0.109      -1.080       0.110\n",
       "Malnourished5_9        0.2983      0.283      1.053      0.294      -0.263       0.860\n",
       "Income_Index          18.6518      6.313      2.955      0.004       6.138      31.166\n",
       "Schooling              0.3599      0.346      1.040      0.301      -0.326       1.046\n",
       "status_Developing     -2.0360      1.168     -1.743      0.084      -4.352       0.280\n",
       "==============================================================================\n",
       "Omnibus:                        6.529   Durbin-Watson:                   1.754\n",
       "Prob(Omnibus):                  0.038   Jarque-Bera (JB):               10.518\n",
       "Skew:                           0.122   Prob(JB):                      0.00520\n",
       "Kurtosis:                       4.406   Cond. No.                     9.15e+08\n",
       "==============================================================================\n",
       "\n",
       "Notes:\n",
       "[1] Standard Errors assume that the covariance matrix of the errors is correctly specified.\n",
       "[2] The condition number is large, 9.15e+08. This might indicate that there are\n",
       "strong multicollinearity or other numerical problems.\n",
       "\"\"\""
      ]
     },
     "execution_count": 28,
     "metadata": {},
     "output_type": "execute_result"
    }
   ],
   "source": [
    "from scipy.stats import  shapiro\n",
    "X=data.iloc[:,1:17]\n",
    "y=data.Expected\n",
    "X=sm.add_constant(X)\n",
    "Status_encode=pd.get_dummies(data['Status'], drop_first= True, prefix= \"status\")\n",
    "X=pd.concat([pd.DataFrame(X),Status_encode], axis=1)\n",
    "X1=X.drop('Status',axis=1)\n",
    "model_full= sm.OLS(y,X1).fit()\n",
    "model_full.summary()\n"
   ]
  },
  {
   "cell_type": "code",
   "execution_count": 29,
   "metadata": {},
   "outputs": [
    {
     "data": {
      "text/plain": [
       "0.03209252282977104"
      ]
     },
     "execution_count": 29,
     "metadata": {},
     "output_type": "execute_result"
    }
   ],
   "source": [
    "stat, p_value=shapiro(model_full.resid)\n",
    "p_value"
   ]
  },
  {
   "cell_type": "code",
   "execution_count": null,
   "metadata": {},
   "outputs": [],
   "source": [
    "#not normally distributed "
   ]
  },
  {
   "cell_type": "code",
   "execution_count": 30,
   "metadata": {},
   "outputs": [
    {
     "data": {
      "text/plain": [
       "<AxesSubplot:ylabel='Density'>"
      ]
     },
     "execution_count": 30,
     "metadata": {},
     "output_type": "execute_result"
    },
    {
     "data": {
      "image/png": "[encoded data removed]",
      "text/plain": [
       "<Figure size 432x288 with 1 Axes>"
      ]
     },
     "metadata": {
      "needs_background": "light"
     },
     "output_type": "display_data"
    }
   ],
   "source": [
    "sns.distplot(model_full.resid)"
   ]
  },
  {
   "cell_type": "markdown",
   "metadata": {
    "collapsed": true
   },
   "source": [
    "<table align=\"left\">\n",
    "    <tr>\n",
    "        <td width=\"6%\">\n",
    "            <img src=\"question_icon.png\">\n",
    "        </td>\n",
    "        <td>\n",
    "            <div align=\"left\", style=\"font-size:120%\">\n",
    "                <font color=\"#21618C\">\n",
    "                        <b>11. Does the interaction of status of the country and its GDP have significant effect on life expectancy? (consider the full model)</b>\n",
    "                </font>\n",
    "            </div>\n",
    "        </td>\n",
    "    </tr>\n",
    "</table>"
   ]
  },
  {
   "cell_type": "code",
   "execution_count": 31,
   "metadata": {},
   "outputs": [
    {
     "data": {
      "text/html": [
       "<table class=\"simpletable\">\n",
       "<caption>OLS Regression Results</caption>\n",
       "<tr>\n",
       "  <th>Dep. Variable:</th>        <td>Expected</td>     <th>  R-squared:         </th> <td>   1.000</td> \n",
       "</tr>\n",
       "<tr>\n",
       "  <th>Model:</th>                   <td>OLS</td>       <th>  Adj. R-squared:    </th> <td>   1.000</td> \n",
       "</tr>\n",
       "<tr>\n",
       "  <th>Method:</th>             <td>Least Squares</td>  <th>  F-statistic:       </th> <td>1.905e+20</td>\n",
       "</tr>\n",
       "<tr>\n",
       "  <th>Date:</th>             <td>Fri, 30 Jul 2021</td> <th>  Prob (F-statistic):</th>  <td>  0.00</td>  \n",
       "</tr>\n",
       "<tr>\n",
       "  <th>Time:</th>                 <td>21:33:17</td>     <th>  Log-Likelihood:    </th> <td>  2341.3</td> \n",
       "</tr>\n",
       "<tr>\n",
       "  <th>No. Observations:</th>      <td>   124</td>      <th>  AIC:               </th> <td>  -4647.</td> \n",
       "</tr>\n",
       "<tr>\n",
       "  <th>Df Residuals:</th>          <td>   106</td>      <th>  BIC:               </th> <td>  -4596.</td> \n",
       "</tr>\n",
       "<tr>\n",
       "  <th>Df Model:</th>              <td>    17</td>      <th>                     </th>     <td> </td>    \n",
       "</tr>\n",
       "<tr>\n",
       "  <th>Covariance Type:</th>      <td>nonrobust</td>    <th>                     </th>     <td> </td>    \n",
       "</tr>\n",
       "</table>\n",
       "<table class=\"simpletable\">\n",
       "<tr>\n",
       "           <td></td>             <th>coef</th>     <th>std err</th>      <th>t</th>      <th>P>|t|</th>  <th>[0.025</th>    <th>0.975]</th>  \n",
       "</tr>\n",
       "<tr>\n",
       "  <th>const</th>              <td> 8.811e-13</td> <td> 3.23e-09</td> <td>    0.000</td> <td> 1.000</td> <td> -6.4e-09</td> <td>  6.4e-09</td>\n",
       "</tr>\n",
       "<tr>\n",
       "  <th>Adult_Mortality</th>    <td>-6.661e-16</td> <td> 2.16e-12</td> <td>   -0.000</td> <td> 1.000</td> <td>-4.28e-12</td> <td> 4.28e-12</td>\n",
       "</tr>\n",
       "<tr>\n",
       "  <th>Infant_Deaths</th>      <td> 3.136e-15</td> <td> 1.74e-11</td> <td>    0.000</td> <td> 1.000</td> <td>-3.45e-11</td> <td> 3.45e-11</td>\n",
       "</tr>\n",
       "<tr>\n",
       "  <th>Hepatitis </th>         <td>-1.421e-14</td> <td> 1.52e-11</td> <td>   -0.001</td> <td> 0.999</td> <td>-3.01e-11</td> <td> 3.01e-11</td>\n",
       "</tr>\n",
       "<tr>\n",
       "  <th>Measles </th>           <td>-1.947e-15</td> <td> 2.86e-14</td> <td>   -0.068</td> <td> 0.946</td> <td>-5.86e-14</td> <td> 5.47e-14</td>\n",
       "</tr>\n",
       "<tr>\n",
       "  <th> BMI </th>              <td> 1.013e-14</td> <td> 1.06e-11</td> <td>    0.001</td> <td> 0.999</td> <td> -2.1e-11</td> <td>  2.1e-11</td>\n",
       "</tr>\n",
       "<tr>\n",
       "  <th>Underfive_Deaths </th>  <td> 4.025e-16</td> <td> 1.28e-11</td> <td> 3.15e-05</td> <td> 1.000</td> <td>-2.53e-11</td> <td> 2.53e-11</td>\n",
       "</tr>\n",
       "<tr>\n",
       "  <th>Polio</th>              <td>-2.498e-16</td> <td> 1.02e-11</td> <td>-2.44e-05</td> <td> 1.000</td> <td>-2.03e-11</td> <td> 2.03e-11</td>\n",
       "</tr>\n",
       "<tr>\n",
       "  <th>Diphtheria </th>        <td> 1.221e-15</td> <td> 1.86e-11</td> <td> 6.55e-05</td> <td> 1.000</td> <td>-3.69e-11</td> <td>  3.7e-11</td>\n",
       "</tr>\n",
       "<tr>\n",
       "  <th> HIV</th>               <td> 4.441e-15</td> <td> 1.33e-10</td> <td> 3.33e-05</td> <td> 1.000</td> <td>-2.65e-10</td> <td> 2.65e-10</td>\n",
       "</tr>\n",
       "<tr>\n",
       "  <th>GDP</th>                <td> 5.764e-16</td> <td> 1.64e-14</td> <td>    0.035</td> <td> 0.972</td> <td>-3.19e-14</td> <td> 3.31e-14</td>\n",
       "</tr>\n",
       "<tr>\n",
       "  <th>Population</th>         <td> 3.369e-17</td> <td>  4.1e-18</td> <td>    8.221</td> <td> 0.000</td> <td> 2.56e-17</td> <td> 4.18e-17</td>\n",
       "</tr>\n",
       "<tr>\n",
       "  <th>Malnourished10_19 </th> <td> 2.331e-15</td> <td> 1.42e-10</td> <td> 1.64e-05</td> <td> 1.000</td> <td>-2.81e-10</td> <td> 2.81e-10</td>\n",
       "</tr>\n",
       "<tr>\n",
       "  <th>Malnourished5_9</th>    <td>-1.221e-15</td> <td> 1.33e-10</td> <td>-9.19e-06</td> <td> 1.000</td> <td>-2.63e-10</td> <td> 2.63e-10</td>\n",
       "</tr>\n",
       "<tr>\n",
       "  <th>Income_Index</th>       <td>-7.105e-15</td> <td> 3.07e-09</td> <td>-2.32e-06</td> <td> 1.000</td> <td>-6.08e-09</td> <td> 6.08e-09</td>\n",
       "</tr>\n",
       "<tr>\n",
       "  <th>Schooling</th>          <td> 1.776e-15</td> <td> 1.62e-10</td> <td> 1.09e-05</td> <td> 1.000</td> <td>-3.22e-10</td> <td> 3.22e-10</td>\n",
       "</tr>\n",
       "<tr>\n",
       "  <th>Expected</th>           <td>    1.0000</td> <td> 4.51e-11</td> <td> 2.22e+10</td> <td> 0.000</td> <td>    1.000</td> <td>    1.000</td>\n",
       "</tr>\n",
       "<tr>\n",
       "  <th>status_Developing</th>  <td> 1.776e-15</td> <td> 5.53e-10</td> <td> 3.21e-06</td> <td> 1.000</td> <td> -1.1e-09</td> <td>  1.1e-09</td>\n",
       "</tr>\n",
       "</table>\n",
       "<table class=\"simpletable\">\n",
       "<tr>\n",
       "  <th>Omnibus:</th>       <td>109.831</td> <th>  Durbin-Watson:     </th> <td>   1.464</td> \n",
       "</tr>\n",
       "<tr>\n",
       "  <th>Prob(Omnibus):</th> <td> 0.000</td>  <th>  Jarque-Bera (JB):  </th> <td> 884.705</td> \n",
       "</tr>\n",
       "<tr>\n",
       "  <th>Skew:</th>          <td>-3.252</td>  <th>  Prob(JB):          </th> <td>7.74e-193</td>\n",
       "</tr>\n",
       "<tr>\n",
       "  <th>Kurtosis:</th>      <td>14.355</td>  <th>  Cond. No.          </th> <td>1.02e+09</td> \n",
       "</tr>\n",
       "</table><br/><br/>Notes:<br/>[1] Standard Errors assume that the covariance matrix of the errors is correctly specified.<br/>[2] The condition number is large, 1.02e+09. This might indicate that there are<br/>strong multicollinearity or other numerical problems."
      ],
      "text/plain": [
       "<class 'statsmodels.iolib.summary.Summary'>\n",
       "\"\"\"\n",
       "                            OLS Regression Results                            \n",
       "==============================================================================\n",
       "Dep. Variable:               Expected   R-squared:                       1.000\n",
       "Model:                            OLS   Adj. R-squared:                  1.000\n",
       "Method:                 Least Squares   F-statistic:                 1.905e+20\n",
       "Date:                Fri, 30 Jul 2021   Prob (F-statistic):               0.00\n",
       "Time:                        21:33:17   Log-Likelihood:                 2341.3\n",
       "No. Observations:                 124   AIC:                            -4647.\n",
       "Df Residuals:                     106   BIC:                            -4596.\n",
       "Df Model:                          17                                         \n",
       "Covariance Type:            nonrobust                                         \n",
       "======================================================================================\n",
       "                         coef    std err          t      P>|t|      [0.025      0.975]\n",
       "--------------------------------------------------------------------------------------\n",
       "const               8.811e-13   3.23e-09      0.000      1.000    -6.4e-09     6.4e-09\n",
       "Adult_Mortality    -6.661e-16   2.16e-12     -0.000      1.000   -4.28e-12    4.28e-12\n",
       "Infant_Deaths       3.136e-15   1.74e-11      0.000      1.000   -3.45e-11    3.45e-11\n",
       "Hepatitis          -1.421e-14   1.52e-11     -0.001      0.999   -3.01e-11    3.01e-11\n",
       "Measles            -1.947e-15   2.86e-14     -0.068      0.946   -5.86e-14    5.47e-14\n",
       " BMI                1.013e-14   1.06e-11      0.001      0.999    -2.1e-11     2.1e-11\n",
       "Underfive_Deaths    4.025e-16   1.28e-11   3.15e-05      1.000   -2.53e-11    2.53e-11\n",
       "Polio              -2.498e-16   1.02e-11  -2.44e-05      1.000   -2.03e-11    2.03e-11\n",
       "Diphtheria          1.221e-15   1.86e-11   6.55e-05      1.000   -3.69e-11     3.7e-11\n",
       " HIV                4.441e-15   1.33e-10   3.33e-05      1.000   -2.65e-10    2.65e-10\n",
       "GDP                 5.764e-16   1.64e-14      0.035      0.972   -3.19e-14    3.31e-14\n",
       "Population          3.369e-17    4.1e-18      8.221      0.000    2.56e-17    4.18e-17\n",
       "Malnourished10_19   2.331e-15   1.42e-10   1.64e-05      1.000   -2.81e-10    2.81e-10\n",
       "Malnourished5_9    -1.221e-15   1.33e-10  -9.19e-06      1.000   -2.63e-10    2.63e-10\n",
       "Income_Index       -7.105e-15   3.07e-09  -2.32e-06      1.000   -6.08e-09    6.08e-09\n",
       "Schooling           1.776e-15   1.62e-10   1.09e-05      1.000   -3.22e-10    3.22e-10\n",
       "Expected               1.0000   4.51e-11   2.22e+10      0.000       1.000       1.000\n",
       "status_Developing   1.776e-15   5.53e-10   3.21e-06      1.000    -1.1e-09     1.1e-09\n",
       "==============================================================================\n",
       "Omnibus:                      109.831   Durbin-Watson:                   1.464\n",
       "Prob(Omnibus):                  0.000   Jarque-Bera (JB):              884.705\n",
       "Skew:                          -3.252   Prob(JB):                    7.74e-193\n",
       "Kurtosis:                      14.355   Cond. No.                     1.02e+09\n",
       "==============================================================================\n",
       "\n",
       "Notes:\n",
       "[1] Standard Errors assume that the covariance matrix of the errors is correctly specified.\n",
       "[2] The condition number is large, 1.02e+09. This might indicate that there are\n",
       "strong multicollinearity or other numerical problems.\n",
       "\"\"\""
      ]
     },
     "execution_count": 31,
     "metadata": {},
     "output_type": "execute_result"
    }
   ],
   "source": [
    "X=data.iloc[:,1:]\n",
    "y=data.Expected\n",
    "X=sm.add_constant(X)\n",
    "Status_encode=pd.get_dummies(data['Status'], drop_first= True, prefix= \"status\")\n",
    "X=pd.concat([pd.DataFrame(X),Status_encode], axis=1)\n",
    "X1=X.drop('Status',axis=1)\n",
    "model_full= sm.OLS(y,X1).fit()\n",
    "model_full.summary()\n"
   ]
  },
  {
   "cell_type": "markdown",
   "metadata": {
    "collapsed": true
   },
   "source": [
    "<table align=\"left\">\n",
    "    <tr>\n",
    "        <td width=\"6%\">\n",
    "            <img src=\"question_icon.png\">\n",
    "        </td>\n",
    "        <td>\n",
    "            <div align=\"left\", style=\"font-size:120%\">\n",
    "                <font color=\"#21618C\">\n",
    "                    <b>12. Construct a full no-intecept model. What would you conclude when all the variables take value 0? </b>\n",
    "                </font>\n",
    "            </div>\n",
    "        </td>\n",
    "    </tr>\n",
    "</table>"
   ]
  },
  {
   "cell_type": "code",
   "execution_count": 32,
   "metadata": {},
   "outputs": [
    {
     "data": {
      "text/html": [
       "<table class=\"simpletable\">\n",
       "<caption>OLS Regression Results</caption>\n",
       "<tr>\n",
       "  <th>Dep. Variable:</th>        <td>Expected</td>     <th>  R-squared (uncentered):</th>      <td>   0.993</td> \n",
       "</tr>\n",
       "<tr>\n",
       "  <th>Model:</th>                   <td>OLS</td>       <th>  Adj. R-squared (uncentered):</th> <td>   0.992</td> \n",
       "</tr>\n",
       "<tr>\n",
       "  <th>Method:</th>             <td>Least Squares</td>  <th>  F-statistic:       </th>          <td>   940.0</td> \n",
       "</tr>\n",
       "<tr>\n",
       "  <th>Date:</th>             <td>Fri, 30 Jul 2021</td> <th>  Prob (F-statistic):</th>          <td>4.84e-108</td>\n",
       "</tr>\n",
       "<tr>\n",
       "  <th>Time:</th>                 <td>21:33:21</td>     <th>  Log-Likelihood:    </th>          <td> -399.28</td> \n",
       "</tr>\n",
       "<tr>\n",
       "  <th>No. Observations:</th>      <td>   124</td>      <th>  AIC:               </th>          <td>   830.6</td> \n",
       "</tr>\n",
       "<tr>\n",
       "  <th>Df Residuals:</th>          <td>   108</td>      <th>  BIC:               </th>          <td>   875.7</td> \n",
       "</tr>\n",
       "<tr>\n",
       "  <th>Df Model:</th>              <td>    16</td>      <th>                     </th>              <td> </td>    \n",
       "</tr>\n",
       "<tr>\n",
       "  <th>Covariance Type:</th>      <td>nonrobust</td>    <th>                     </th>              <td> </td>    \n",
       "</tr>\n",
       "</table>\n",
       "<table class=\"simpletable\">\n",
       "<tr>\n",
       "           <td></td>             <th>coef</th>     <th>std err</th>      <th>t</th>      <th>P>|t|</th>  <th>[0.025</th>    <th>0.975]</th>  \n",
       "</tr>\n",
       "<tr>\n",
       "  <th>Adult_Mortality</th>    <td>   -0.0069</td> <td>    0.007</td> <td>   -0.960</td> <td> 0.339</td> <td>   -0.021</td> <td>    0.007</td>\n",
       "</tr>\n",
       "<tr>\n",
       "  <th>Infant_Deaths</th>      <td>   -0.0807</td> <td>    0.066</td> <td>   -1.224</td> <td> 0.223</td> <td>   -0.211</td> <td>    0.050</td>\n",
       "</tr>\n",
       "<tr>\n",
       "  <th>Hepatitis </th>         <td>    0.0305</td> <td>    0.058</td> <td>    0.523</td> <td> 0.602</td> <td>   -0.085</td> <td>    0.146</td>\n",
       "</tr>\n",
       "<tr>\n",
       "  <th>Measles </th>           <td>   -0.0002</td> <td>    0.000</td> <td>   -1.516</td> <td> 0.133</td> <td>   -0.000</td> <td> 5.18e-05</td>\n",
       "</tr>\n",
       "<tr>\n",
       "  <th> BMI </th>              <td>   -0.0697</td> <td>    0.041</td> <td>   -1.696</td> <td> 0.093</td> <td>   -0.151</td> <td>    0.012</td>\n",
       "</tr>\n",
       "<tr>\n",
       "  <th>Underfive_Deaths </th>  <td>    0.0712</td> <td>    0.048</td> <td>    1.482</td> <td> 0.141</td> <td>   -0.024</td> <td>    0.166</td>\n",
       "</tr>\n",
       "<tr>\n",
       "  <th>Polio</th>              <td>    0.0180</td> <td>    0.040</td> <td>    0.449</td> <td> 0.654</td> <td>   -0.061</td> <td>    0.097</td>\n",
       "</tr>\n",
       "<tr>\n",
       "  <th>Diphtheria </th>        <td>    0.0388</td> <td>    0.073</td> <td>    0.535</td> <td> 0.593</td> <td>   -0.105</td> <td>    0.183</td>\n",
       "</tr>\n",
       "<tr>\n",
       "  <th> HIV</th>               <td>    0.5728</td> <td>    0.455</td> <td>    1.258</td> <td> 0.211</td> <td>   -0.330</td> <td>    1.475</td>\n",
       "</tr>\n",
       "<tr>\n",
       "  <th>GDP</th>                <td>-3.684e-05</td> <td>  6.3e-05</td> <td>   -0.585</td> <td> 0.560</td> <td>   -0.000</td> <td> 8.81e-05</td>\n",
       "</tr>\n",
       "<tr>\n",
       "  <th>Population</th>         <td>-1.747e-08</td> <td> 1.58e-08</td> <td>   -1.107</td> <td> 0.271</td> <td>-4.87e-08</td> <td> 1.38e-08</td>\n",
       "</tr>\n",
       "<tr>\n",
       "  <th>Malnourished10_19 </th> <td>   -1.1120</td> <td>    0.546</td> <td>   -2.035</td> <td> 0.044</td> <td>   -2.195</td> <td>   -0.029</td>\n",
       "</tr>\n",
       "<tr>\n",
       "  <th>Malnourished5_9</th>    <td>    1.6540</td> <td>    0.496</td> <td>    3.334</td> <td> 0.001</td> <td>    0.671</td> <td>    2.637</td>\n",
       "</tr>\n",
       "<tr>\n",
       "  <th>Income_Index</th>       <td>   43.2384</td> <td>   11.241</td> <td>    3.846</td> <td> 0.000</td> <td>   20.956</td> <td>   65.520</td>\n",
       "</tr>\n",
       "<tr>\n",
       "  <th>Schooling</th>          <td>    2.1667</td> <td>    0.601</td> <td>    3.608</td> <td> 0.000</td> <td>    0.976</td> <td>    3.357</td>\n",
       "</tr>\n",
       "<tr>\n",
       "  <th>status_Developing</th>  <td>    7.8535</td> <td>    1.821</td> <td>    4.313</td> <td> 0.000</td> <td>    4.244</td> <td>   11.463</td>\n",
       "</tr>\n",
       "</table>\n",
       "<table class=\"simpletable\">\n",
       "<tr>\n",
       "  <th>Omnibus:</th>       <td> 7.813</td> <th>  Durbin-Watson:     </th> <td>   1.591</td>\n",
       "</tr>\n",
       "<tr>\n",
       "  <th>Prob(Omnibus):</th> <td> 0.020</td> <th>  Jarque-Bera (JB):  </th> <td>   7.565</td>\n",
       "</tr>\n",
       "<tr>\n",
       "  <th>Skew:</th>          <td> 0.588</td> <th>  Prob(JB):          </th> <td>  0.0228</td>\n",
       "</tr>\n",
       "<tr>\n",
       "  <th>Kurtosis:</th>      <td> 3.282</td> <th>  Cond. No.          </th> <td>8.75e+08</td>\n",
       "</tr>\n",
       "</table><br/><br/>Notes:<br/>[1] R² is computed without centering (uncentered) since the model does not contain a constant.<br/>[2] Standard Errors assume that the covariance matrix of the errors is correctly specified.<br/>[3] The condition number is large, 8.75e+08. This might indicate that there are<br/>strong multicollinearity or other numerical problems."
      ],
      "text/plain": [
       "<class 'statsmodels.iolib.summary.Summary'>\n",
       "\"\"\"\n",
       "                                 OLS Regression Results                                \n",
       "=======================================================================================\n",
       "Dep. Variable:               Expected   R-squared (uncentered):                   0.993\n",
       "Model:                            OLS   Adj. R-squared (uncentered):              0.992\n",
       "Method:                 Least Squares   F-statistic:                              940.0\n",
       "Date:                Fri, 30 Jul 2021   Prob (F-statistic):                   4.84e-108\n",
       "Time:                        21:33:21   Log-Likelihood:                         -399.28\n",
       "No. Observations:                 124   AIC:                                      830.6\n",
       "Df Residuals:                     108   BIC:                                      875.7\n",
       "Df Model:                          16                                                  \n",
       "Covariance Type:            nonrobust                                                  \n",
       "======================================================================================\n",
       "                         coef    std err          t      P>|t|      [0.025      0.975]\n",
       "--------------------------------------------------------------------------------------\n",
       "Adult_Mortality       -0.0069      0.007     -0.960      0.339      -0.021       0.007\n",
       "Infant_Deaths         -0.0807      0.066     -1.224      0.223      -0.211       0.050\n",
       "Hepatitis              0.0305      0.058      0.523      0.602      -0.085       0.146\n",
       "Measles               -0.0002      0.000     -1.516      0.133      -0.000    5.18e-05\n",
       " BMI                  -0.0697      0.041     -1.696      0.093      -0.151       0.012\n",
       "Underfive_Deaths       0.0712      0.048      1.482      0.141      -0.024       0.166\n",
       "Polio                  0.0180      0.040      0.449      0.654      -0.061       0.097\n",
       "Diphtheria             0.0388      0.073      0.535      0.593      -0.105       0.183\n",
       " HIV                   0.5728      0.455      1.258      0.211      -0.330       1.475\n",
       "GDP                -3.684e-05    6.3e-05     -0.585      0.560      -0.000    8.81e-05\n",
       "Population         -1.747e-08   1.58e-08     -1.107      0.271   -4.87e-08    1.38e-08\n",
       "Malnourished10_19     -1.1120      0.546     -2.035      0.044      -2.195      -0.029\n",
       "Malnourished5_9        1.6540      0.496      3.334      0.001       0.671       2.637\n",
       "Income_Index          43.2384     11.241      3.846      0.000      20.956      65.520\n",
       "Schooling              2.1667      0.601      3.608      0.000       0.976       3.357\n",
       "status_Developing      7.8535      1.821      4.313      0.000       4.244      11.463\n",
       "==============================================================================\n",
       "Omnibus:                        7.813   Durbin-Watson:                   1.591\n",
       "Prob(Omnibus):                  0.020   Jarque-Bera (JB):                7.565\n",
       "Skew:                           0.588   Prob(JB):                       0.0228\n",
       "Kurtosis:                       3.282   Cond. No.                     8.75e+08\n",
       "==============================================================================\n",
       "\n",
       "Notes:\n",
       "[1] R² is computed without centering (uncentered) since the model does not contain a constant.\n",
       "[2] Standard Errors assume that the covariance matrix of the errors is correctly specified.\n",
       "[3] The condition number is large, 8.75e+08. This might indicate that there are\n",
       "strong multicollinearity or other numerical problems.\n",
       "\"\"\""
      ]
     },
     "execution_count": 32,
     "metadata": {},
     "output_type": "execute_result"
    }
   ],
   "source": [
    "X=data.iloc[:,1:17]\n",
    "y=data.Expected\n",
    "#X=sm.add_constant(X)\n",
    "Status_encode=pd.get_dummies(data['Status'], drop_first= True, prefix= \"status\")\n",
    "X=pd.concat([pd.DataFrame(X),Status_encode], axis=1)\n",
    "X1=X.drop('Status',axis=1)\n",
    "model_full= sm.OLS(y,X1).fit()\n",
    "model_full.summary()"
   ]
  },
  {
   "cell_type": "code",
   "execution_count": null,
   "metadata": {},
   "outputs": [],
   "source": [
    "#expectency cant zero"
   ]
  },
  {
   "cell_type": "markdown",
   "metadata": {},
   "source": [
    "### Now we shall consider the FEV dataset."
   ]
  },
  {
   "cell_type": "markdown",
   "metadata": {},
   "source": [
    "### About the data set (Respiratory function data)\n",
    "\n",
    "Dataset consists of information about respiratory function in youths and factors that might impact the respiratory function. <br> Attribute information: \n",
    "\n",
    "**Age:** Age in years\n",
    "\n",
    "**Height (cm):** Height (cm) in cm \n",
    "\n",
    "**Sex:** Gender of a person\n",
    "\n",
    "**Smoke_habits** Whether the person is a smoker or non- smoker\n",
    "\n",
    "**FEV:**  Forced Exhalation Volume (FEV), a measure of how much air somebody can forcibly exhale from their lung (Percentage)"
   ]
  },
  {
   "cell_type": "markdown",
   "metadata": {},
   "source": [
    "#### Load the dataset and check the first five observations"
   ]
  },
  {
   "cell_type": "code",
   "execution_count": 38,
   "metadata": {},
   "outputs": [
    {
     "data": {
      "text/html": [
       "<div>\n",
       "<style scoped>\n",
       "    .dataframe tbody tr th:only-of-type {\n",
       "        vertical-align: middle;\n",
       "    }\n",
       "\n",
       "    .dataframe tbody tr th {\n",
       "        vertical-align: top;\n",
       "    }\n",
       "\n",
       "    .dataframe thead th {\n",
       "        text-align: right;\n",
       "    }\n",
       "</style>\n",
       "<table border=\"1\" class=\"dataframe\">\n",
       "  <thead>\n",
       "    <tr style=\"text-align: right;\">\n",
       "      <th></th>\n",
       "      <th>Age</th>\n",
       "      <th>Height (cm)</th>\n",
       "      <th>Sex</th>\n",
       "      <th>Smoke_habit</th>\n",
       "      <th>FEV</th>\n",
       "    </tr>\n",
       "  </thead>\n",
       "  <tbody>\n",
       "    <tr>\n",
       "      <th>0</th>\n",
       "      <td>16</td>\n",
       "      <td>157.000000</td>\n",
       "      <td>F</td>\n",
       "      <td>smoker</td>\n",
       "      <td>1.708000</td>\n",
       "    </tr>\n",
       "    <tr>\n",
       "      <th>1</th>\n",
       "      <td>17</td>\n",
       "      <td>167.500000</td>\n",
       "      <td>F</td>\n",
       "      <td>smoker</td>\n",
       "      <td>1.724000</td>\n",
       "    </tr>\n",
       "    <tr>\n",
       "      <th>2</th>\n",
       "      <td>19</td>\n",
       "      <td>154.500000</td>\n",
       "      <td>F</td>\n",
       "      <td>smoker</td>\n",
       "      <td>1.720000</td>\n",
       "    </tr>\n",
       "    <tr>\n",
       "      <th>3</th>\n",
       "      <td>16</td>\n",
       "      <td>163.000000</td>\n",
       "      <td>M</td>\n",
       "      <td>smoker</td>\n",
       "      <td>1.558000</td>\n",
       "    </tr>\n",
       "    <tr>\n",
       "      <th>4</th>\n",
       "      <td>16</td>\n",
       "      <td>157.000000</td>\n",
       "      <td>M</td>\n",
       "      <td>smoker</td>\n",
       "      <td>1.895000</td>\n",
       "    </tr>\n",
       "  </tbody>\n",
       "</table>\n",
       "</div>"
      ],
      "text/plain": [
       "   Age  Height (cm) Sex Smoke_habit      FEV\n",
       "0   16   157.000000   F      smoker 1.708000\n",
       "1   17   167.500000   F      smoker 1.724000\n",
       "2   19   154.500000   F      smoker 1.720000\n",
       "3   16   163.000000   M      smoker 1.558000\n",
       "4   16   157.000000   M      smoker 1.895000"
      ]
     },
     "execution_count": 38,
     "metadata": {},
     "output_type": "execute_result"
    }
   ],
   "source": [
    "df=pd.read_csv('FEV_data.csv')\n",
    "df.head()"
   ]
  },
  {
   "cell_type": "markdown",
   "metadata": {
    "collapsed": true
   },
   "source": [
    "<table align=\"left\">\n",
    "    <tr>\n",
    "        <td width=\"6%\">\n",
    "            <img src=\"question_icon.png\">\n",
    "        </td>\n",
    "        <td>\n",
    "            <div align=\"left\", style=\"font-size:120%\">\n",
    "                <font color=\"#21618C\">\n",
    "                    <b>13. Identify the numeric variable(s) that have highest impact on the FEV of a person</b>\n",
    "                </font>\n",
    "            </div>\n",
    "        </td>\n",
    "    </tr>\n",
    "</table>"
   ]
  },
  {
   "cell_type": "code",
   "execution_count": 39,
   "metadata": {},
   "outputs": [],
   "source": [
    "df_num=df.select_dtypes(np.number)\n",
    "df_cat=df.select_dtypes(object)"
   ]
  },
  {
   "cell_type": "code",
   "execution_count": 40,
   "metadata": {},
   "outputs": [
    {
     "data": {
      "text/html": [
       "<div>\n",
       "<style scoped>\n",
       "    .dataframe tbody tr th:only-of-type {\n",
       "        vertical-align: middle;\n",
       "    }\n",
       "\n",
       "    .dataframe tbody tr th {\n",
       "        vertical-align: top;\n",
       "    }\n",
       "\n",
       "    .dataframe thead th {\n",
       "        text-align: right;\n",
       "    }\n",
       "</style>\n",
       "<table border=\"1\" class=\"dataframe\">\n",
       "  <thead>\n",
       "    <tr style=\"text-align: right;\">\n",
       "      <th></th>\n",
       "      <th>Age</th>\n",
       "      <th>Height (cm)</th>\n",
       "      <th>FEV</th>\n",
       "    </tr>\n",
       "  </thead>\n",
       "  <tbody>\n",
       "    <tr>\n",
       "      <th>Age</th>\n",
       "      <td>1.000000</td>\n",
       "      <td>0.164519</td>\n",
       "      <td>0.142240</td>\n",
       "    </tr>\n",
       "    <tr>\n",
       "      <th>Height (cm)</th>\n",
       "      <td>0.164519</td>\n",
       "      <td>1.000000</td>\n",
       "      <td>0.828025</td>\n",
       "    </tr>\n",
       "    <tr>\n",
       "      <th>FEV</th>\n",
       "      <td>0.142240</td>\n",
       "      <td>0.828025</td>\n",
       "      <td>1.000000</td>\n",
       "    </tr>\n",
       "  </tbody>\n",
       "</table>\n",
       "</div>"
      ],
      "text/plain": [
       "                 Age  Height (cm)      FEV\n",
       "Age         1.000000     0.164519 0.142240\n",
       "Height (cm) 0.164519     1.000000 0.828025\n",
       "FEV         0.142240     0.828025 1.000000"
      ]
     },
     "execution_count": 40,
     "metadata": {},
     "output_type": "execute_result"
    }
   ],
   "source": [
    "df.corr()"
   ]
  },
  {
   "cell_type": "code",
   "execution_count": null,
   "metadata": {},
   "outputs": [],
   "source": [
    "#hegiht is high correlation with th fev"
   ]
  },
  {
   "cell_type": "markdown",
   "metadata": {
    "collapsed": true
   },
   "source": [
    "<table align=\"left\">\n",
    "    <tr>\n",
    "        <td width=\"6%\">\n",
    "            <img src=\"question_icon.png\">\n",
    "        </td>\n",
    "        <td>\n",
    "            <div align=\"left\", style=\"font-size:120%\">\n",
    "                <font color=\"#21618C\">\n",
    "                    <b>14. What is the impact of smoking habit of a person on FEV?\n",
    "                    </b>\n",
    "                </font>\n",
    "            </div>\n",
    "        </td>\n",
    "    </tr>\n",
    "</table>"
   ]
  },
  {
   "cell_type": "code",
   "execution_count": 41,
   "metadata": {},
   "outputs": [
    {
     "data": {
      "text/html": [
       "<table class=\"simpletable\">\n",
       "<caption>OLS Regression Results</caption>\n",
       "<tr>\n",
       "  <th>Dep. Variable:</th>           <td>FEV</td>       <th>  R-squared:         </th> <td>   0.098</td>\n",
       "</tr>\n",
       "<tr>\n",
       "  <th>Model:</th>                   <td>OLS</td>       <th>  Adj. R-squared:    </th> <td>   0.097</td>\n",
       "</tr>\n",
       "<tr>\n",
       "  <th>Method:</th>             <td>Least Squares</td>  <th>  F-statistic:       </th> <td>   70.92</td>\n",
       "</tr>\n",
       "<tr>\n",
       "  <th>Date:</th>             <td>Fri, 30 Jul 2021</td> <th>  Prob (F-statistic):</th> <td>2.36e-16</td>\n",
       "</tr>\n",
       "<tr>\n",
       "  <th>Time:</th>                 <td>21:44:27</td>     <th>  Log-Likelihood:    </th> <td> -800.43</td>\n",
       "</tr>\n",
       "<tr>\n",
       "  <th>No. Observations:</th>      <td>   654</td>      <th>  AIC:               </th> <td>   1605.</td>\n",
       "</tr>\n",
       "<tr>\n",
       "  <th>Df Residuals:</th>          <td>   652</td>      <th>  BIC:               </th> <td>   1614.</td>\n",
       "</tr>\n",
       "<tr>\n",
       "  <th>Df Model:</th>              <td>     1</td>      <th>                     </th>     <td> </td>   \n",
       "</tr>\n",
       "<tr>\n",
       "  <th>Covariance Type:</th>      <td>nonrobust</td>    <th>                     </th>     <td> </td>   \n",
       "</tr>\n",
       "</table>\n",
       "<table class=\"simpletable\">\n",
       "<tr>\n",
       "     <td></td>       <th>coef</th>     <th>std err</th>      <th>t</th>      <th>P>|t|</th>  <th>[0.025</th>    <th>0.975]</th>  \n",
       "</tr>\n",
       "<tr>\n",
       "  <th>const</th>  <td>    3.4206</td> <td>    0.098</td> <td>   34.729</td> <td> 0.000</td> <td>    3.227</td> <td>    3.614</td>\n",
       "</tr>\n",
       "<tr>\n",
       "  <th>smoker</th> <td>   -0.8778</td> <td>    0.104</td> <td>   -8.422</td> <td> 0.000</td> <td>   -1.082</td> <td>   -0.673</td>\n",
       "</tr>\n",
       "</table>\n",
       "<table class=\"simpletable\">\n",
       "<tr>\n",
       "  <th>Omnibus:</th>       <td>37.782</td> <th>  Durbin-Watson:     </th> <td>   1.125</td>\n",
       "</tr>\n",
       "<tr>\n",
       "  <th>Prob(Omnibus):</th> <td> 0.000</td> <th>  Jarque-Bera (JB):  </th> <td>  42.957</td>\n",
       "</tr>\n",
       "<tr>\n",
       "  <th>Skew:</th>          <td> 0.622</td> <th>  Prob(JB):          </th> <td>4.70e-10</td>\n",
       "</tr>\n",
       "<tr>\n",
       "  <th>Kurtosis:</th>      <td> 3.167</td> <th>  Cond. No.          </th> <td>    5.96</td>\n",
       "</tr>\n",
       "</table><br/><br/>Notes:<br/>[1] Standard Errors assume that the covariance matrix of the errors is correctly specified."
      ],
      "text/plain": [
       "<class 'statsmodels.iolib.summary.Summary'>\n",
       "\"\"\"\n",
       "                            OLS Regression Results                            \n",
       "==============================================================================\n",
       "Dep. Variable:                    FEV   R-squared:                       0.098\n",
       "Model:                            OLS   Adj. R-squared:                  0.097\n",
       "Method:                 Least Squares   F-statistic:                     70.92\n",
       "Date:                Fri, 30 Jul 2021   Prob (F-statistic):           2.36e-16\n",
       "Time:                        21:44:27   Log-Likelihood:                -800.43\n",
       "No. Observations:                 654   AIC:                             1605.\n",
       "Df Residuals:                     652   BIC:                             1614.\n",
       "Df Model:                           1                                         \n",
       "Covariance Type:            nonrobust                                         \n",
       "==============================================================================\n",
       "                 coef    std err          t      P>|t|      [0.025      0.975]\n",
       "------------------------------------------------------------------------------\n",
       "const          3.4206      0.098     34.729      0.000       3.227       3.614\n",
       "smoker        -0.8778      0.104     -8.422      0.000      -1.082      -0.673\n",
       "==============================================================================\n",
       "Omnibus:                       37.782   Durbin-Watson:                   1.125\n",
       "Prob(Omnibus):                  0.000   Jarque-Bera (JB):               42.957\n",
       "Skew:                           0.622   Prob(JB):                     4.70e-10\n",
       "Kurtosis:                       3.167   Cond. No.                         5.96\n",
       "==============================================================================\n",
       "\n",
       "Notes:\n",
       "[1] Standard Errors assume that the covariance matrix of the errors is correctly specified.\n",
       "\"\"\""
      ]
     },
     "execution_count": 41,
     "metadata": {},
     "output_type": "execute_result"
    }
   ],
   "source": [
    "X=df['Smoke_habit']\n",
    "X=pd.get_dummies(X,drop_first=True)\n",
    "y=df['FEV']\n",
    "X=sm.add_constant(X)\n",
    "model_1st=sm.OLS(y,X).fit()\n",
    "model_1st.summary()"
   ]
  },
  {
   "cell_type": "code",
   "execution_count": null,
   "metadata": {},
   "outputs": [],
   "source": [
    "#the model is not a significance model"
   ]
  },
  {
   "cell_type": "markdown",
   "metadata": {
    "collapsed": true
   },
   "source": [
    "<table align=\"left\">\n",
    "    <tr>\n",
    "        <td width=\"6%\">\n",
    "            <img src=\"question_icon.png\">\n",
    "        </td>\n",
    "        <td>\n",
    "            <div align=\"left\", style=\"font-size:120%\">\n",
    "                <font color=\"#21618C\">\n",
    "                    <b>15. A Linear regression model is used to analyze the impact of all possible features on respiratory function (FEV). How do we check whether there is multicollinearity present or not?</b>\n",
    "                </font>\n",
    "            </div>\n",
    "        </td>\n",
    "    </tr>\n",
    "</table>"
   ]
  },
  {
   "cell_type": "code",
   "execution_count": 45,
   "metadata": {
    "scrolled": false
   },
   "outputs": [],
   "source": [
    "dummy_var=pd.get_dummies(df_cat,drop_first=True)\n",
    "df_num=df_num.drop('FEV',axis=1)"
   ]
  },
  {
   "cell_type": "code",
   "execution_count": 48,
   "metadata": {},
   "outputs": [
    {
     "data": {
      "text/html": [
       "<table class=\"simpletable\">\n",
       "<caption>OLS Regression Results</caption>\n",
       "<tr>\n",
       "  <th>Dep. Variable:</th>           <td>FEV</td>       <th>  R-squared:         </th> <td>   0.701</td> \n",
       "</tr>\n",
       "<tr>\n",
       "  <th>Model:</th>                   <td>OLS</td>       <th>  Adj. R-squared:    </th> <td>   0.699</td> \n",
       "</tr>\n",
       "<tr>\n",
       "  <th>Method:</th>             <td>Least Squares</td>  <th>  F-statistic:       </th> <td>   379.5</td> \n",
       "</tr>\n",
       "<tr>\n",
       "  <th>Date:</th>             <td>Fri, 30 Jul 2021</td> <th>  Prob (F-statistic):</th> <td>2.78e-168</td>\n",
       "</tr>\n",
       "<tr>\n",
       "  <th>Time:</th>                 <td>21:51:36</td>     <th>  Log-Likelihood:    </th> <td> -439.94</td> \n",
       "</tr>\n",
       "<tr>\n",
       "  <th>No. Observations:</th>      <td>   654</td>      <th>  AIC:               </th> <td>   889.9</td> \n",
       "</tr>\n",
       "<tr>\n",
       "  <th>Df Residuals:</th>          <td>   649</td>      <th>  BIC:               </th> <td>   912.3</td> \n",
       "</tr>\n",
       "<tr>\n",
       "  <th>Df Model:</th>              <td>     4</td>      <th>                     </th>     <td> </td>    \n",
       "</tr>\n",
       "<tr>\n",
       "  <th>Covariance Type:</th>      <td>nonrobust</td>    <th>                     </th>     <td> </td>    \n",
       "</tr>\n",
       "</table>\n",
       "<table class=\"simpletable\">\n",
       "<tr>\n",
       "           <td></td>             <th>coef</th>     <th>std err</th>      <th>t</th>      <th>P>|t|</th>  <th>[0.025</th>    <th>0.975]</th>  \n",
       "</tr>\n",
       "<tr>\n",
       "  <th>const</th>              <td>  -16.5268</td> <td>    0.575</td> <td>  -28.727</td> <td> 0.000</td> <td>  -17.656</td> <td>  -15.397</td>\n",
       "</tr>\n",
       "<tr>\n",
       "  <th>Age</th>                <td>    0.0026</td> <td>    0.007</td> <td>    0.374</td> <td> 0.708</td> <td>   -0.011</td> <td>    0.016</td>\n",
       "</tr>\n",
       "<tr>\n",
       "  <th>Height (cm)</th>        <td>    0.1192</td> <td>    0.003</td> <td>   34.063</td> <td> 0.000</td> <td>    0.112</td> <td>    0.126</td>\n",
       "</tr>\n",
       "<tr>\n",
       "  <th>Sex_M</th>              <td>    0.1801</td> <td>    0.038</td> <td>    4.769</td> <td> 0.000</td> <td>    0.106</td> <td>    0.254</td>\n",
       "</tr>\n",
       "<tr>\n",
       "  <th>Smoke_habit_smoker</th> <td>   -0.2231</td> <td>    0.063</td> <td>   -3.515</td> <td> 0.000</td> <td>   -0.348</td> <td>   -0.098</td>\n",
       "</tr>\n",
       "</table>\n",
       "<table class=\"simpletable\">\n",
       "<tr>\n",
       "  <th>Omnibus:</th>       <td>113.397</td> <th>  Durbin-Watson:     </th> <td>   1.647</td> \n",
       "</tr>\n",
       "<tr>\n",
       "  <th>Prob(Omnibus):</th> <td> 0.000</td>  <th>  Jarque-Bera (JB):  </th> <td> 652.393</td> \n",
       "</tr>\n",
       "<tr>\n",
       "  <th>Skew:</th>          <td>-0.625</td>  <th>  Prob(JB):          </th> <td>2.16e-142</td>\n",
       "</tr>\n",
       "<tr>\n",
       "  <th>Kurtosis:</th>      <td> 7.730</td>  <th>  Cond. No.          </th> <td>5.03e+03</td> \n",
       "</tr>\n",
       "</table><br/><br/>Notes:<br/>[1] Standard Errors assume that the covariance matrix of the errors is correctly specified.<br/>[2] The condition number is large, 5.03e+03. This might indicate that there are<br/>strong multicollinearity or other numerical problems."
      ],
      "text/plain": [
       "<class 'statsmodels.iolib.summary.Summary'>\n",
       "\"\"\"\n",
       "                            OLS Regression Results                            \n",
       "==============================================================================\n",
       "Dep. Variable:                    FEV   R-squared:                       0.701\n",
       "Model:                            OLS   Adj. R-squared:                  0.699\n",
       "Method:                 Least Squares   F-statistic:                     379.5\n",
       "Date:                Fri, 30 Jul 2021   Prob (F-statistic):          2.78e-168\n",
       "Time:                        21:51:36   Log-Likelihood:                -439.94\n",
       "No. Observations:                 654   AIC:                             889.9\n",
       "Df Residuals:                     649   BIC:                             912.3\n",
       "Df Model:                           4                                         \n",
       "Covariance Type:            nonrobust                                         \n",
       "======================================================================================\n",
       "                         coef    std err          t      P>|t|      [0.025      0.975]\n",
       "--------------------------------------------------------------------------------------\n",
       "const                -16.5268      0.575    -28.727      0.000     -17.656     -15.397\n",
       "Age                    0.0026      0.007      0.374      0.708      -0.011       0.016\n",
       "Height (cm)            0.1192      0.003     34.063      0.000       0.112       0.126\n",
       "Sex_M                  0.1801      0.038      4.769      0.000       0.106       0.254\n",
       "Smoke_habit_smoker    -0.2231      0.063     -3.515      0.000      -0.348      -0.098\n",
       "==============================================================================\n",
       "Omnibus:                      113.397   Durbin-Watson:                   1.647\n",
       "Prob(Omnibus):                  0.000   Jarque-Bera (JB):              652.393\n",
       "Skew:                          -0.625   Prob(JB):                    2.16e-142\n",
       "Kurtosis:                       7.730   Cond. No.                     5.03e+03\n",
       "==============================================================================\n",
       "\n",
       "Notes:\n",
       "[1] Standard Errors assume that the covariance matrix of the errors is correctly specified.\n",
       "[2] The condition number is large, 5.03e+03. This might indicate that there are\n",
       "strong multicollinearity or other numerical problems.\n",
       "\"\"\""
      ]
     },
     "execution_count": 48,
     "metadata": {},
     "output_type": "execute_result"
    }
   ],
   "source": [
    "X=pd.concat([df_num,dummy_var],axis=1)\n",
    "y=df['FEV']\n",
    "final_model=sm.OLS(y,sm.add_constant(X)).fit()\n",
    "final_model.summary()"
   ]
  },
  {
   "cell_type": "code",
   "execution_count": 52,
   "metadata": {},
   "outputs": [
    {
     "data": {
      "text/plain": [
       "5027.550971149678"
      ]
     },
     "execution_count": 52,
     "metadata": {},
     "output_type": "execute_result"
    }
   ],
   "source": [
    "final_model.condition_number"
   ]
  },
  {
   "cell_type": "markdown",
   "metadata": {
    "collapsed": true
   },
   "source": [
    "<table align=\"left\">\n",
    "    <tr>\n",
    "        <td width=\"6%\">\n",
    "            <img src=\"question_icon.png\">\n",
    "        </td>\n",
    "        <td>\n",
    "            <div align=\"left\", style=\"font-size:120%\">\n",
    "                <font color=\"#21618C\">\n",
    "                    <b>16.  A Linear regression model is used to analyze the impact of all possible features on respiratory function (FEV). Check whether the error terms are serially independent?</b>\n",
    "                </font>\n",
    "            </div>\n",
    "        </td>\n",
    "    </tr>\n",
    "</table>"
   ]
  },
  {
   "cell_type": "code",
   "execution_count": 55,
   "metadata": {},
   "outputs": [
    {
     "data": {
      "text/plain": [
       "1.6472983005218609"
      ]
     },
     "execution_count": 55,
     "metadata": {},
     "output_type": "execute_result"
    }
   ],
   "source": [
    "from statsmodels.stats.stattools import durbin_watson\n",
    "durbin_watson(final_model.resid)"
   ]
  },
  {
   "cell_type": "markdown",
   "metadata": {
    "collapsed": true
   },
   "source": [
    "<table align=\"left\">\n",
    "    <tr>\n",
    "        <td width=\"6%\">\n",
    "            <img src=\"question_icon.png\">\n",
    "        </td>\n",
    "        <td>\n",
    "            <div align=\"left\", style=\"font-size:120%\">\n",
    "                <font color=\"#21618C\">\n",
    "                    <b>17. A model is built using all the features to predict the FEV. Check whether the residuals obtained form the model are normally distributed. </b>\n",
    "                </font>\n",
    "            </div>\n",
    "        </td>\n",
    "    </tr>\n",
    "</table>"
   ]
  },
  {
   "cell_type": "code",
   "execution_count": 56,
   "metadata": {
    "scrolled": false
   },
   "outputs": [
    {
     "data": {
      "text/plain": [
       "-0.626911530132982"
      ]
     },
     "execution_count": 56,
     "metadata": {},
     "output_type": "execute_result"
    }
   ],
   "source": [
    "final_model.resid.skew()"
   ]
  },
  {
   "cell_type": "code",
   "execution_count": 58,
   "metadata": {},
   "outputs": [
    {
     "data": {
      "text/plain": [
       "<AxesSubplot:ylabel='Density'>"
      ]
     },
     "execution_count": 58,
     "metadata": {},
     "output_type": "execute_result"
    },
    {
     "data": {
      "image/png": "[encoded data removed]",
      "text/plain": [
       "<Figure size 432x288 with 1 Axes>"
      ]
     },
     "metadata": {
      "needs_background": "light"
     },
     "output_type": "display_data"
    }
   ],
   "source": [
    "sns.distplot(final_model.resid)"
   ]
  },
  {
   "cell_type": "markdown",
   "metadata": {},
   "source": [
    "<a id=\"ml_perf\"> </a>\n",
    "## 6. Model Performance"
   ]
  },
  {
   "cell_type": "markdown",
   "metadata": {
    "collapsed": true
   },
   "source": [
    "<table align=\"left\">\n",
    "    <tr>\n",
    "        <td width=\"6%\">\n",
    "            <img src=\"question_icon.png\">\n",
    "        </td>\n",
    "        <td>\n",
    "            <div align=\"left\", style=\"font-size:120%\">\n",
    "                <font color=\"#21618C\">\n",
    "                    <b>18. Build a full model on 70% of the given data. Calculate the mean square error and the root mean square error on the test set.</b>\n",
    "                </font>\n",
    "            </div>\n",
    "        </td>\n",
    "    </tr>\n",
    "</table>"
   ]
  },
  {
   "cell_type": "code",
   "execution_count": 61,
   "metadata": {},
   "outputs": [
    {
     "data": {
      "text/html": [
       "<table class=\"simpletable\">\n",
       "<caption>OLS Regression Results</caption>\n",
       "<tr>\n",
       "  <th>Dep. Variable:</th>           <td>FEV</td>       <th>  R-squared:         </th> <td>   0.700</td> \n",
       "</tr>\n",
       "<tr>\n",
       "  <th>Model:</th>                   <td>OLS</td>       <th>  Adj. R-squared:    </th> <td>   0.698</td> \n",
       "</tr>\n",
       "<tr>\n",
       "  <th>Method:</th>             <td>Least Squares</td>  <th>  F-statistic:       </th> <td>   263.9</td> \n",
       "</tr>\n",
       "<tr>\n",
       "  <th>Date:</th>             <td>Fri, 30 Jul 2021</td> <th>  Prob (F-statistic):</th> <td>9.48e-117</td>\n",
       "</tr>\n",
       "<tr>\n",
       "  <th>Time:</th>                 <td>22:27:28</td>     <th>  Log-Likelihood:    </th> <td> -312.14</td> \n",
       "</tr>\n",
       "<tr>\n",
       "  <th>No. Observations:</th>      <td>   457</td>      <th>  AIC:               </th> <td>   634.3</td> \n",
       "</tr>\n",
       "<tr>\n",
       "  <th>Df Residuals:</th>          <td>   452</td>      <th>  BIC:               </th> <td>   654.9</td> \n",
       "</tr>\n",
       "<tr>\n",
       "  <th>Df Model:</th>              <td>     4</td>      <th>                     </th>     <td> </td>    \n",
       "</tr>\n",
       "<tr>\n",
       "  <th>Covariance Type:</th>      <td>nonrobust</td>    <th>                     </th>     <td> </td>    \n",
       "</tr>\n",
       "</table>\n",
       "<table class=\"simpletable\">\n",
       "<tr>\n",
       "           <td></td>             <th>coef</th>     <th>std err</th>      <th>t</th>      <th>P>|t|</th>  <th>[0.025</th>    <th>0.975]</th>  \n",
       "</tr>\n",
       "<tr>\n",
       "  <th>const</th>              <td>  -16.4435</td> <td>    0.691</td> <td>  -23.784</td> <td> 0.000</td> <td>  -17.802</td> <td>  -15.085</td>\n",
       "</tr>\n",
       "<tr>\n",
       "  <th>Age</th>                <td>   -0.0021</td> <td>    0.008</td> <td>   -0.254</td> <td> 0.800</td> <td>   -0.018</td> <td>    0.014</td>\n",
       "</tr>\n",
       "<tr>\n",
       "  <th>Height (cm)</th>        <td>    0.1193</td> <td>    0.004</td> <td>   28.303</td> <td> 0.000</td> <td>    0.111</td> <td>    0.128</td>\n",
       "</tr>\n",
       "<tr>\n",
       "  <th>Sex_M</th>              <td>    0.1723</td> <td>    0.046</td> <td>    3.751</td> <td> 0.000</td> <td>    0.082</td> <td>    0.263</td>\n",
       "</tr>\n",
       "<tr>\n",
       "  <th>Smoke_habit_smoker</th> <td>   -0.2314</td> <td>    0.074</td> <td>   -3.142</td> <td> 0.002</td> <td>   -0.376</td> <td>   -0.087</td>\n",
       "</tr>\n",
       "</table>\n",
       "<table class=\"simpletable\">\n",
       "<tr>\n",
       "  <th>Omnibus:</th>       <td>69.972</td> <th>  Durbin-Watson:     </th> <td>   2.054</td>\n",
       "</tr>\n",
       "<tr>\n",
       "  <th>Prob(Omnibus):</th> <td> 0.000</td> <th>  Jarque-Bera (JB):  </th> <td> 448.391</td>\n",
       "</tr>\n",
       "<tr>\n",
       "  <th>Skew:</th>          <td>-0.441</td> <th>  Prob(JB):          </th> <td>4.30e-98</td>\n",
       "</tr>\n",
       "<tr>\n",
       "  <th>Kurtosis:</th>      <td> 7.772</td> <th>  Cond. No.          </th> <td>4.99e+03</td>\n",
       "</tr>\n",
       "</table><br/><br/>Notes:<br/>[1] Standard Errors assume that the covariance matrix of the errors is correctly specified.<br/>[2] The condition number is large, 4.99e+03. This might indicate that there are<br/>strong multicollinearity or other numerical problems."
      ],
      "text/plain": [
       "<class 'statsmodels.iolib.summary.Summary'>\n",
       "\"\"\"\n",
       "                            OLS Regression Results                            \n",
       "==============================================================================\n",
       "Dep. Variable:                    FEV   R-squared:                       0.700\n",
       "Model:                            OLS   Adj. R-squared:                  0.698\n",
       "Method:                 Least Squares   F-statistic:                     263.9\n",
       "Date:                Fri, 30 Jul 2021   Prob (F-statistic):          9.48e-117\n",
       "Time:                        22:27:28   Log-Likelihood:                -312.14\n",
       "No. Observations:                 457   AIC:                             634.3\n",
       "Df Residuals:                     452   BIC:                             654.9\n",
       "Df Model:                           4                                         \n",
       "Covariance Type:            nonrobust                                         \n",
       "======================================================================================\n",
       "                         coef    std err          t      P>|t|      [0.025      0.975]\n",
       "--------------------------------------------------------------------------------------\n",
       "const                -16.4435      0.691    -23.784      0.000     -17.802     -15.085\n",
       "Age                   -0.0021      0.008     -0.254      0.800      -0.018       0.014\n",
       "Height (cm)            0.1193      0.004     28.303      0.000       0.111       0.128\n",
       "Sex_M                  0.1723      0.046      3.751      0.000       0.082       0.263\n",
       "Smoke_habit_smoker    -0.2314      0.074     -3.142      0.002      -0.376      -0.087\n",
       "==============================================================================\n",
       "Omnibus:                       69.972   Durbin-Watson:                   2.054\n",
       "Prob(Omnibus):                  0.000   Jarque-Bera (JB):              448.391\n",
       "Skew:                          -0.441   Prob(JB):                     4.30e-98\n",
       "Kurtosis:                       7.772   Cond. No.                     4.99e+03\n",
       "==============================================================================\n",
       "\n",
       "Notes:\n",
       "[1] Standard Errors assume that the covariance matrix of the errors is correctly specified.\n",
       "[2] The condition number is large, 4.99e+03. This might indicate that there are\n",
       "strong multicollinearity or other numerical problems.\n",
       "\"\"\""
      ]
     },
     "execution_count": 61,
     "metadata": {},
     "output_type": "execute_result"
    }
   ],
   "source": [
    "X = pd.concat([df_num,dummy_var],axis=1)\n",
    "y = df[\"FEV\"]\n",
    "X=sm.add_constant(X)\n",
    "X_train, X_test, y_train, y_test= train_test_split(X,y, test_size=.3, random_state=10)\n",
    "\n",
    "final_model = sm.OLS(y_train,X_train).fit()\n",
    "\n",
    "final_model.summary()"
   ]
  },
  {
   "cell_type": "code",
   "execution_count": 62,
   "metadata": {},
   "outputs": [],
   "source": [
    "from sklearn.metrics import mean_squared_error"
   ]
  },
  {
   "cell_type": "code",
   "execution_count": 63,
   "metadata": {},
   "outputs": [],
   "source": [
    "ypred=final_model.predict(X_test)"
   ]
  },
  {
   "cell_type": "code",
   "execution_count": 64,
   "metadata": {},
   "outputs": [
    {
     "name": "stdout",
     "output_type": "stream",
     "text": [
      "MSE  0.21479347005585897\n",
      "RMSE  0.4634581642994964\n"
     ]
    }
   ],
   "source": [
    "ms_error= mean_squared_error(y_test, ypred)\n",
    "print(\"MSE \", ms_error)\n",
    "test_rmse = np.sqrt(ms_error)\n",
    "print(\"RMSE \",test_rmse)"
   ]
  },
  {
   "cell_type": "markdown",
   "metadata": {
    "collapsed": true
   },
   "source": [
    "<table align=\"left\">\n",
    "    <tr>\n",
    "        <td width=\"6%\">\n",
    "            <img src=\"question_icon.png\">\n",
    "        </td>\n",
    "        <td>\n",
    "            <div align=\"left\", style=\"font-size:120%\">\n",
    "                <font color=\"#21618C\">\n",
    "                    <b>19. Calculate the mean absolute error and the  mean absolute percentage error for the test set using the model in Q18. Compare the values of RMSE and MAE. </b>\n",
    "                </font>\n",
    "            </div>\n",
    "        </td>\n",
    "    </tr>\n",
    "</table>"
   ]
  },
  {
   "cell_type": "code",
   "execution_count": 65,
   "metadata": {},
   "outputs": [],
   "source": [
    "def mape(actual, predicted):\n",
    "    return (np.mean(np.abs((actual - predicted) / actual)) * 100)"
   ]
  },
  {
   "cell_type": "code",
   "execution_count": 66,
   "metadata": {},
   "outputs": [
    {
     "name": "stdout",
     "output_type": "stream",
     "text": [
      "MAE VALUE :  0.3334\n",
      "The MAPE value : 14.0775\n"
     ]
    }
   ],
   "source": [
    "test_mae=round(mean_absolute_error(y_test,ypred),4)\n",
    "print('MAE VALUE : ',test_mae)\n",
    "test_mape=round(mape(y_test,ypred),4)\n",
    "print('The MAPE value :',test_mape)"
   ]
  },
  {
   "cell_type": "markdown",
   "metadata": {
    "collapsed": true
   },
   "source": [
    "<table align=\"left\">\n",
    "    <tr>\n",
    "        <td width=\"6%\">\n",
    "            <img src=\"question_icon.png\">\n",
    "        </td>\n",
    "        <td>\n",
    "            <div align=\"left\", style=\"font-size:120%\">\n",
    "                <font color=\"#21618C\">\n",
    "                    <b>20. Build the full model on 80% of the given data and check if the model is overfitted? </b>\n",
    "                </font>\n",
    "            </div>\n",
    "        </td>\n",
    "    </tr>\n",
    "</table>"
   ]
  },
  {
   "cell_type": "code",
   "execution_count": 68,
   "metadata": {},
   "outputs": [
    {
     "name": "stdout",
     "output_type": "stream",
     "text": [
      "                            OLS Regression Results                            \n",
      "==============================================================================\n",
      "Dep. Variable:                    FEV   R-squared:                       0.701\n",
      "Model:                            OLS   Adj. R-squared:                  0.699\n",
      "Method:                 Least Squares   F-statistic:                     379.5\n",
      "Date:                Fri, 30 Jul 2021   Prob (F-statistic):          2.78e-168\n",
      "Time:                        22:30:05   Log-Likelihood:                -439.94\n",
      "No. Observations:                 654   AIC:                             889.9\n",
      "Df Residuals:                     649   BIC:                             912.3\n",
      "Df Model:                           4                                         \n",
      "Covariance Type:            nonrobust                                         \n",
      "======================================================================================\n",
      "                         coef    std err          t      P>|t|      [0.025      0.975]\n",
      "--------------------------------------------------------------------------------------\n",
      "const                -16.5268      0.575    -28.727      0.000     -17.656     -15.397\n",
      "Age                    0.0026      0.007      0.374      0.708      -0.011       0.016\n",
      "Height (cm)            0.1192      0.003     34.063      0.000       0.112       0.126\n",
      "Sex_M                  0.1801      0.038      4.769      0.000       0.106       0.254\n",
      "Smoke_habit_smoker    -0.2231      0.063     -3.515      0.000      -0.348      -0.098\n",
      "==============================================================================\n",
      "Omnibus:                      113.397   Durbin-Watson:                   1.647\n",
      "Prob(Omnibus):                  0.000   Jarque-Bera (JB):              652.393\n",
      "Skew:                          -0.625   Prob(JB):                    2.16e-142\n",
      "Kurtosis:                       7.730   Cond. No.                     5.03e+03\n",
      "==============================================================================\n",
      "\n",
      "Notes:\n",
      "[1] Standard Errors assume that the covariance matrix of the errors is correctly specified.\n",
      "[2] The condition number is large, 5.03e+03. This might indicate that there are\n",
      "strong multicollinearity or other numerical problems.\n"
     ]
    }
   ],
   "source": [
    "FEV_num = df.select_dtypes(include=np.number).drop([\"FEV\"],axis=1)\n",
    "FEV_cat = df.select_dtypes(include=\"object\")\n",
    "dummy_variables = pd.get_dummies(FEV_cat, drop_first=True)\n",
    "X = pd.concat([FEV_num, dummy_variables],axis=1)\n",
    "X = sm.add_constant(X)\n",
    "y = df[\"FEV\"]\n",
    "X_train, X_test, y_train, y_test = train_test_split(X, y, random_state = 1, test_size = 0.2)\n",
    "MLR_model = sm.OLS(y, X).fit()\n",
    "print(MLR_model.summary())\n",
    "\n",
    "train_pred = MLR_model.predict(X_train)\n",
    "test_pred = MLR_model.predict(X_test)"
   ]
  },
  {
   "cell_type": "code",
   "execution_count": 69,
   "metadata": {},
   "outputs": [
    {
     "name": "stdout",
     "output_type": "stream",
     "text": [
      "RMSE on train set:  0.4694\n",
      "\n",
      " Root Mean Squared Error (RMSE) on test set:  0.4928\n"
     ]
    }
   ],
   "source": [
    "train_mse = mean_squared_error(y_train, train_pred)\n",
    "train_rmse = round(np.sqrt(train_mse), 4)\n",
    "print(\"RMSE on train set: \",train_rmse)\n",
    "mse_test = mean_squared_error(y_test, test_pred)\n",
    "rmse_test = round(np.sqrt(mse_test), 4)\n",
    "print(\"\\n Root Mean Squared Error (RMSE) on test set: \", rmse_test)"
   ]
  }
 ],
 "metadata": {
  "kernelspec": {
   "display_name": "Python 3",
   "language": "python",
   "name": "python3"
  },
  "language_info": {
   "codemirror_mode": {
    "name": "ipython",
    "version": 3
   },
   "file_extension": ".py",
   "mimetype": "text/x-python",
   "name": "python",
   "nbconvert_exporter": "python",
   "pygments_lexer": "ipython3",
   "version": "3.8.5"
  }
 },
 "nbformat": 4,
 "nbformat_minor": 2
}
