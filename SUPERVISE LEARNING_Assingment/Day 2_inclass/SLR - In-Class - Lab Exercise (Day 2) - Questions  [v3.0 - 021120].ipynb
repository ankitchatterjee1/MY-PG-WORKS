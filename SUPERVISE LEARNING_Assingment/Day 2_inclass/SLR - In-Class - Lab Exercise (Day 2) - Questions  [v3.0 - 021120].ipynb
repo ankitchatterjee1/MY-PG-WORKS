{
 "cells": [
  {
   "cell_type": "markdown",
   "metadata": {},
   "source": [
    "<table align=\"center\" width=100%>\n",
    "    <tr>\n",
    "        <td width=\"15%\">\n",
    "            <img src=\"in_class.png\">\n",
    "        </td>\n",
    "        <td>\n",
    "            <div align=\"center\">\n",
    "                <font color=\"#21618C\" size=8px>\n",
    "                    <b> Inclass - Lab <br>(Day 2)\n",
    "                    </b>\n",
    "                </font>\n",
    "            </div>\n",
    "        </td>\n",
    "    </tr>\n",
    "</table>"
   ]
  },
  {
   "cell_type": "markdown",
   "metadata": {},
   "source": [
    "### About the data set (White wine data)\n",
    "\n",
    "The dataset contains information about several factors describing the quality of white wine. <br> Attribute information: \n",
    "\n",
    "**Fixed_Acidity:** The ph value for titrable acid content (0-7)\n",
    "\n",
    "**Volatile_Acidity:** Measure of acidity due to bacteria\n",
    "\n",
    "**Citric_Acid:** Amount of citric acid present in wine\n",
    "\n",
    "**Residual_Sugar:** Amount of grape sugar in gms/litre\n",
    "\n",
    "**Chlorides:** Amount of chlorides present in wine\n",
    "\n",
    "**Free_Sulfur-dioxide:** Amount of SO2 that is not bound to other molecules\n",
    "\n",
    "**Total_Sulfur-dioxide:** Portion of SO2 that is free in the wine plus the portion that is bound to other chemicals in the wine\n",
    "\n",
    "**Density:** Density of wine (gms/cm<sup>3</sup>)\n",
    "\n",
    "**pH:** The pH value of wine (0-14)\n",
    "\n",
    "**Sulphates:** Amount of salts of sulphuric acid \n",
    "\n",
    "**Alcohol:** Alcohol content in percentage\n",
    "\n",
    "**Quality:** Wine quality \n",
    "\n",
    "Data citation: P. Cortez, A. Cerdeira, F. Almeida, T. Matos and J. Reis. Modeling wine preferences by data mining from physicochemical properties. In Decision Support Systems, Elsevier, 47(4):547-553, 2009."
   ]
  },
  {
   "cell_type": "markdown",
   "metadata": {},
   "source": [
    "## Table of Content\n",
    "\n",
    "1. **[Feature Transformation](#trans)**\n",
    "2. **[Feature Selection](#sel)**\n",
    "3. **[Model Validation](#cv)**"
   ]
  },
  {
   "cell_type": "markdown",
   "metadata": {},
   "source": [
    "**Import the required libraries**"
   ]
  },
  {
   "cell_type": "code",
   "execution_count": 1,
   "metadata": {},
   "outputs": [],
   "source": [
    "# import 'Pandas' \n",
    "import pandas as pd \n",
    "\n",
    "# import 'Numpy' \n",
    "import numpy as np\n",
    "\n",
    "# import subpackage of Matplotlib\n",
    "import matplotlib.pyplot as plt\n",
    "\n",
    "# import 'Seaborn' \n",
    "import seaborn as sns\n",
    "\n",
    "# to suppress warnings \n",
    "from warnings import filterwarnings\n",
    "filterwarnings('ignore')\n",
    "\n",
    "# display all columns of the dataframe\n",
    "pd.options.display.max_columns = None\n",
    "\n",
    "# display all rows of the dataframe\n",
    "pd.options.display.max_rows = None\n",
    " \n",
    "# to display the float values upto 6 decimal places     \n",
    "pd.options.display.float_format = '{:.6f}'.format\n",
    "\n",
    "# import train-test split \n",
    "from sklearn.model_selection import train_test_split\n",
    "\n",
    "# import various functions from statsmodels\n",
    "import statsmodels\n",
    "import statsmodels.api as sm\n",
    "import statsmodels.stats.api as sms\n",
    "from statsmodels.graphics.gofplots import qqplot\n",
    "\n",
    "# import 'stats'\n",
    "from scipy import stats\n",
    "\n",
    "# 'metrics' from sklearn is used for evaluating the model performance\n",
    "from sklearn.metrics import mean_squared_error\n",
    "\n",
    "# import functions to perform feature selection\n",
    "\n",
    "from sklearn.feature_selection import RFE\n",
    "\n",
    "# import function to perform linear regression\n",
    "from sklearn.linear_model import LinearRegression\n",
    "\n",
    "# import functions to perform cross validation\n",
    "from sklearn.model_selection import LeaveOneOut\n",
    "from sklearn.model_selection import cross_val_score\n",
    "from sklearn.model_selection import KFold"
   ]
  },
  {
   "cell_type": "code",
   "execution_count": 29,
   "metadata": {},
   "outputs": [],
   "source": [
    "from statsmodels.stats.outliers_influence import variance_inflation_factor"
   ]
  },
  {
   "cell_type": "code",
   "execution_count": 2,
   "metadata": {},
   "outputs": [
    {
     "name": "stdout",
     "output_type": "stream",
     "text": [
      "Requirement already satisfied: mlxtend in c:\\programdata\\anaconda3\\lib\\site-packages (0.18.0)\n",
      "Requirement already satisfied: scikit-learn>=0.20.3 in c:\\programdata\\anaconda3\\lib\\site-packages (from mlxtend) (0.23.2)\n",
      "Requirement already satisfied: numpy>=1.16.2 in c:\\programdata\\anaconda3\\lib\\site-packages (from mlxtend) (1.19.2)\n",
      "Requirement already satisfied: pandas>=0.24.2 in c:\\programdata\\anaconda3\\lib\\site-packages (from mlxtend) (1.1.3)\n",
      "Requirement already satisfied: joblib>=0.13.2 in c:\\programdata\\anaconda3\\lib\\site-packages (from mlxtend) (0.17.0)\n",
      "Requirement already satisfied: matplotlib>=3.0.0 in c:\\programdata\\anaconda3\\lib\\site-packages (from mlxtend) (3.3.2)\n",
      "Requirement already satisfied: scipy>=1.2.1 in c:\\programdata\\anaconda3\\lib\\site-packages (from mlxtend) (1.5.2)\n",
      "Requirement already satisfied: setuptools in c:\\programdata\\anaconda3\\lib\\site-packages (from mlxtend) (50.3.1.post20201107)\n",
      "Requirement already satisfied: threadpoolctl>=2.0.0 in c:\\programdata\\anaconda3\\lib\\site-packages (from scikit-learn>=0.20.3->mlxtend) (2.1.0)\n",
      "Requirement already satisfied: python-dateutil>=2.7.3 in c:\\programdata\\anaconda3\\lib\\site-packages (from pandas>=0.24.2->mlxtend) (2.8.1)\n",
      "Requirement already satisfied: pytz>=2017.2 in c:\\programdata\\anaconda3\\lib\\site-packages (from pandas>=0.24.2->mlxtend) (2020.1)\n",
      "Requirement already satisfied: certifi>=2020.06.20 in c:\\programdata\\anaconda3\\lib\\site-packages (from matplotlib>=3.0.0->mlxtend) (2020.6.20)\n",
      "Requirement already satisfied: pyparsing!=2.0.4,!=2.1.2,!=2.1.6,>=2.0.3 in c:\\programdata\\anaconda3\\lib\\site-packages (from matplotlib>=3.0.0->mlxtend) (2.4.7)\n",
      "Requirement already satisfied: cycler>=0.10 in c:\\programdata\\anaconda3\\lib\\site-packages (from matplotlib>=3.0.0->mlxtend) (0.10.0)\n",
      "Requirement already satisfied: pillow>=6.2.0 in c:\\programdata\\anaconda3\\lib\\site-packages (from matplotlib>=3.0.0->mlxtend) (8.0.1)\n",
      "Requirement already satisfied: kiwisolver>=1.0.1 in c:\\programdata\\anaconda3\\lib\\site-packages (from matplotlib>=3.0.0->mlxtend) (1.3.0)\n",
      "Requirement already satisfied: six>=1.5 in c:\\programdata\\anaconda3\\lib\\site-packages (from python-dateutil>=2.7.3->pandas>=0.24.2->mlxtend) (1.15.0)\n",
      "Note: you may need to restart the kernel to use updated packages.\n"
     ]
    }
   ],
   "source": [
    "pip install mlxtend"
   ]
  },
  {
   "cell_type": "code",
   "execution_count": 2,
   "metadata": {},
   "outputs": [],
   "source": [
    "from mlxtend.feature_selection import SequentialFeatureSelector as sfs"
   ]
  },
  {
   "cell_type": "code",
   "execution_count": 3,
   "metadata": {},
   "outputs": [],
   "source": [
    "from sklearn.feature_selection import RFE\n"
   ]
  },
  {
   "cell_type": "code",
   "execution_count": 34,
   "metadata": {},
   "outputs": [
    {
     "data": {
      "text/html": [
       "<div>\n",
       "<style scoped>\n",
       "    .dataframe tbody tr th:only-of-type {\n",
       "        vertical-align: middle;\n",
       "    }\n",
       "\n",
       "    .dataframe tbody tr th {\n",
       "        vertical-align: top;\n",
       "    }\n",
       "\n",
       "    .dataframe thead th {\n",
       "        text-align: right;\n",
       "    }\n",
       "</style>\n",
       "<table border=\"1\" class=\"dataframe\">\n",
       "  <thead>\n",
       "    <tr style=\"text-align: right;\">\n",
       "      <th></th>\n",
       "      <th>fixed acidity</th>\n",
       "      <th>volatile acidity</th>\n",
       "      <th>citric acid</th>\n",
       "      <th>residual sugar</th>\n",
       "      <th>chlorides</th>\n",
       "      <th>free sulfur dioxide</th>\n",
       "      <th>total sulfur dioxide</th>\n",
       "      <th>density</th>\n",
       "      <th>pH</th>\n",
       "      <th>sulphates</th>\n",
       "      <th>alcohol</th>\n",
       "      <th>quality</th>\n",
       "    </tr>\n",
       "  </thead>\n",
       "  <tbody>\n",
       "    <tr>\n",
       "      <th>0</th>\n",
       "      <td>7.000000</td>\n",
       "      <td>0.270000</td>\n",
       "      <td>0.360000</td>\n",
       "      <td>20.700000</td>\n",
       "      <td>0.045000</td>\n",
       "      <td>45.000000</td>\n",
       "      <td>170.000000</td>\n",
       "      <td>1.001000</td>\n",
       "      <td>3.000000</td>\n",
       "      <td>0.450000</td>\n",
       "      <td>8.800000</td>\n",
       "      <td>6</td>\n",
       "    </tr>\n",
       "    <tr>\n",
       "      <th>1</th>\n",
       "      <td>6.300000</td>\n",
       "      <td>0.300000</td>\n",
       "      <td>0.340000</td>\n",
       "      <td>1.600000</td>\n",
       "      <td>0.049000</td>\n",
       "      <td>14.000000</td>\n",
       "      <td>132.000000</td>\n",
       "      <td>0.994000</td>\n",
       "      <td>3.300000</td>\n",
       "      <td>0.490000</td>\n",
       "      <td>9.500000</td>\n",
       "      <td>6</td>\n",
       "    </tr>\n",
       "    <tr>\n",
       "      <th>2</th>\n",
       "      <td>8.100000</td>\n",
       "      <td>0.280000</td>\n",
       "      <td>0.400000</td>\n",
       "      <td>6.900000</td>\n",
       "      <td>0.050000</td>\n",
       "      <td>30.000000</td>\n",
       "      <td>97.000000</td>\n",
       "      <td>0.995100</td>\n",
       "      <td>3.260000</td>\n",
       "      <td>0.440000</td>\n",
       "      <td>10.100000</td>\n",
       "      <td>6</td>\n",
       "    </tr>\n",
       "    <tr>\n",
       "      <th>3</th>\n",
       "      <td>7.200000</td>\n",
       "      <td>0.230000</td>\n",
       "      <td>0.320000</td>\n",
       "      <td>8.500000</td>\n",
       "      <td>0.058000</td>\n",
       "      <td>47.000000</td>\n",
       "      <td>186.000000</td>\n",
       "      <td>0.995600</td>\n",
       "      <td>3.190000</td>\n",
       "      <td>0.400000</td>\n",
       "      <td>9.900000</td>\n",
       "      <td>6</td>\n",
       "    </tr>\n",
       "    <tr>\n",
       "      <th>4</th>\n",
       "      <td>7.200000</td>\n",
       "      <td>0.230000</td>\n",
       "      <td>0.320000</td>\n",
       "      <td>8.500000</td>\n",
       "      <td>0.058000</td>\n",
       "      <td>47.000000</td>\n",
       "      <td>186.000000</td>\n",
       "      <td>0.995600</td>\n",
       "      <td>3.190000</td>\n",
       "      <td>0.400000</td>\n",
       "      <td>9.900000</td>\n",
       "      <td>6</td>\n",
       "    </tr>\n",
       "  </tbody>\n",
       "</table>\n",
       "</div>"
      ],
      "text/plain": [
       "   fixed acidity  volatile acidity  citric acid  residual sugar  chlorides  \\\n",
       "0       7.000000          0.270000     0.360000       20.700000   0.045000   \n",
       "1       6.300000          0.300000     0.340000        1.600000   0.049000   \n",
       "2       8.100000          0.280000     0.400000        6.900000   0.050000   \n",
       "3       7.200000          0.230000     0.320000        8.500000   0.058000   \n",
       "4       7.200000          0.230000     0.320000        8.500000   0.058000   \n",
       "\n",
       "   free sulfur dioxide  total sulfur dioxide  density       pH  sulphates  \\\n",
       "0            45.000000            170.000000 1.001000 3.000000   0.450000   \n",
       "1            14.000000            132.000000 0.994000 3.300000   0.490000   \n",
       "2            30.000000             97.000000 0.995100 3.260000   0.440000   \n",
       "3            47.000000            186.000000 0.995600 3.190000   0.400000   \n",
       "4            47.000000            186.000000 0.995600 3.190000   0.400000   \n",
       "\n",
       "    alcohol  quality  \n",
       "0  8.800000        6  \n",
       "1  9.500000        6  \n",
       "2 10.100000        6  \n",
       "3  9.900000        6  \n",
       "4  9.900000        6  "
      ]
     },
     "execution_count": 34,
     "metadata": {},
     "output_type": "execute_result"
    }
   ],
   "source": [
    "df_w=pd.read_csv('whitewine.csv',sep=';')\n",
    "df_w.head()"
   ]
  },
  {
   "cell_type": "markdown",
   "metadata": {},
   "source": [
    "#### Load the first dataset and check the first two observations"
   ]
  },
  {
   "cell_type": "code",
   "execution_count": 5,
   "metadata": {},
   "outputs": [
    {
     "data": {
      "text/plain": [
       "fixed acidity           float64\n",
       "volatile acidity        float64\n",
       "citric acid             float64\n",
       "residual sugar          float64\n",
       "chlorides               float64\n",
       "free sulfur dioxide     float64\n",
       "total sulfur dioxide    float64\n",
       "density                 float64\n",
       "pH                      float64\n",
       "sulphates               float64\n",
       "alcohol                 float64\n",
       "quality                   int64\n",
       "dtype: object"
      ]
     },
     "execution_count": 5,
     "metadata": {},
     "output_type": "execute_result"
    }
   ],
   "source": [
    "# check data types of variables\n",
    "df_w.dtypes"
   ]
  },
  {
   "cell_type": "markdown",
   "metadata": {},
   "source": [
    "### Let's begin with some hands-on practice exercises"
   ]
  },
  {
   "cell_type": "markdown",
   "metadata": {},
   "source": [
    "<a id=\"trans\"> </a>\n",
    "## 1. Feature Transformation"
   ]
  },
  {
   "cell_type": "markdown",
   "metadata": {},
   "source": [
    "## We shall use the wine quality dataset"
   ]
  },
  {
   "cell_type": "markdown",
   "metadata": {
    "collapsed": true
   },
   "source": [
    "<table align=\"left\">\n",
    "    <tr>\n",
    "        <td width=\"6%\">\n",
    "            <img src=\"question_icon.png\">\n",
    "        </td>\n",
    "        <td>\n",
    "            <div align=\"left\", style=\"font-size:120%\">\n",
    "                <font color=\"#21618C\">\n",
    "                    <b>1. Does the variable 'volatile acidity' need transformation ?</b>\n",
    "                </font>\n",
    "            </div>\n",
    "        </td>\n",
    "    </tr>\n",
    "</table>"
   ]
  },
  {
   "cell_type": "code",
   "execution_count": 6,
   "metadata": {},
   "outputs": [
    {
     "data": {
      "text/plain": [
       "<AxesSubplot:xlabel='volatile acidity', ylabel='Density'>"
      ]
     },
     "execution_count": 6,
     "metadata": {},
     "output_type": "execute_result"
    },
    {
     "data": {
      "image/png": "[encoded data removed]",
      "text/plain": [
       "<Figure size 432x288 with 1 Axes>"
      ]
     },
     "metadata": {
      "needs_background": "light"
     },
     "output_type": "display_data"
    }
   ],
   "source": [
    "sns.distplot(df_w['volatile acidity'])"
   ]
  },
  {
   "cell_type": "code",
   "execution_count": 8,
   "metadata": {},
   "outputs": [],
   "source": [
    "#yes"
   ]
  },
  {
   "cell_type": "markdown",
   "metadata": {
    "collapsed": true
   },
   "source": [
    "<table align=\"left\">\n",
    "    <tr>\n",
    "        <td width=\"6%\">\n",
    "            <img src=\"question_icon.png\">\n",
    "        </td>\n",
    "        <td>\n",
    "            <div align=\"left\", style=\"font-size:120%\">\n",
    "                <font color=\"#21618C\">\n",
    "                    <b>2. How can we reduce skewness of variable 'Residual_Sugar'?</b>\n",
    "                </font>\n",
    "            </div>\n",
    "        </td>\n",
    "    </tr>\n",
    "</table>"
   ]
  },
  {
   "cell_type": "code",
   "execution_count": 7,
   "metadata": {},
   "outputs": [],
   "source": [
    "d=np.log(df_w['residual sugar'])\n"
   ]
  },
  {
   "cell_type": "code",
   "execution_count": 8,
   "metadata": {},
   "outputs": [
    {
     "data": {
      "text/plain": [
       "-0.1611568975182972"
      ]
     },
     "execution_count": 8,
     "metadata": {},
     "output_type": "execute_result"
    }
   ],
   "source": [
    "d.skew()"
   ]
  },
  {
   "cell_type": "code",
   "execution_count": 9,
   "metadata": {},
   "outputs": [
    {
     "data": {
      "text/plain": [
       "fixed acidity          -0.010802\n",
       "volatile acidity        0.008625\n",
       "citric acid            -0.074578\n",
       "residual sugar          0.001397\n",
       "chlorides              -0.066480\n",
       "free sulfur dioxide     0.026995\n",
       "total sulfur dioxide    0.021973\n",
       "density                 0.345211\n",
       "pH                     -0.003867\n",
       "sulphates               0.010203\n",
       "alcohol                 0.062252\n",
       "quality                 0.009263\n",
       "dtype: float64"
      ]
     },
     "execution_count": 9,
     "metadata": {},
     "output_type": "execute_result"
    }
   ],
   "source": [
    "from sklearn.preprocessing import PowerTransformer\n",
    "pt=PowerTransformer()\n",
    "r=pd.DataFrame(pt.fit_transform(df_w), columns=df_w.columns)\n",
    "r.skew()\n"
   ]
  },
  {
   "cell_type": "code",
   "execution_count": 10,
   "metadata": {},
   "outputs": [
    {
     "data": {
      "text/plain": [
       "0   0.001397\n",
       "dtype: float64"
      ]
     },
     "execution_count": 10,
     "metadata": {},
     "output_type": "execute_result"
    }
   ],
   "source": [
    "r = pd.DataFrame(pt.fit_transform(df_w[['residual sugar']]))\n",
    "r.skew()\n"
   ]
  },
  {
   "cell_type": "markdown",
   "metadata": {
    "collapsed": true
   },
   "source": [
    "<table align=\"left\">\n",
    "    <tr>\n",
    "        <td width=\"6%\">\n",
    "            <img src=\"question_icon.png\">\n",
    "        </td>\n",
    "        <td>\n",
    "            <div align=\"left\", style=\"font-size:120%\">\n",
    "                <font color=\"#21618C\">\n",
    "                    <b>3. Are there features in the dataset that add little to no information ?</b>\n",
    "                </font>\n",
    "            </div>\n",
    "        </td>\n",
    "    </tr>\n",
    "</table>"
   ]
  },
  {
   "cell_type": "code",
   "execution_count": 11,
   "metadata": {},
   "outputs": [
    {
     "data": {
      "text/plain": [
       "fixed acidity             0.712114\n",
       "volatile acidity          0.010160\n",
       "citric acid               0.014646\n",
       "residual sugar           25.725770\n",
       "chlorides                 0.000477\n",
       "free sulfur dioxide     289.242720\n",
       "total sulfur dioxide   1806.085491\n",
       "density                   0.000009\n",
       "pH                        0.022801\n",
       "sulphates                 0.013025\n",
       "alcohol                   1.514427\n",
       "quality                   0.784356\n",
       "dtype: float64"
      ]
     },
     "execution_count": 11,
     "metadata": {},
     "output_type": "execute_result"
    }
   ],
   "source": [
    "df_w.var()"
   ]
  },
  {
   "cell_type": "code",
   "execution_count": 12,
   "metadata": {},
   "outputs": [
    {
     "data": {
      "text/plain": [
       "array([1.001   , 0.994   , 0.9951  , 0.9956  , 0.9949  , 0.9938  ,\n",
       "       0.9908  , 0.9947  , 0.992   , 0.9912  , 1.0002  , 0.9914  ,\n",
       "       0.9928  , 0.9892  , 0.9917  , 0.9955  , 0.993   , 0.9937  ,\n",
       "       0.9961  , 0.9906  , 0.9974  , 0.9934  , 0.9939  , 0.9962  ,\n",
       "       0.9905  , 0.9999  , 0.9954  , 0.9931  , 0.995   , 0.991   ,\n",
       "       0.9911  , 0.9972  , 0.9926  , 0.9927  , 0.9903  , 0.9958  ,\n",
       "       0.9964  , 0.9941  , 0.9898  , 0.9929  , 0.9985  , 0.9946  ,\n",
       "       0.9966  , 0.9975  , 0.9957  , 0.99    , 0.9899  , 0.9916  ,\n",
       "       0.9969  , 0.9979  , 0.9913  , 0.997   , 1.      , 0.999   ,\n",
       "       0.9959  , 0.9982  , 0.9968  , 0.9984  , 0.9952  , 0.9924  ,\n",
       "       0.9923  , 0.9921  , 0.9918  , 0.9919  , 0.9894  , 0.998   ,\n",
       "       0.9932  , 0.9896  , 0.9902  , 0.9936  , 0.9942  , 0.9973  ,\n",
       "       0.9944  , 0.9989  , 0.9971  , 0.9998  , 0.9976  , 0.996   ,\n",
       "       0.9935  , 0.9904  , 0.9996  , 0.9977  , 0.9965  , 0.9945  ,\n",
       "       0.9915  , 0.9909  , 0.9988  , 0.9978  , 0.9933  , 0.9948  ,\n",
       "       0.9995  , 0.9893  , 0.9983  , 0.9993  , 0.9922  , 0.9992  ,\n",
       "       0.9907  , 0.9901  , 0.9987  , 0.9953  , 0.9967  , 0.9963  ,\n",
       "       0.9986  , 0.9925  , 0.9981  , 0.9997  , 0.9943  , 0.99855 ,\n",
       "       0.99345 , 0.99475 , 0.99325 , 0.99685 , 0.99455 , 0.99035 ,\n",
       "       0.99225 , 0.99155 , 0.99695 , 0.99655 , 0.99215 , 0.99115 ,\n",
       "       0.99535 , 0.99165 , 0.99755 , 0.99935 , 0.99585 , 1.00055 ,\n",
       "       0.99505 , 0.99175 , 0.99985 , 0.99865 , 1.0006  , 0.99135 ,\n",
       "       0.99715 , 0.99815 , 0.99445 , 0.99335 , 0.99625 , 0.99085 ,\n",
       "       0.99775 , 0.99795 , 0.99745 , 0.99405 , 0.99785 , 0.99675 ,\n",
       "       0.98965 , 0.99055 , 0.99105 , 0.99045 , 0.99975 , 0.99315 ,\n",
       "       0.99845 , 0.99725 , 0.99255 , 0.9886  , 0.9994  , 0.99185 ,\n",
       "       0.99425 , 0.99495 , 0.99485 , 0.99265 , 0.99965 , 1.0004  ,\n",
       "       0.989   , 1.0003  , 1.0001  , 1.0005  , 1.0012  , 0.9991  ,\n",
       "       0.98815 , 1.0024  , 1.0103  , 1.0008  , 0.99705 , 0.99605 ,\n",
       "       0.99435 , 0.9889  , 1.0007  , 1.0017  , 1.0011  , 0.9897  ,\n",
       "       0.99416 , 0.99516 , 0.99496 , 0.99579 , 0.99471 , 0.99644 ,\n",
       "       0.99699 , 0.99758 , 0.99397 , 0.99243 , 1.00182 , 0.99384 ,\n",
       "       0.99582 , 0.99466 , 0.99212 , 0.99449 , 0.99748 , 0.99189 ,\n",
       "       0.99827 , 0.99752 , 0.99479 , 0.99642 , 1.00047 , 0.99382 ,\n",
       "       0.99784 , 0.99486 , 0.99537 , 0.99838 , 0.99566 , 0.99268 ,\n",
       "       0.99468 , 0.99307 , 0.99907 , 0.99148 , 0.99383 , 0.99365 ,\n",
       "       0.99272 , 0.99235 , 0.99508 , 0.99674 , 0.99018 , 0.99084 ,\n",
       "       0.99856 , 0.99591 , 0.99173 , 0.99378 , 0.99805 , 0.99534 ,\n",
       "       0.99232 , 0.99078 , 0.99061 , 0.99182 , 0.99779 , 0.99814 ,\n",
       "       0.99096 , 0.99379 , 0.99426 , 0.99228 , 0.99595 , 0.99297 ,\n",
       "       0.99687 , 0.99154 , 0.98993 , 1.00241 , 0.99716 , 0.99437 ,\n",
       "       0.99756 , 0.99509 , 0.99572 , 0.99254 , 0.99676 , 0.99194 ,\n",
       "       0.99077 , 0.99782 , 0.99942 , 0.99708 , 0.99353 , 0.99256 ,\n",
       "       0.99199 , 0.99354 , 0.99244 , 0.99831 , 0.99396 , 0.99724 ,\n",
       "       0.99524 , 0.99802 , 0.99512 , 0.99438 , 0.99679 , 0.99652 ,\n",
       "       0.99698 , 0.99474 , 0.99511 , 0.99125 , 0.99168 , 0.99556 ,\n",
       "       1.00098 , 0.99518 , 0.99347 , 0.99841 , 0.99362 , 0.99361 ,\n",
       "       0.99114 , 0.99453 , 0.99806 , 1.00016 , 0.99116 , 0.99319 ,\n",
       "       0.99517 , 0.99514 , 0.99166 , 0.99587 , 0.99558 , 0.99117 ,\n",
       "       0.99399 , 0.99741 , 0.99622 , 1.00051 , 0.99803 , 0.99773 ,\n",
       "       0.99713 , 0.99274 , 1.00118 , 0.99176 , 0.99771 , 0.99411 ,\n",
       "       0.99577 , 0.99564 , 0.99578 , 0.99888 , 1.00014 , 0.99441 ,\n",
       "       0.99594 , 0.99434 , 0.99203 , 0.99316 , 0.99314 , 0.99612 ,\n",
       "       0.99295 , 0.99394 , 0.99248 , 0.99954 , 0.99692 , 0.99592 ,\n",
       "       0.99822 , 0.99402 , 0.99404 , 0.99787 , 0.99839 , 0.99375 ,\n",
       "       0.99571 , 0.99658 , 0.99076 , 0.99542 , 0.99825 , 0.99289 ,\n",
       "       0.99432 , 0.99523 , 0.99543 , 0.99662 , 0.99088 , 0.99922 ,\n",
       "       0.99836 , 0.99238 , 0.99645 , 0.99376 , 0.99513 , 0.99886 ,\n",
       "       0.99526 , 0.99691 , 0.99732 , 0.99573 , 0.99656 , 0.99112 ,\n",
       "       0.99214 , 0.99004 , 0.99463 , 0.99683 , 0.99596 , 0.99898 ,\n",
       "       0.99306 , 0.99342 , 0.99772 , 0.99239 , 0.99502 , 0.99207 ,\n",
       "       0.99497 , 0.99828 , 0.99706 , 0.99669 , 0.99269 , 0.99196 ,\n",
       "       0.99544 , 0.99944 , 0.99066 , 0.99106 , 0.99696 , 0.99167 ,\n",
       "       0.99902 , 0.98992 , 0.98972 , 0.99352 , 0.99273 , 0.99628 ,\n",
       "       0.99553 , 0.98914 , 0.99976 , 0.99808 , 0.99499 , 0.99615 ,\n",
       "       0.99296 , 0.99482 , 0.99079 , 0.99366 , 0.98958 , 0.99938 ,\n",
       "       0.99059 , 0.99835 , 0.99159 , 0.98931 , 0.99563 , 0.99678 ,\n",
       "       0.99089 , 0.99332 , 0.99636 , 0.99202 , 0.99064 , 0.99884 ,\n",
       "       1.00013 , 0.98974 , 0.99136 , 0.99132 , 0.99488 , 0.99527 ,\n",
       "       0.99198 , 0.99561 , 0.98936 , 0.99786 , 0.99688 , 0.99118 ,\n",
       "       0.99044 , 0.98892 , 0.99188 , 0.99583 , 0.99704 , 0.99334 ,\n",
       "       0.99094 , 0.99014 , 0.99304 , 0.98944 , 0.99367 , 0.99183 ,\n",
       "       0.99126 , 0.99428 , 0.99388 , 0.99208 , 0.99904 , 0.99216 ,\n",
       "       0.99924 , 0.99562 , 0.99541 , 0.99276 , 0.99873 , 0.99172 ,\n",
       "       0.99312 , 0.99278 , 0.99092 , 0.99053 , 0.99858 , 0.99532 ,\n",
       "       0.99727 , 0.99026 , 0.99668 , 0.99144 , 0.99015 , 0.99693 ,\n",
       "       0.99006 , 0.98994 , 0.98985 , 0.99882 , 0.99477 , 0.99478 ,\n",
       "       0.99576 , 0.99356 , 0.98952 , 0.99955 , 0.99374 , 0.99237 ,\n",
       "       0.99022 , 0.99032 , 1.03898 , 0.99552 , 0.99604 , 0.99584 ,\n",
       "       0.98894 , 0.99068 , 0.98964 , 0.99801 , 0.99067 , 0.98912 ,\n",
       "       0.99052 , 0.99095 , 0.99581 , 0.99142 , 0.99311 , 0.99776 ,\n",
       "       0.99574 , 0.99093 , 0.99156 , 0.98984 , 0.99008 , 0.99178 ,\n",
       "       0.99046 , 0.98999 , 0.98946 , 0.98976 , 0.99672 , 0.98945 ,\n",
       "       0.98883 , 0.99075 , 0.99436 , 0.98988 , 0.99158 , 0.99195 ,\n",
       "       0.99313 , 0.9895  , 0.99848 , 0.99104 , 0.99413 , 0.99043 ,\n",
       "       0.98982 , 0.98934 , 0.99629 , 0.99326 , 0.99834 , 0.99555 ,\n",
       "       0.98975 , 0.99218 , 0.99601 , 0.98713 , 0.99308 , 0.99494 ,\n",
       "       0.99037 , 0.98986 , 0.98951 , 0.99634 , 0.99368 , 0.99792 ,\n",
       "       0.98919 , 0.99038 , 0.99286 , 0.99119 , 0.99007 , 0.99507 ,\n",
       "       0.99011 , 0.99184 , 0.99469 , 0.99406 , 0.99305 , 0.98956 ,\n",
       "       0.9888  , 0.98942 , 0.99082 , 0.98802 , 0.99074 , 0.98968 ,\n",
       "       0.9887  , 0.99941 , 0.99206 , 0.99016 , 0.99439 , 0.99458 ,\n",
       "       0.99418 , 0.99456 , 0.99546 , 0.99646 , 0.99264 , 0.99489 ,\n",
       "       0.99054 , 0.99519 , 0.99666 , 0.99324 , 0.99086 , 0.99711 ,\n",
       "       0.99452 , 0.99427 , 0.99152 , 0.98935 , 0.98876 , 0.99174 ,\n",
       "       0.99454 , 0.99164 , 0.99778 , 0.99205 , 0.98962 , 0.99253 ,\n",
       "       0.98906 , 0.99146 , 0.99129 , 0.99121 , 0.99221 , 0.98924 ,\n",
       "       0.99252 , 0.99709 , 0.98836 , 0.99586 , 0.99322 , 0.99098 ,\n",
       "       0.99918 , 0.99851 , 0.99293 , 0.99946 , 0.99568 , 0.99684 ,\n",
       "       0.99036 , 0.98865 , 0.99222 , 0.98961 , 0.99123 , 0.99422 ,\n",
       "       0.98926 , 0.99373 , 0.98939 , 0.99318 , 0.99111 , 0.99321 ,\n",
       "       0.99124 , 0.98915 , 0.99234 , 0.99033 , 0.99002 , 0.99057 ,\n",
       "       0.99127 , 0.98938 , 0.99001 , 0.99386 , 0.98916 , 0.99548 ,\n",
       "       0.99412 , 0.99364 , 0.99338 , 0.99328 , 0.99031 , 0.98871 ,\n",
       "       0.99245 , 0.99162 , 0.99632 , 0.99177 , 0.98923 , 0.99358 ,\n",
       "       0.99407 , 0.99226 , 0.99097 , 0.99193 , 0.99091 , 0.99134 ,\n",
       "       0.99229 , 0.99128 , 0.98896 , 0.99056 , 0.99012 , 0.98902 ,\n",
       "       0.99395 , 0.99539 , 0.98889 , 0.99833 , 0.98853 , 0.99266 ,\n",
       "       0.98995 , 0.99048 , 0.99204 , 0.99472 , 0.99665 , 0.98862 ,\n",
       "       0.99151 , 0.99072 , 0.98954 , 0.98794 , 0.99355 , 0.99336 ,\n",
       "       0.98882 , 0.99341 , 0.99042 , 0.99381 , 0.99139 , 0.99192 ,\n",
       "       0.99657 , 0.99392 , 0.99242 , 0.99137 , 1.00196 , 0.99947 ,\n",
       "       0.99945 , 0.99153 , 0.98834 , 0.99138 , 0.98928 , 0.99246 ,\n",
       "       0.99956 , 0.99058 , 0.99554 , 0.99536 , 0.99616 , 0.98918 ,\n",
       "       0.99742 , 0.98884 , 0.99284 , 0.99393 , 0.99408 , 0.99473 ,\n",
       "       0.98998 , 0.98922 , 0.99869 , 0.99108 , 0.99385 , 0.99606 ,\n",
       "       0.98987 , 0.98947 , 0.98819 , 0.99133 , 0.99143 , 0.99186 ,\n",
       "       0.99528 , 0.99279 , 0.99224 , 0.98959 , 1.00037 , 0.99062 ,\n",
       "       0.99398 , 0.99211 , 0.99492 , 0.99654 , 0.99794 , 0.99726 ,\n",
       "       1.00295 , 0.99459 , 0.99966 , 0.99442 , 0.99348 , 0.99283 ,\n",
       "       0.99916 , 0.99498 , 0.98856 , 0.99346 , 0.99071 , 0.98742 ,\n",
       "       0.99275 , 1.00044 , 0.99444 , 0.99344 , 0.98949 , 0.98722 ,\n",
       "       0.99754 , 0.99712 , 0.99299 , 1.00022 , 0.99936 , 0.9884  ,\n",
       "       0.98953 , 0.99567 , 0.9874  , 0.99122 , 0.99099 , 0.99551 ,\n",
       "       0.99702 , 0.99109 , 0.99677 , 0.99522 , 0.99429 , 0.99294 ,\n",
       "       0.99262 , 0.98913 , 0.99021 , 0.99728 , 0.99864 , 0.99545 ,\n",
       "       0.99069 , 0.99896 , 0.98746 , 0.99028 , 0.98867 , 0.98779 ,\n",
       "       0.99751 , 0.99249 , 0.99872 , 0.988245, 0.99282 , 0.99281 ,\n",
       "       0.99047 , 0.99223 , 0.99481 , 0.99863 , 0.99317 , 0.98878 ,\n",
       "       0.99588 , 1.00038 , 0.99424 , 0.99626 , 0.99287 , 0.99971 ,\n",
       "       0.99565 , 0.99027 , 0.99302 , 0.99257 , 0.99506 , 0.99608 ,\n",
       "       0.99024 , 0.98978 , 0.99908 , 0.99853 , 0.99769 , 0.99538 ,\n",
       "       0.99734 , 0.98981 , 0.99737 , 0.99767 , 0.98711 , 0.99714 ,\n",
       "       0.99019 , 0.98886 , 0.99009 , 0.99288 , 0.99659 , 0.99107 ,\n",
       "       0.99163 , 0.99065 , 0.99236 , 0.98948 , 0.99013 , 0.99624 ,\n",
       "       0.99602 , 0.99718 , 0.99464 , 0.99261 , 0.99736 , 0.99041 ,\n",
       "       0.99209 , 0.99251 , 0.99267 , 0.99862 , 0.99462 , 0.99476 ,\n",
       "       0.99081 , 0.98997 , 0.99681 , 0.99627 , 0.99433 , 0.99807 ,\n",
       "       0.99788 , 0.99738 , 0.98963 , 0.99323 , 0.99504 , 0.99461 ,\n",
       "       0.99663 , 0.99372 , 0.99157 , 0.99804 , 0.99899 , 0.99391 ,\n",
       "       0.99824 , 0.99906 , 0.99415 , 0.99611 , 0.99179 , 0.99339 ,\n",
       "       0.99241 , 0.98816 , 0.99329 , 0.99911 , 0.99403 , 0.98898 ,\n",
       "       0.989315, 0.989435, 0.998275, 0.989465, 0.98823 , 0.998365,\n",
       "       0.99837 , 0.99034 , 0.98895 , 0.99457 , 0.99331 , 0.99414 ,\n",
       "       0.99201 , 0.98774 , 0.98966 , 0.99309 , 0.98868 , 0.99063 ,\n",
       "       0.99161 , 0.99271 , 0.98845 , 0.99521 , 0.99943 , 0.9891  ,\n",
       "       0.98872 , 0.99102 , 0.99171 , 0.98904 , 0.98758 , 0.99051 ,\n",
       "       0.99103 , 0.99258 , 0.99005 , 0.98822 , 0.98854 , 0.99298 ,\n",
       "       0.98869 , 0.98941 ])"
      ]
     },
     "execution_count": 12,
     "metadata": {},
     "output_type": "execute_result"
    }
   ],
   "source": [
    "df_w['density'].unique()"
   ]
  },
  {
   "cell_type": "markdown",
   "metadata": {
    "collapsed": true
   },
   "source": [
    "<table align=\"left\">\n",
    "    <tr>\n",
    "        <td width=\"6%\">\n",
    "            <img src=\"question_icon.png\">\n",
    "        </td>\n",
    "        <td>\n",
    "            <div align=\"left\", style=\"font-size:120%\">\n",
    "                <font color=\"#21618C\">\n",
    "                    <b>4. Which transformation method is best suited to treat the skewness in variable 'alcohol'?</b>\n",
    "                </font>\n",
    "            </div>\n",
    "        </td>\n",
    "    </tr>\n",
    "</table>"
   ]
  },
  {
   "cell_type": "code",
   "execution_count": 13,
   "metadata": {},
   "outputs": [
    {
     "data": {
      "text/plain": [
       "<AxesSubplot:xlabel='alcohol', ylabel='Density'>"
      ]
     },
     "execution_count": 13,
     "metadata": {},
     "output_type": "execute_result"
    },
    {
     "data": {
      "image/png": "[encoded data removed]",
      "text/plain": [
       "<Figure size 432x288 with 1 Axes>"
      ]
     },
     "metadata": {
      "needs_background": "light"
     },
     "output_type": "display_data"
    }
   ],
   "source": [
    "sns.distplot(df_w['alcohol'])"
   ]
  },
  {
   "cell_type": "code",
   "execution_count": 14,
   "metadata": {},
   "outputs": [],
   "source": [
    "a=np.sqrt(df_w['alcohol'])"
   ]
  },
  {
   "cell_type": "code",
   "execution_count": 15,
   "metadata": {},
   "outputs": [
    {
     "data": {
      "text/plain": [
       "<AxesSubplot:xlabel='alcohol', ylabel='Density'>"
      ]
     },
     "execution_count": 15,
     "metadata": {},
     "output_type": "execute_result"
    },
    {
     "data": {
      "image/png": "[encoded data removed]",
      "text/plain": [
       "<Figure size 432x288 with 1 Axes>"
      ]
     },
     "metadata": {
      "needs_background": "light"
     },
     "output_type": "display_data"
    }
   ],
   "source": [
    "sns.distplot(a)"
   ]
  },
  {
   "cell_type": "code",
   "execution_count": 16,
   "metadata": {},
   "outputs": [
    {
     "data": {
      "text/plain": [
       "0.3978909427590142"
      ]
     },
     "execution_count": 16,
     "metadata": {},
     "output_type": "execute_result"
    }
   ],
   "source": [
    "a.skew()"
   ]
  },
  {
   "cell_type": "markdown",
   "metadata": {
    "collapsed": true
   },
   "source": [
    "<table align=\"left\">\n",
    "    <tr>\n",
    "        <td width=\"6%\">\n",
    "            <img src=\"question_icon.png\">\n",
    "        </td>\n",
    "        <td>\n",
    "            <div align=\"left\", style=\"font-size:120%\">\n",
    "                <font color=\"#21618C\">\n",
    "                    <b>5. Does scaling the feature 'pH' lead to better prediction when considering a full model ?</b>\n",
    "                </font>\n",
    "            </div>\n",
    "        </td>\n",
    "    </tr>\n",
    "</table>"
   ]
  },
  {
   "cell_type": "code",
   "execution_count": 17,
   "metadata": {},
   "outputs": [
    {
     "data": {
      "text/html": [
       "<table class=\"simpletable\">\n",
       "<caption>OLS Regression Results</caption>\n",
       "<tr>\n",
       "  <th>Dep. Variable:</th>         <td>quality</td>     <th>  R-squared:         </th> <td>   0.282</td> \n",
       "</tr>\n",
       "<tr>\n",
       "  <th>Model:</th>                   <td>OLS</td>       <th>  Adj. R-squared:    </th> <td>   0.280</td> \n",
       "</tr>\n",
       "<tr>\n",
       "  <th>Method:</th>             <td>Least Squares</td>  <th>  F-statistic:       </th> <td>   174.3</td> \n",
       "</tr>\n",
       "<tr>\n",
       "  <th>Date:</th>             <td>Fri, 06 Aug 2021</td> <th>  Prob (F-statistic):</th>  <td>  0.00</td>  \n",
       "</tr>\n",
       "<tr>\n",
       "  <th>Time:</th>                 <td>01:02:52</td>     <th>  Log-Likelihood:    </th> <td> -5543.7</td> \n",
       "</tr>\n",
       "<tr>\n",
       "  <th>No. Observations:</th>      <td>  4898</td>      <th>  AIC:               </th> <td>1.111e+04</td>\n",
       "</tr>\n",
       "<tr>\n",
       "  <th>Df Residuals:</th>          <td>  4886</td>      <th>  BIC:               </th> <td>1.119e+04</td>\n",
       "</tr>\n",
       "<tr>\n",
       "  <th>Df Model:</th>              <td>    11</td>      <th>                     </th>     <td> </td>    \n",
       "</tr>\n",
       "<tr>\n",
       "  <th>Covariance Type:</th>      <td>nonrobust</td>    <th>                     </th>     <td> </td>    \n",
       "</tr>\n",
       "</table>\n",
       "<table class=\"simpletable\">\n",
       "<tr>\n",
       "            <td></td>              <th>coef</th>     <th>std err</th>      <th>t</th>      <th>P>|t|</th>  <th>[0.025</th>    <th>0.975]</th>  \n",
       "</tr>\n",
       "<tr>\n",
       "  <th>const</th>                <td>  150.1928</td> <td>   18.804</td> <td>    7.987</td> <td> 0.000</td> <td>  113.328</td> <td>  187.057</td>\n",
       "</tr>\n",
       "<tr>\n",
       "  <th>fixed acidity</th>        <td>    0.0655</td> <td>    0.021</td> <td>    3.139</td> <td> 0.002</td> <td>    0.025</td> <td>    0.106</td>\n",
       "</tr>\n",
       "<tr>\n",
       "  <th>volatile acidity</th>     <td>   -1.8632</td> <td>    0.114</td> <td>  -16.373</td> <td> 0.000</td> <td>   -2.086</td> <td>   -1.640</td>\n",
       "</tr>\n",
       "<tr>\n",
       "  <th>citric acid</th>          <td>    0.0221</td> <td>    0.096</td> <td>    0.231</td> <td> 0.818</td> <td>   -0.166</td> <td>    0.210</td>\n",
       "</tr>\n",
       "<tr>\n",
       "  <th>residual sugar</th>       <td>    0.0815</td> <td>    0.008</td> <td>   10.825</td> <td> 0.000</td> <td>    0.067</td> <td>    0.096</td>\n",
       "</tr>\n",
       "<tr>\n",
       "  <th>chlorides</th>            <td>   -0.2473</td> <td>    0.547</td> <td>   -0.452</td> <td> 0.651</td> <td>   -1.319</td> <td>    0.824</td>\n",
       "</tr>\n",
       "<tr>\n",
       "  <th>free sulfur dioxide</th>  <td>    0.0037</td> <td>    0.001</td> <td>    4.422</td> <td> 0.000</td> <td>    0.002</td> <td>    0.005</td>\n",
       "</tr>\n",
       "<tr>\n",
       "  <th>total sulfur dioxide</th> <td>   -0.0003</td> <td>    0.000</td> <td>   -0.756</td> <td> 0.450</td> <td>   -0.001</td> <td>    0.000</td>\n",
       "</tr>\n",
       "<tr>\n",
       "  <th>density</th>              <td> -150.2842</td> <td>   19.075</td> <td>   -7.879</td> <td> 0.000</td> <td> -187.679</td> <td> -112.890</td>\n",
       "</tr>\n",
       "<tr>\n",
       "  <th>pH</th>                   <td>    0.6863</td> <td>    0.105</td> <td>    6.513</td> <td> 0.000</td> <td>    0.480</td> <td>    0.893</td>\n",
       "</tr>\n",
       "<tr>\n",
       "  <th>sulphates</th>            <td>    0.6315</td> <td>    0.100</td> <td>    6.291</td> <td> 0.000</td> <td>    0.435</td> <td>    0.828</td>\n",
       "</tr>\n",
       "<tr>\n",
       "  <th>alcohol</th>              <td>    0.1935</td> <td>    0.024</td> <td>    7.988</td> <td> 0.000</td> <td>    0.146</td> <td>    0.241</td>\n",
       "</tr>\n",
       "</table>\n",
       "<table class=\"simpletable\">\n",
       "<tr>\n",
       "  <th>Omnibus:</th>       <td>114.161</td> <th>  Durbin-Watson:     </th> <td>   1.621</td>\n",
       "</tr>\n",
       "<tr>\n",
       "  <th>Prob(Omnibus):</th> <td> 0.000</td>  <th>  Jarque-Bera (JB):  </th> <td> 251.637</td>\n",
       "</tr>\n",
       "<tr>\n",
       "  <th>Skew:</th>          <td> 0.073</td>  <th>  Prob(JB):          </th> <td>2.28e-55</td>\n",
       "</tr>\n",
       "<tr>\n",
       "  <th>Kurtosis:</th>      <td> 4.101</td>  <th>  Cond. No.          </th> <td>3.74e+05</td>\n",
       "</tr>\n",
       "</table><br/><br/>Notes:<br/>[1] Standard Errors assume that the covariance matrix of the errors is correctly specified.<br/>[2] The condition number is large, 3.74e+05. This might indicate that there are<br/>strong multicollinearity or other numerical problems."
      ],
      "text/plain": [
       "<class 'statsmodels.iolib.summary.Summary'>\n",
       "\"\"\"\n",
       "                            OLS Regression Results                            \n",
       "==============================================================================\n",
       "Dep. Variable:                quality   R-squared:                       0.282\n",
       "Model:                            OLS   Adj. R-squared:                  0.280\n",
       "Method:                 Least Squares   F-statistic:                     174.3\n",
       "Date:                Fri, 06 Aug 2021   Prob (F-statistic):               0.00\n",
       "Time:                        01:02:52   Log-Likelihood:                -5543.7\n",
       "No. Observations:                4898   AIC:                         1.111e+04\n",
       "Df Residuals:                    4886   BIC:                         1.119e+04\n",
       "Df Model:                          11                                         \n",
       "Covariance Type:            nonrobust                                         \n",
       "========================================================================================\n",
       "                           coef    std err          t      P>|t|      [0.025      0.975]\n",
       "----------------------------------------------------------------------------------------\n",
       "const                  150.1928     18.804      7.987      0.000     113.328     187.057\n",
       "fixed acidity            0.0655      0.021      3.139      0.002       0.025       0.106\n",
       "volatile acidity        -1.8632      0.114    -16.373      0.000      -2.086      -1.640\n",
       "citric acid              0.0221      0.096      0.231      0.818      -0.166       0.210\n",
       "residual sugar           0.0815      0.008     10.825      0.000       0.067       0.096\n",
       "chlorides               -0.2473      0.547     -0.452      0.651      -1.319       0.824\n",
       "free sulfur dioxide      0.0037      0.001      4.422      0.000       0.002       0.005\n",
       "total sulfur dioxide    -0.0003      0.000     -0.756      0.450      -0.001       0.000\n",
       "density               -150.2842     19.075     -7.879      0.000    -187.679    -112.890\n",
       "pH                       0.6863      0.105      6.513      0.000       0.480       0.893\n",
       "sulphates                0.6315      0.100      6.291      0.000       0.435       0.828\n",
       "alcohol                  0.1935      0.024      7.988      0.000       0.146       0.241\n",
       "==============================================================================\n",
       "Omnibus:                      114.161   Durbin-Watson:                   1.621\n",
       "Prob(Omnibus):                  0.000   Jarque-Bera (JB):              251.637\n",
       "Skew:                           0.073   Prob(JB):                     2.28e-55\n",
       "Kurtosis:                       4.101   Cond. No.                     3.74e+05\n",
       "==============================================================================\n",
       "\n",
       "Notes:\n",
       "[1] Standard Errors assume that the covariance matrix of the errors is correctly specified.\n",
       "[2] The condition number is large, 3.74e+05. This might indicate that there are\n",
       "strong multicollinearity or other numerical problems.\n",
       "\"\"\""
      ]
     },
     "execution_count": 17,
     "metadata": {},
     "output_type": "execute_result"
    }
   ],
   "source": [
    "X=df_w.drop('quality',axis=1)\n",
    "y=df_w['quality']\n",
    "X=sm.add_constant(X)\n",
    "model_2=sm.OLS(y,X).fit()\n",
    "model_2.summary()"
   ]
  },
  {
   "cell_type": "code",
   "execution_count": 18,
   "metadata": {},
   "outputs": [],
   "source": [
    "from sklearn.preprocessing import StandardScaler"
   ]
  },
  {
   "cell_type": "code",
   "execution_count": 19,
   "metadata": {},
   "outputs": [],
   "source": [
    "sc=StandardScaler()\n",
    "df_w['pH']=sc.fit_transform(df_w[['pH']])"
   ]
  },
  {
   "cell_type": "code",
   "execution_count": 20,
   "metadata": {},
   "outputs": [
    {
     "data": {
      "text/html": [
       "<table class=\"simpletable\">\n",
       "<caption>OLS Regression Results</caption>\n",
       "<tr>\n",
       "  <th>Dep. Variable:</th>         <td>quality</td>     <th>  R-squared:         </th> <td>   0.282</td> \n",
       "</tr>\n",
       "<tr>\n",
       "  <th>Model:</th>                   <td>OLS</td>       <th>  Adj. R-squared:    </th> <td>   0.280</td> \n",
       "</tr>\n",
       "<tr>\n",
       "  <th>Method:</th>             <td>Least Squares</td>  <th>  F-statistic:       </th> <td>   174.3</td> \n",
       "</tr>\n",
       "<tr>\n",
       "  <th>Date:</th>             <td>Fri, 06 Aug 2021</td> <th>  Prob (F-statistic):</th>  <td>  0.00</td>  \n",
       "</tr>\n",
       "<tr>\n",
       "  <th>Time:</th>                 <td>01:03:00</td>     <th>  Log-Likelihood:    </th> <td> -5543.7</td> \n",
       "</tr>\n",
       "<tr>\n",
       "  <th>No. Observations:</th>      <td>  4898</td>      <th>  AIC:               </th> <td>1.111e+04</td>\n",
       "</tr>\n",
       "<tr>\n",
       "  <th>Df Residuals:</th>          <td>  4886</td>      <th>  BIC:               </th> <td>1.119e+04</td>\n",
       "</tr>\n",
       "<tr>\n",
       "  <th>Df Model:</th>              <td>    11</td>      <th>                     </th>     <td> </td>    \n",
       "</tr>\n",
       "<tr>\n",
       "  <th>Covariance Type:</th>      <td>nonrobust</td>    <th>                     </th>     <td> </td>    \n",
       "</tr>\n",
       "</table>\n",
       "<table class=\"simpletable\">\n",
       "<tr>\n",
       "            <td></td>              <th>coef</th>     <th>std err</th>      <th>t</th>      <th>P>|t|</th>  <th>[0.025</th>    <th>0.975]</th>  \n",
       "</tr>\n",
       "<tr>\n",
       "  <th>const</th>                <td>  152.3811</td> <td>   19.013</td> <td>    8.015</td> <td> 0.000</td> <td>  115.108</td> <td>  189.655</td>\n",
       "</tr>\n",
       "<tr>\n",
       "  <th>fixed acidity</th>        <td>    0.0655</td> <td>    0.021</td> <td>    3.139</td> <td> 0.002</td> <td>    0.025</td> <td>    0.106</td>\n",
       "</tr>\n",
       "<tr>\n",
       "  <th>volatile acidity</th>     <td>   -1.8632</td> <td>    0.114</td> <td>  -16.373</td> <td> 0.000</td> <td>   -2.086</td> <td>   -1.640</td>\n",
       "</tr>\n",
       "<tr>\n",
       "  <th>citric acid</th>          <td>    0.0221</td> <td>    0.096</td> <td>    0.231</td> <td> 0.818</td> <td>   -0.166</td> <td>    0.210</td>\n",
       "</tr>\n",
       "<tr>\n",
       "  <th>residual sugar</th>       <td>    0.0815</td> <td>    0.008</td> <td>   10.825</td> <td> 0.000</td> <td>    0.067</td> <td>    0.096</td>\n",
       "</tr>\n",
       "<tr>\n",
       "  <th>chlorides</th>            <td>   -0.2473</td> <td>    0.547</td> <td>   -0.452</td> <td> 0.651</td> <td>   -1.319</td> <td>    0.824</td>\n",
       "</tr>\n",
       "<tr>\n",
       "  <th>free sulfur dioxide</th>  <td>    0.0037</td> <td>    0.001</td> <td>    4.422</td> <td> 0.000</td> <td>    0.002</td> <td>    0.005</td>\n",
       "</tr>\n",
       "<tr>\n",
       "  <th>total sulfur dioxide</th> <td>   -0.0003</td> <td>    0.000</td> <td>   -0.756</td> <td> 0.450</td> <td>   -0.001</td> <td>    0.000</td>\n",
       "</tr>\n",
       "<tr>\n",
       "  <th>density</th>              <td> -150.2842</td> <td>   19.075</td> <td>   -7.879</td> <td> 0.000</td> <td> -187.679</td> <td> -112.890</td>\n",
       "</tr>\n",
       "<tr>\n",
       "  <th>pH</th>                   <td>    0.1036</td> <td>    0.016</td> <td>    6.513</td> <td> 0.000</td> <td>    0.072</td> <td>    0.135</td>\n",
       "</tr>\n",
       "<tr>\n",
       "  <th>sulphates</th>            <td>    0.6315</td> <td>    0.100</td> <td>    6.291</td> <td> 0.000</td> <td>    0.435</td> <td>    0.828</td>\n",
       "</tr>\n",
       "<tr>\n",
       "  <th>alcohol</th>              <td>    0.1935</td> <td>    0.024</td> <td>    7.988</td> <td> 0.000</td> <td>    0.146</td> <td>    0.241</td>\n",
       "</tr>\n",
       "</table>\n",
       "<table class=\"simpletable\">\n",
       "<tr>\n",
       "  <th>Omnibus:</th>       <td>114.161</td> <th>  Durbin-Watson:     </th> <td>   1.621</td>\n",
       "</tr>\n",
       "<tr>\n",
       "  <th>Prob(Omnibus):</th> <td> 0.000</td>  <th>  Jarque-Bera (JB):  </th> <td> 251.637</td>\n",
       "</tr>\n",
       "<tr>\n",
       "  <th>Skew:</th>          <td> 0.073</td>  <th>  Prob(JB):          </th> <td>2.28e-55</td>\n",
       "</tr>\n",
       "<tr>\n",
       "  <th>Kurtosis:</th>      <td> 4.101</td>  <th>  Cond. No.          </th> <td>3.76e+05</td>\n",
       "</tr>\n",
       "</table><br/><br/>Notes:<br/>[1] Standard Errors assume that the covariance matrix of the errors is correctly specified.<br/>[2] The condition number is large, 3.76e+05. This might indicate that there are<br/>strong multicollinearity or other numerical problems."
      ],
      "text/plain": [
       "<class 'statsmodels.iolib.summary.Summary'>\n",
       "\"\"\"\n",
       "                            OLS Regression Results                            \n",
       "==============================================================================\n",
       "Dep. Variable:                quality   R-squared:                       0.282\n",
       "Model:                            OLS   Adj. R-squared:                  0.280\n",
       "Method:                 Least Squares   F-statistic:                     174.3\n",
       "Date:                Fri, 06 Aug 2021   Prob (F-statistic):               0.00\n",
       "Time:                        01:03:00   Log-Likelihood:                -5543.7\n",
       "No. Observations:                4898   AIC:                         1.111e+04\n",
       "Df Residuals:                    4886   BIC:                         1.119e+04\n",
       "Df Model:                          11                                         \n",
       "Covariance Type:            nonrobust                                         \n",
       "========================================================================================\n",
       "                           coef    std err          t      P>|t|      [0.025      0.975]\n",
       "----------------------------------------------------------------------------------------\n",
       "const                  152.3811     19.013      8.015      0.000     115.108     189.655\n",
       "fixed acidity            0.0655      0.021      3.139      0.002       0.025       0.106\n",
       "volatile acidity        -1.8632      0.114    -16.373      0.000      -2.086      -1.640\n",
       "citric acid              0.0221      0.096      0.231      0.818      -0.166       0.210\n",
       "residual sugar           0.0815      0.008     10.825      0.000       0.067       0.096\n",
       "chlorides               -0.2473      0.547     -0.452      0.651      -1.319       0.824\n",
       "free sulfur dioxide      0.0037      0.001      4.422      0.000       0.002       0.005\n",
       "total sulfur dioxide    -0.0003      0.000     -0.756      0.450      -0.001       0.000\n",
       "density               -150.2842     19.075     -7.879      0.000    -187.679    -112.890\n",
       "pH                       0.1036      0.016      6.513      0.000       0.072       0.135\n",
       "sulphates                0.6315      0.100      6.291      0.000       0.435       0.828\n",
       "alcohol                  0.1935      0.024      7.988      0.000       0.146       0.241\n",
       "==============================================================================\n",
       "Omnibus:                      114.161   Durbin-Watson:                   1.621\n",
       "Prob(Omnibus):                  0.000   Jarque-Bera (JB):              251.637\n",
       "Skew:                           0.073   Prob(JB):                     2.28e-55\n",
       "Kurtosis:                       4.101   Cond. No.                     3.76e+05\n",
       "==============================================================================\n",
       "\n",
       "Notes:\n",
       "[1] Standard Errors assume that the covariance matrix of the errors is correctly specified.\n",
       "[2] The condition number is large, 3.76e+05. This might indicate that there are\n",
       "strong multicollinearity or other numerical problems.\n",
       "\"\"\""
      ]
     },
     "execution_count": 20,
     "metadata": {},
     "output_type": "execute_result"
    }
   ],
   "source": [
    "X=df_w.drop('quality',axis=1)\n",
    "y=df_w['quality']\n",
    "X=sm.add_constant(X)\n",
    "model_2=sm.OLS(y,X).fit()\n",
    "model_2.summary()"
   ]
  },
  {
   "cell_type": "code",
   "execution_count": null,
   "metadata": {},
   "outputs": [],
   "source": [
    "#after chengeing scaling there has no significance "
   ]
  },
  {
   "cell_type": "markdown",
   "metadata": {
    "collapsed": true
   },
   "source": [
    "<table align=\"left\">\n",
    "    <tr>\n",
    "        <td width=\"6%\">\n",
    "            <img src=\"question_icon.png\">\n",
    "        </td>\n",
    "        <td>\n",
    "            <div align=\"left\", style=\"font-size:120%\">\n",
    "                <font color=\"#21618C\">\n",
    "                    <b>6. What could be done to resolve the issue of multicollinearity if present?</b>\n",
    "                </font>\n",
    "            </div>\n",
    "        </td>\n",
    "    </tr>\n",
    "</table>"
   ]
  },
  {
   "cell_type": "code",
   "execution_count": 35,
   "metadata": {},
   "outputs": [
    {
     "name": "stdout",
     "output_type": "stream",
     "text": [
      "                features         VIF\n",
      "0          fixed acidity   92.861483\n",
      "1       volatile acidity    9.730569\n",
      "2            citric acid   10.007114\n",
      "3         residual sugar    3.830272\n",
      "4              chlorides    6.497448\n",
      "5    free sulfur dioxide    9.261556\n",
      "6   total sulfur dioxide   24.980802\n",
      "7                density 1056.497431\n",
      "8                     pH  609.861725\n",
      "9              sulphates   20.527123\n",
      "10               alcohol  118.707368\n"
     ]
    }
   ],
   "source": [
    "VIF=pd.DataFrame()\n",
    "X=df_w.iloc[:,:11]\n",
    "VIF['features']=X.columns\n",
    "VIF['VIF']=[variance_inflation_factor(X.values,i)for i in range(X.shape[1])]\n",
    "print(VIF)"
   ]
  },
  {
   "cell_type": "code",
   "execution_count": 40,
   "metadata": {},
   "outputs": [
    {
     "name": "stdout",
     "output_type": "stream",
     "text": [
      "               features        VIF\n",
      "0         fixed acidity  58.337764\n",
      "1      volatile acidity   9.683289\n",
      "2           citric acid  10.002239\n",
      "3        residual sugar   3.429412\n",
      "4             chlorides   6.093775\n",
      "5   free sulfur dioxide   9.210046\n",
      "6  total sulfur dioxide  24.980442\n",
      "7                    pH 160.145168\n",
      "8             sulphates  20.526697\n",
      "9               alcohol 103.478234\n"
     ]
    }
   ],
   "source": [
    "X1=X.drop('density',axis=1)\n",
    "VIF=pd.DataFrame()\n",
    "VIF['features']=X1.columns\n",
    "VIF['VIF']=[variance_inflation_factor(X1.values,i)for i in range(X1.shape[1])]\n",
    "print(VIF)"
   ]
  },
  {
   "cell_type": "code",
   "execution_count": 43,
   "metadata": {},
   "outputs": [
    {
     "name": "stdout",
     "output_type": "stream",
     "text": [
      "               features       VIF\n",
      "0         fixed acidity 54.541049\n",
      "1      volatile acidity  9.683068\n",
      "2           citric acid  9.959726\n",
      "3        residual sugar  3.367263\n",
      "4             chlorides  5.680984\n",
      "5   free sulfur dioxide  9.208379\n",
      "6  total sulfur dioxide 23.263297\n",
      "7             sulphates 18.965802\n",
      "8               alcohol 45.630540\n"
     ]
    }
   ],
   "source": [
    "X2=X1.drop('pH',axis=1)\n",
    "VIF=pd.DataFrame()\n",
    "VIF['features']=X2.columns\n",
    "VIF['VIF']=[variance_inflation_factor(X2.values,i)for i in range(X2.shape[1])]\n",
    "print(VIF)"
   ]
  },
  {
   "cell_type": "code",
   "execution_count": 44,
   "metadata": {},
   "outputs": [
    {
     "name": "stdout",
     "output_type": "stream",
     "text": [
      "               features       VIF\n",
      "0      volatile acidity  9.678151\n",
      "1           citric acid  9.002814\n",
      "2        residual sugar  3.240373\n",
      "3             chlorides  5.526225\n",
      "4   free sulfur dioxide  9.027919\n",
      "5  total sulfur dioxide 21.661213\n",
      "6             sulphates 18.777964\n",
      "7               alcohol 25.796804\n"
     ]
    }
   ],
   "source": [
    "X3=X2.drop('fixed acidity',axis=1)\n",
    "VIF=pd.DataFrame()\n",
    "VIF['features']=X3.columns\n",
    "VIF['VIF']=[variance_inflation_factor(X3.values,i)for i in range(X3.shape[1])]\n",
    "print(VIF)"
   ]
  },
  {
   "cell_type": "code",
   "execution_count": 46,
   "metadata": {},
   "outputs": [
    {
     "name": "stdout",
     "output_type": "stream",
     "text": [
      "              features       VIF\n",
      "0     volatile acidity  9.079616\n",
      "1          citric acid  8.846688\n",
      "2       residual sugar  3.003763\n",
      "3            chlorides  5.361558\n",
      "4  free sulfur dioxide  5.806088\n",
      "5            sulphates 17.571828\n",
      "6              alcohol 25.784880\n"
     ]
    }
   ],
   "source": [
    "X4=X3.drop('total sulfur dioxide',axis=1)\n",
    "VIF=pd.DataFrame()\n",
    "VIF['features']=X4.columns\n",
    "VIF['VIF']=[variance_inflation_factor(X4.values,i)for i in range(X4.shape[1])]\n",
    "print(VIF)"
   ]
  },
  {
   "cell_type": "code",
   "execution_count": 49,
   "metadata": {},
   "outputs": [
    {
     "name": "stdout",
     "output_type": "stream",
     "text": [
      "              features       VIF\n",
      "0     volatile acidity  9.072566\n",
      "1          citric acid  8.721978\n",
      "2       residual sugar  2.982465\n",
      "3            chlorides  5.234014\n",
      "4  free sulfur dioxide  5.697062\n",
      "5              alcohol 17.189370\n"
     ]
    }
   ],
   "source": [
    "X5=X4.drop('sulphates',axis=1)\n",
    "VIF=pd.DataFrame()\n",
    "VIF['features']=X5.columns\n",
    "VIF['VIF']=[variance_inflation_factor(X5.values,i)for i in range(X5.shape[1])]\n",
    "print(VIF)"
   ]
  },
  {
   "cell_type": "code",
   "execution_count": 50,
   "metadata": {},
   "outputs": [
    {
     "name": "stdout",
     "output_type": "stream",
     "text": [
      "              features      VIF\n",
      "0     volatile acidity 5.346423\n",
      "1          citric acid 6.150995\n",
      "2       residual sugar 2.896183\n",
      "3            chlorides 5.194186\n",
      "4  free sulfur dioxide 5.157428\n"
     ]
    }
   ],
   "source": [
    "X6=X5.drop('alcohol',axis=1)\n",
    "VIF=pd.DataFrame()\n",
    "VIF['features']=X6.columns\n",
    "VIF['VIF']=[variance_inflation_factor(X6.values,i)for i in range(X6.shape[1])]\n",
    "print(VIF)"
   ]
  },
  {
   "cell_type": "markdown",
   "metadata": {
    "collapsed": true
   },
   "source": [
    "<table align=\"left\">\n",
    "    <tr>\n",
    "        <td width=\"6%\">\n",
    "            <img src=\"question_icon.png\">\n",
    "        </td>\n",
    "        <td>\n",
    "            <div align=\"left\", style=\"font-size:120%\">\n",
    "                <font color=\"#21618C\">\n",
    "                    <b>7.  Fit a full model. Is the assumption for normality of residuals violated ?</b>\n",
    "                </font>\n",
    "            </div>\n",
    "        </td>\n",
    "    </tr>\n",
    "</table>"
   ]
  },
  {
   "cell_type": "code",
   "execution_count": 52,
   "metadata": {},
   "outputs": [
    {
     "data": {
      "text/html": [
       "<table class=\"simpletable\">\n",
       "<caption>OLS Regression Results</caption>\n",
       "<tr>\n",
       "  <th>Dep. Variable:</th>         <td>quality</td>     <th>  R-squared:         </th> <td>   0.282</td> \n",
       "</tr>\n",
       "<tr>\n",
       "  <th>Model:</th>                   <td>OLS</td>       <th>  Adj. R-squared:    </th> <td>   0.280</td> \n",
       "</tr>\n",
       "<tr>\n",
       "  <th>Method:</th>             <td>Least Squares</td>  <th>  F-statistic:       </th> <td>   174.3</td> \n",
       "</tr>\n",
       "<tr>\n",
       "  <th>Date:</th>             <td>Fri, 06 Aug 2021</td> <th>  Prob (F-statistic):</th>  <td>  0.00</td>  \n",
       "</tr>\n",
       "<tr>\n",
       "  <th>Time:</th>                 <td>02:42:58</td>     <th>  Log-Likelihood:    </th> <td> -5543.7</td> \n",
       "</tr>\n",
       "<tr>\n",
       "  <th>No. Observations:</th>      <td>  4898</td>      <th>  AIC:               </th> <td>1.111e+04</td>\n",
       "</tr>\n",
       "<tr>\n",
       "  <th>Df Residuals:</th>          <td>  4886</td>      <th>  BIC:               </th> <td>1.119e+04</td>\n",
       "</tr>\n",
       "<tr>\n",
       "  <th>Df Model:</th>              <td>    11</td>      <th>                     </th>     <td> </td>    \n",
       "</tr>\n",
       "<tr>\n",
       "  <th>Covariance Type:</th>      <td>nonrobust</td>    <th>                     </th>     <td> </td>    \n",
       "</tr>\n",
       "</table>\n",
       "<table class=\"simpletable\">\n",
       "<tr>\n",
       "            <td></td>              <th>coef</th>     <th>std err</th>      <th>t</th>      <th>P>|t|</th>  <th>[0.025</th>    <th>0.975]</th>  \n",
       "</tr>\n",
       "<tr>\n",
       "  <th>const</th>                <td>  150.1928</td> <td>   18.804</td> <td>    7.987</td> <td> 0.000</td> <td>  113.328</td> <td>  187.057</td>\n",
       "</tr>\n",
       "<tr>\n",
       "  <th>fixed acidity</th>        <td>    0.0655</td> <td>    0.021</td> <td>    3.139</td> <td> 0.002</td> <td>    0.025</td> <td>    0.106</td>\n",
       "</tr>\n",
       "<tr>\n",
       "  <th>volatile acidity</th>     <td>   -1.8632</td> <td>    0.114</td> <td>  -16.373</td> <td> 0.000</td> <td>   -2.086</td> <td>   -1.640</td>\n",
       "</tr>\n",
       "<tr>\n",
       "  <th>citric acid</th>          <td>    0.0221</td> <td>    0.096</td> <td>    0.231</td> <td> 0.818</td> <td>   -0.166</td> <td>    0.210</td>\n",
       "</tr>\n",
       "<tr>\n",
       "  <th>residual sugar</th>       <td>    0.0815</td> <td>    0.008</td> <td>   10.825</td> <td> 0.000</td> <td>    0.067</td> <td>    0.096</td>\n",
       "</tr>\n",
       "<tr>\n",
       "  <th>chlorides</th>            <td>   -0.2473</td> <td>    0.547</td> <td>   -0.452</td> <td> 0.651</td> <td>   -1.319</td> <td>    0.824</td>\n",
       "</tr>\n",
       "<tr>\n",
       "  <th>free sulfur dioxide</th>  <td>    0.0037</td> <td>    0.001</td> <td>    4.422</td> <td> 0.000</td> <td>    0.002</td> <td>    0.005</td>\n",
       "</tr>\n",
       "<tr>\n",
       "  <th>total sulfur dioxide</th> <td>   -0.0003</td> <td>    0.000</td> <td>   -0.756</td> <td> 0.450</td> <td>   -0.001</td> <td>    0.000</td>\n",
       "</tr>\n",
       "<tr>\n",
       "  <th>density</th>              <td> -150.2842</td> <td>   19.075</td> <td>   -7.879</td> <td> 0.000</td> <td> -187.679</td> <td> -112.890</td>\n",
       "</tr>\n",
       "<tr>\n",
       "  <th>pH</th>                   <td>    0.6863</td> <td>    0.105</td> <td>    6.513</td> <td> 0.000</td> <td>    0.480</td> <td>    0.893</td>\n",
       "</tr>\n",
       "<tr>\n",
       "  <th>sulphates</th>            <td>    0.6315</td> <td>    0.100</td> <td>    6.291</td> <td> 0.000</td> <td>    0.435</td> <td>    0.828</td>\n",
       "</tr>\n",
       "<tr>\n",
       "  <th>alcohol</th>              <td>    0.1935</td> <td>    0.024</td> <td>    7.988</td> <td> 0.000</td> <td>    0.146</td> <td>    0.241</td>\n",
       "</tr>\n",
       "</table>\n",
       "<table class=\"simpletable\">\n",
       "<tr>\n",
       "  <th>Omnibus:</th>       <td>114.161</td> <th>  Durbin-Watson:     </th> <td>   1.621</td>\n",
       "</tr>\n",
       "<tr>\n",
       "  <th>Prob(Omnibus):</th> <td> 0.000</td>  <th>  Jarque-Bera (JB):  </th> <td> 251.637</td>\n",
       "</tr>\n",
       "<tr>\n",
       "  <th>Skew:</th>          <td> 0.073</td>  <th>  Prob(JB):          </th> <td>2.28e-55</td>\n",
       "</tr>\n",
       "<tr>\n",
       "  <th>Kurtosis:</th>      <td> 4.101</td>  <th>  Cond. No.          </th> <td>3.74e+05</td>\n",
       "</tr>\n",
       "</table><br/><br/>Notes:<br/>[1] Standard Errors assume that the covariance matrix of the errors is correctly specified.<br/>[2] The condition number is large, 3.74e+05. This might indicate that there are<br/>strong multicollinearity or other numerical problems."
      ],
      "text/plain": [
       "<class 'statsmodels.iolib.summary.Summary'>\n",
       "\"\"\"\n",
       "                            OLS Regression Results                            \n",
       "==============================================================================\n",
       "Dep. Variable:                quality   R-squared:                       0.282\n",
       "Model:                            OLS   Adj. R-squared:                  0.280\n",
       "Method:                 Least Squares   F-statistic:                     174.3\n",
       "Date:                Fri, 06 Aug 2021   Prob (F-statistic):               0.00\n",
       "Time:                        02:42:58   Log-Likelihood:                -5543.7\n",
       "No. Observations:                4898   AIC:                         1.111e+04\n",
       "Df Residuals:                    4886   BIC:                         1.119e+04\n",
       "Df Model:                          11                                         \n",
       "Covariance Type:            nonrobust                                         \n",
       "========================================================================================\n",
       "                           coef    std err          t      P>|t|      [0.025      0.975]\n",
       "----------------------------------------------------------------------------------------\n",
       "const                  150.1928     18.804      7.987      0.000     113.328     187.057\n",
       "fixed acidity            0.0655      0.021      3.139      0.002       0.025       0.106\n",
       "volatile acidity        -1.8632      0.114    -16.373      0.000      -2.086      -1.640\n",
       "citric acid              0.0221      0.096      0.231      0.818      -0.166       0.210\n",
       "residual sugar           0.0815      0.008     10.825      0.000       0.067       0.096\n",
       "chlorides               -0.2473      0.547     -0.452      0.651      -1.319       0.824\n",
       "free sulfur dioxide      0.0037      0.001      4.422      0.000       0.002       0.005\n",
       "total sulfur dioxide    -0.0003      0.000     -0.756      0.450      -0.001       0.000\n",
       "density               -150.2842     19.075     -7.879      0.000    -187.679    -112.890\n",
       "pH                       0.6863      0.105      6.513      0.000       0.480       0.893\n",
       "sulphates                0.6315      0.100      6.291      0.000       0.435       0.828\n",
       "alcohol                  0.1935      0.024      7.988      0.000       0.146       0.241\n",
       "==============================================================================\n",
       "Omnibus:                      114.161   Durbin-Watson:                   1.621\n",
       "Prob(Omnibus):                  0.000   Jarque-Bera (JB):              251.637\n",
       "Skew:                           0.073   Prob(JB):                     2.28e-55\n",
       "Kurtosis:                       4.101   Cond. No.                     3.74e+05\n",
       "==============================================================================\n",
       "\n",
       "Notes:\n",
       "[1] Standard Errors assume that the covariance matrix of the errors is correctly specified.\n",
       "[2] The condition number is large, 3.74e+05. This might indicate that there are\n",
       "strong multicollinearity or other numerical problems.\n",
       "\"\"\""
      ]
     },
     "execution_count": 52,
     "metadata": {},
     "output_type": "execute_result"
    }
   ],
   "source": [
    "X=df_w.iloc[:,:11]\n",
    "y=df_w['quality']\n",
    "X=sm.add_constant(X)\n",
    "model_2=sm.OLS(y,X).fit()\n",
    "residuals=model_2.resid\n",
    "model_2.summary()"
   ]
  },
  {
   "cell_type": "markdown",
   "metadata": {
    "collapsed": true
   },
   "source": [
    "<table align=\"left\">\n",
    "    <tr>\n",
    "        <td width=\"6%\">\n",
    "            <img src=\"question_icon.png\">\n",
    "        </td>\n",
    "        <td>\n",
    "            <div align=\"left\", style=\"font-size:120%\">\n",
    "                <font color=\"#21618C\">\n",
    "                    <b>8. Does the transformation of variable 'citric acid' affect the performance of prediction model?</b>\n",
    "                </font>\n",
    "            </div>\n",
    "        </td>\n",
    "    </tr>\n",
    "</table>"
   ]
  },
  {
   "cell_type": "code",
   "execution_count": 53,
   "metadata": {},
   "outputs": [
    {
     "data": {
      "text/html": [
       "<table class=\"simpletable\">\n",
       "<caption>OLS Regression Results</caption>\n",
       "<tr>\n",
       "  <th>Dep. Variable:</th>         <td>quality</td>     <th>  R-squared:         </th> <td>   0.282</td> \n",
       "</tr>\n",
       "<tr>\n",
       "  <th>Model:</th>                   <td>OLS</td>       <th>  Adj. R-squared:    </th> <td>   0.280</td> \n",
       "</tr>\n",
       "<tr>\n",
       "  <th>Method:</th>             <td>Least Squares</td>  <th>  F-statistic:       </th> <td>   174.3</td> \n",
       "</tr>\n",
       "<tr>\n",
       "  <th>Date:</th>             <td>Fri, 06 Aug 2021</td> <th>  Prob (F-statistic):</th>  <td>  0.00</td>  \n",
       "</tr>\n",
       "<tr>\n",
       "  <th>Time:</th>                 <td>02:43:52</td>     <th>  Log-Likelihood:    </th> <td> -5543.7</td> \n",
       "</tr>\n",
       "<tr>\n",
       "  <th>No. Observations:</th>      <td>  4898</td>      <th>  AIC:               </th> <td>1.111e+04</td>\n",
       "</tr>\n",
       "<tr>\n",
       "  <th>Df Residuals:</th>          <td>  4886</td>      <th>  BIC:               </th> <td>1.119e+04</td>\n",
       "</tr>\n",
       "<tr>\n",
       "  <th>Df Model:</th>              <td>    11</td>      <th>                     </th>     <td> </td>    \n",
       "</tr>\n",
       "<tr>\n",
       "  <th>Covariance Type:</th>      <td>nonrobust</td>    <th>                     </th>     <td> </td>    \n",
       "</tr>\n",
       "</table>\n",
       "<table class=\"simpletable\">\n",
       "<tr>\n",
       "            <td></td>              <th>coef</th>     <th>std err</th>      <th>t</th>      <th>P>|t|</th>  <th>[0.025</th>    <th>0.975]</th>  \n",
       "</tr>\n",
       "<tr>\n",
       "  <th>const</th>                <td>  150.1928</td> <td>   18.804</td> <td>    7.987</td> <td> 0.000</td> <td>  113.328</td> <td>  187.057</td>\n",
       "</tr>\n",
       "<tr>\n",
       "  <th>fixed acidity</th>        <td>    0.0655</td> <td>    0.021</td> <td>    3.139</td> <td> 0.002</td> <td>    0.025</td> <td>    0.106</td>\n",
       "</tr>\n",
       "<tr>\n",
       "  <th>volatile acidity</th>     <td>   -1.8632</td> <td>    0.114</td> <td>  -16.373</td> <td> 0.000</td> <td>   -2.086</td> <td>   -1.640</td>\n",
       "</tr>\n",
       "<tr>\n",
       "  <th>citric acid</th>          <td>    0.0221</td> <td>    0.096</td> <td>    0.231</td> <td> 0.818</td> <td>   -0.166</td> <td>    0.210</td>\n",
       "</tr>\n",
       "<tr>\n",
       "  <th>residual sugar</th>       <td>    0.0815</td> <td>    0.008</td> <td>   10.825</td> <td> 0.000</td> <td>    0.067</td> <td>    0.096</td>\n",
       "</tr>\n",
       "<tr>\n",
       "  <th>chlorides</th>            <td>   -0.2473</td> <td>    0.547</td> <td>   -0.452</td> <td> 0.651</td> <td>   -1.319</td> <td>    0.824</td>\n",
       "</tr>\n",
       "<tr>\n",
       "  <th>free sulfur dioxide</th>  <td>    0.0037</td> <td>    0.001</td> <td>    4.422</td> <td> 0.000</td> <td>    0.002</td> <td>    0.005</td>\n",
       "</tr>\n",
       "<tr>\n",
       "  <th>total sulfur dioxide</th> <td>   -0.0003</td> <td>    0.000</td> <td>   -0.756</td> <td> 0.450</td> <td>   -0.001</td> <td>    0.000</td>\n",
       "</tr>\n",
       "<tr>\n",
       "  <th>density</th>              <td> -150.2842</td> <td>   19.075</td> <td>   -7.879</td> <td> 0.000</td> <td> -187.679</td> <td> -112.890</td>\n",
       "</tr>\n",
       "<tr>\n",
       "  <th>pH</th>                   <td>    0.6863</td> <td>    0.105</td> <td>    6.513</td> <td> 0.000</td> <td>    0.480</td> <td>    0.893</td>\n",
       "</tr>\n",
       "<tr>\n",
       "  <th>sulphates</th>            <td>    0.6315</td> <td>    0.100</td> <td>    6.291</td> <td> 0.000</td> <td>    0.435</td> <td>    0.828</td>\n",
       "</tr>\n",
       "<tr>\n",
       "  <th>alcohol</th>              <td>    0.1935</td> <td>    0.024</td> <td>    7.988</td> <td> 0.000</td> <td>    0.146</td> <td>    0.241</td>\n",
       "</tr>\n",
       "</table>\n",
       "<table class=\"simpletable\">\n",
       "<tr>\n",
       "  <th>Omnibus:</th>       <td>114.161</td> <th>  Durbin-Watson:     </th> <td>   1.621</td>\n",
       "</tr>\n",
       "<tr>\n",
       "  <th>Prob(Omnibus):</th> <td> 0.000</td>  <th>  Jarque-Bera (JB):  </th> <td> 251.637</td>\n",
       "</tr>\n",
       "<tr>\n",
       "  <th>Skew:</th>          <td> 0.073</td>  <th>  Prob(JB):          </th> <td>2.28e-55</td>\n",
       "</tr>\n",
       "<tr>\n",
       "  <th>Kurtosis:</th>      <td> 4.101</td>  <th>  Cond. No.          </th> <td>3.74e+05</td>\n",
       "</tr>\n",
       "</table><br/><br/>Notes:<br/>[1] Standard Errors assume that the covariance matrix of the errors is correctly specified.<br/>[2] The condition number is large, 3.74e+05. This might indicate that there are<br/>strong multicollinearity or other numerical problems."
      ],
      "text/plain": [
       "<class 'statsmodels.iolib.summary.Summary'>\n",
       "\"\"\"\n",
       "                            OLS Regression Results                            \n",
       "==============================================================================\n",
       "Dep. Variable:                quality   R-squared:                       0.282\n",
       "Model:                            OLS   Adj. R-squared:                  0.280\n",
       "Method:                 Least Squares   F-statistic:                     174.3\n",
       "Date:                Fri, 06 Aug 2021   Prob (F-statistic):               0.00\n",
       "Time:                        02:43:52   Log-Likelihood:                -5543.7\n",
       "No. Observations:                4898   AIC:                         1.111e+04\n",
       "Df Residuals:                    4886   BIC:                         1.119e+04\n",
       "Df Model:                          11                                         \n",
       "Covariance Type:            nonrobust                                         \n",
       "========================================================================================\n",
       "                           coef    std err          t      P>|t|      [0.025      0.975]\n",
       "----------------------------------------------------------------------------------------\n",
       "const                  150.1928     18.804      7.987      0.000     113.328     187.057\n",
       "fixed acidity            0.0655      0.021      3.139      0.002       0.025       0.106\n",
       "volatile acidity        -1.8632      0.114    -16.373      0.000      -2.086      -1.640\n",
       "citric acid              0.0221      0.096      0.231      0.818      -0.166       0.210\n",
       "residual sugar           0.0815      0.008     10.825      0.000       0.067       0.096\n",
       "chlorides               -0.2473      0.547     -0.452      0.651      -1.319       0.824\n",
       "free sulfur dioxide      0.0037      0.001      4.422      0.000       0.002       0.005\n",
       "total sulfur dioxide    -0.0003      0.000     -0.756      0.450      -0.001       0.000\n",
       "density               -150.2842     19.075     -7.879      0.000    -187.679    -112.890\n",
       "pH                       0.6863      0.105      6.513      0.000       0.480       0.893\n",
       "sulphates                0.6315      0.100      6.291      0.000       0.435       0.828\n",
       "alcohol                  0.1935      0.024      7.988      0.000       0.146       0.241\n",
       "==============================================================================\n",
       "Omnibus:                      114.161   Durbin-Watson:                   1.621\n",
       "Prob(Omnibus):                  0.000   Jarque-Bera (JB):              251.637\n",
       "Skew:                           0.073   Prob(JB):                     2.28e-55\n",
       "Kurtosis:                       4.101   Cond. No.                     3.74e+05\n",
       "==============================================================================\n",
       "\n",
       "Notes:\n",
       "[1] Standard Errors assume that the covariance matrix of the errors is correctly specified.\n",
       "[2] The condition number is large, 3.74e+05. This might indicate that there are\n",
       "strong multicollinearity or other numerical problems.\n",
       "\"\"\""
      ]
     },
     "execution_count": 53,
     "metadata": {},
     "output_type": "execute_result"
    }
   ],
   "source": [
    "X=df_w.iloc[:,:11]\n",
    "y=df_w['quality']\n",
    "X=sm.add_constant(X)\n",
    "model_2=sm.OLS(y,X).fit()\n",
    "residuals=model_2.resid\n",
    "model_2.summary()"
   ]
  },
  {
   "cell_type": "code",
   "execution_count": 54,
   "metadata": {},
   "outputs": [
    {
     "data": {
      "text/plain": [
       "1.2819203981671066"
      ]
     },
     "execution_count": 54,
     "metadata": {},
     "output_type": "execute_result"
    }
   ],
   "source": [
    "df_w['citric acid'].skew()"
   ]
  },
  {
   "cell_type": "code",
   "execution_count": 56,
   "metadata": {},
   "outputs": [
    {
     "data": {
      "text/plain": [
       "-3.1333672607827756"
      ]
     },
     "execution_count": 56,
     "metadata": {},
     "output_type": "execute_result"
    }
   ],
   "source": [
    "df_w['citric acid']=np.sqrt(df_w['citric acid'])\n",
    "df_w['citric acid'].skew()"
   ]
  },
  {
   "cell_type": "code",
   "execution_count": 57,
   "metadata": {},
   "outputs": [
    {
     "data": {
      "text/html": [
       "<table class=\"simpletable\">\n",
       "<caption>OLS Regression Results</caption>\n",
       "<tr>\n",
       "  <th>Dep. Variable:</th>         <td>quality</td>     <th>  R-squared:         </th> <td>   0.283</td> \n",
       "</tr>\n",
       "<tr>\n",
       "  <th>Model:</th>                   <td>OLS</td>       <th>  Adj. R-squared:    </th> <td>   0.281</td> \n",
       "</tr>\n",
       "<tr>\n",
       "  <th>Method:</th>             <td>Least Squares</td>  <th>  F-statistic:       </th> <td>   175.0</td> \n",
       "</tr>\n",
       "<tr>\n",
       "  <th>Date:</th>             <td>Fri, 06 Aug 2021</td> <th>  Prob (F-statistic):</th>  <td>  0.00</td>  \n",
       "</tr>\n",
       "<tr>\n",
       "  <th>Time:</th>                 <td>02:55:09</td>     <th>  Log-Likelihood:    </th> <td> -5541.0</td> \n",
       "</tr>\n",
       "<tr>\n",
       "  <th>No. Observations:</th>      <td>  4898</td>      <th>  AIC:               </th> <td>1.111e+04</td>\n",
       "</tr>\n",
       "<tr>\n",
       "  <th>Df Residuals:</th>          <td>  4886</td>      <th>  BIC:               </th> <td>1.118e+04</td>\n",
       "</tr>\n",
       "<tr>\n",
       "  <th>Df Model:</th>              <td>    11</td>      <th>                     </th>     <td> </td>    \n",
       "</tr>\n",
       "<tr>\n",
       "  <th>Covariance Type:</th>      <td>nonrobust</td>    <th>                     </th>     <td> </td>    \n",
       "</tr>\n",
       "</table>\n",
       "<table class=\"simpletable\">\n",
       "<tr>\n",
       "            <td></td>              <th>coef</th>     <th>std err</th>      <th>t</th>      <th>P>|t|</th>  <th>[0.025</th>    <th>0.975]</th>  \n",
       "</tr>\n",
       "<tr>\n",
       "  <th>const</th>                <td>  151.9915</td> <td>   18.772</td> <td>    8.097</td> <td> 0.000</td> <td>  115.190</td> <td>  188.793</td>\n",
       "</tr>\n",
       "<tr>\n",
       "  <th>fixed acidity</th>        <td>    0.0593</td> <td>    0.021</td> <td>    2.835</td> <td> 0.005</td> <td>    0.018</td> <td>    0.100</td>\n",
       "</tr>\n",
       "<tr>\n",
       "  <th>volatile acidity</th>     <td>   -1.7898</td> <td>    0.117</td> <td>  -15.329</td> <td> 0.000</td> <td>   -2.019</td> <td>   -1.561</td>\n",
       "</tr>\n",
       "<tr>\n",
       "  <th>citric acid</th>          <td>    0.3354</td> <td>    0.142</td> <td>    2.365</td> <td> 0.018</td> <td>    0.057</td> <td>    0.613</td>\n",
       "</tr>\n",
       "<tr>\n",
       "  <th>residual sugar</th>       <td>    0.0818</td> <td>    0.008</td> <td>   10.881</td> <td> 0.000</td> <td>    0.067</td> <td>    0.097</td>\n",
       "</tr>\n",
       "<tr>\n",
       "  <th>chlorides</th>            <td>   -0.3648</td> <td>    0.546</td> <td>   -0.668</td> <td> 0.504</td> <td>   -1.435</td> <td>    0.705</td>\n",
       "</tr>\n",
       "<tr>\n",
       "  <th>free sulfur dioxide</th>  <td>    0.0037</td> <td>    0.001</td> <td>    4.420</td> <td> 0.000</td> <td>    0.002</td> <td>    0.005</td>\n",
       "</tr>\n",
       "<tr>\n",
       "  <th>total sulfur dioxide</th> <td>   -0.0004</td> <td>    0.000</td> <td>   -0.932</td> <td> 0.352</td> <td>   -0.001</td> <td>    0.000</td>\n",
       "</tr>\n",
       "<tr>\n",
       "  <th>density</th>              <td> -152.2960</td> <td>   19.045</td> <td>   -7.997</td> <td> 0.000</td> <td> -189.633</td> <td> -114.959</td>\n",
       "</tr>\n",
       "<tr>\n",
       "  <th>pH</th>                   <td>    0.7034</td> <td>    0.105</td> <td>    6.682</td> <td> 0.000</td> <td>    0.497</td> <td>    0.910</td>\n",
       "</tr>\n",
       "<tr>\n",
       "  <th>sulphates</th>            <td>    0.6234</td> <td>    0.100</td> <td>    6.214</td> <td> 0.000</td> <td>    0.427</td> <td>    0.820</td>\n",
       "</tr>\n",
       "<tr>\n",
       "  <th>alcohol</th>              <td>    0.1880</td> <td>    0.024</td> <td>    7.757</td> <td> 0.000</td> <td>    0.140</td> <td>    0.235</td>\n",
       "</tr>\n",
       "</table>\n",
       "<table class=\"simpletable\">\n",
       "<tr>\n",
       "  <th>Omnibus:</th>       <td>115.880</td> <th>  Durbin-Watson:     </th> <td>   1.618</td>\n",
       "</tr>\n",
       "<tr>\n",
       "  <th>Prob(Omnibus):</th> <td> 0.000</td>  <th>  Jarque-Bera (JB):  </th> <td> 256.549</td>\n",
       "</tr>\n",
       "<tr>\n",
       "  <th>Skew:</th>          <td> 0.076</td>  <th>  Prob(JB):          </th> <td>1.95e-56</td>\n",
       "</tr>\n",
       "<tr>\n",
       "  <th>Kurtosis:</th>      <td> 4.111</td>  <th>  Cond. No.          </th> <td>3.74e+05</td>\n",
       "</tr>\n",
       "</table><br/><br/>Notes:<br/>[1] Standard Errors assume that the covariance matrix of the errors is correctly specified.<br/>[2] The condition number is large, 3.74e+05. This might indicate that there are<br/>strong multicollinearity or other numerical problems."
      ],
      "text/plain": [
       "<class 'statsmodels.iolib.summary.Summary'>\n",
       "\"\"\"\n",
       "                            OLS Regression Results                            \n",
       "==============================================================================\n",
       "Dep. Variable:                quality   R-squared:                       0.283\n",
       "Model:                            OLS   Adj. R-squared:                  0.281\n",
       "Method:                 Least Squares   F-statistic:                     175.0\n",
       "Date:                Fri, 06 Aug 2021   Prob (F-statistic):               0.00\n",
       "Time:                        02:55:09   Log-Likelihood:                -5541.0\n",
       "No. Observations:                4898   AIC:                         1.111e+04\n",
       "Df Residuals:                    4886   BIC:                         1.118e+04\n",
       "Df Model:                          11                                         \n",
       "Covariance Type:            nonrobust                                         \n",
       "========================================================================================\n",
       "                           coef    std err          t      P>|t|      [0.025      0.975]\n",
       "----------------------------------------------------------------------------------------\n",
       "const                  151.9915     18.772      8.097      0.000     115.190     188.793\n",
       "fixed acidity            0.0593      0.021      2.835      0.005       0.018       0.100\n",
       "volatile acidity        -1.7898      0.117    -15.329      0.000      -2.019      -1.561\n",
       "citric acid              0.3354      0.142      2.365      0.018       0.057       0.613\n",
       "residual sugar           0.0818      0.008     10.881      0.000       0.067       0.097\n",
       "chlorides               -0.3648      0.546     -0.668      0.504      -1.435       0.705\n",
       "free sulfur dioxide      0.0037      0.001      4.420      0.000       0.002       0.005\n",
       "total sulfur dioxide    -0.0004      0.000     -0.932      0.352      -0.001       0.000\n",
       "density               -152.2960     19.045     -7.997      0.000    -189.633    -114.959\n",
       "pH                       0.7034      0.105      6.682      0.000       0.497       0.910\n",
       "sulphates                0.6234      0.100      6.214      0.000       0.427       0.820\n",
       "alcohol                  0.1880      0.024      7.757      0.000       0.140       0.235\n",
       "==============================================================================\n",
       "Omnibus:                      115.880   Durbin-Watson:                   1.618\n",
       "Prob(Omnibus):                  0.000   Jarque-Bera (JB):              256.549\n",
       "Skew:                           0.076   Prob(JB):                     1.95e-56\n",
       "Kurtosis:                       4.111   Cond. No.                     3.74e+05\n",
       "==============================================================================\n",
       "\n",
       "Notes:\n",
       "[1] Standard Errors assume that the covariance matrix of the errors is correctly specified.\n",
       "[2] The condition number is large, 3.74e+05. This might indicate that there are\n",
       "strong multicollinearity or other numerical problems.\n",
       "\"\"\""
      ]
     },
     "execution_count": 57,
     "metadata": {},
     "output_type": "execute_result"
    }
   ],
   "source": [
    "X=df_w.iloc[:,:11]\n",
    "y=df_w['quality']\n",
    "X=sm.add_constant(X)\n",
    "model_2=sm.OLS(y,X).fit()\n",
    "residuals=model_2.resid\n",
    "model_2.summary()"
   ]
  },
  {
   "cell_type": "markdown",
   "metadata": {
    "collapsed": true
   },
   "source": [
    "<table align=\"left\">\n",
    "    <tr>\n",
    "        <td width=\"6%\">\n",
    "            <img src=\"question_icon.png\">\n",
    "        </td>\n",
    "        <td>\n",
    "            <div align=\"left\", style=\"font-size:120%\">\n",
    "                <font color=\"#21618C\">\n",
    "                    <b>9. Fit a full model. Check whether variable has linear relationship with the wine quality<br></b>\n",
    "                </font>\n",
    "            </div>\n",
    "        </td>\n",
    "    </tr>\n",
    "</table>"
   ]
  },
  {
   "cell_type": "code",
   "execution_count": 61,
   "metadata": {},
   "outputs": [],
   "source": [
    "X=df_w.iloc[:,:11]\n",
    "X=sm.add_constant(X)\n",
    "y=df_w['quality']\n",
    "wine_model=sm.OLS(y,X).fit()"
   ]
  },
  {
   "cell_type": "code",
   "execution_count": 62,
   "metadata": {},
   "outputs": [
    {
     "data": {
      "image/png": "[encoded data removed]",
      "text/plain": [
       "<Figure size 1080x576 with 10 Axes>"
      ]
     },
     "metadata": {
      "needs_background": "light"
     },
     "output_type": "display_data"
    }
   ],
   "source": [
    "reseduals=wine_model.resid\n",
    "fix, ax=plt.subplots(nrows=2,ncols=5,figsize=(15,8))\n",
    "for variable,subplot in zip(X.columns[1:],ax.flatten()):\n",
    "    z=sns.scatterplot(X[variable],reseduals,ax=subplot)\n",
    "    z.set_ylabel('Residuals',fontsize=10)"
   ]
  },
  {
   "cell_type": "markdown",
   "metadata": {},
   "source": [
    "<a id=\"sel\"> </a>\n",
    "## 2. Feature Selection"
   ]
  },
  {
   "cell_type": "markdown",
   "metadata": {
    "collapsed": true
   },
   "source": [
    "<table align=\"left\">\n",
    "    <tr>\n",
    "        <td width=\"6%\">\n",
    "            <img src=\"question_icon.png\">\n",
    "        </td>\n",
    "        <td>\n",
    "            <div align=\"left\", style=\"font-size:120%\">\n",
    "                <font color=\"#21618C\">\n",
    "                    <b>10. Find the top five significant variables from the dataset using forward selection technique. Also display the R-squared score for the model built using these five variables.</b>\n",
    "                </font>\n",
    "            </div>\n",
    "        </td>\n",
    "    </tr>\n",
    "</table>"
   ]
  },
  {
   "cell_type": "code",
   "execution_count": 65,
   "metadata": {},
   "outputs": [],
   "source": [
    "x=df_w.iloc[:,:11]\n",
    "y=df_w['quality']\n",
    "x_train,x_test,y_tarin,y_test=train_test_split(x,y,test_size=2,random_state=10)\n",
    "lr=LinearRegression()"
   ]
  },
  {
   "cell_type": "code",
   "execution_count": 64,
   "metadata": {},
   "outputs": [
    {
     "name": "stderr",
     "output_type": "stream",
     "text": [
      "[Parallel(n_jobs=1)]: Using backend SequentialBackend with 1 concurrent workers.\n",
      "[Parallel(n_jobs=1)]: Done   1 out of   1 | elapsed:    0.0s remaining:    0.0s\n",
      "[Parallel(n_jobs=1)]: Done  10 out of  10 | elapsed:    0.0s finished\n",
      "\n",
      "[2021-08-06 03:12:12] Features: 1/5 -- score: 0.09244684206882489[Parallel(n_jobs=1)]: Using backend SequentialBackend with 1 concurrent workers.\n",
      "[Parallel(n_jobs=1)]: Done   1 out of   1 | elapsed:    0.0s remaining:    0.0s\n",
      "[Parallel(n_jobs=1)]: Done   9 out of   9 | elapsed:    0.0s finished\n",
      "\n",
      "[2021-08-06 03:12:12] Features: 2/5 -- score: 0.17893369225253708[Parallel(n_jobs=1)]: Using backend SequentialBackend with 1 concurrent workers.\n",
      "[Parallel(n_jobs=1)]: Done   1 out of   1 | elapsed:    0.0s remaining:    0.0s\n",
      "[Parallel(n_jobs=1)]: Done   8 out of   8 | elapsed:    0.0s finished\n",
      "\n",
      "[2021-08-06 03:12:12] Features: 3/5 -- score: 0.22264917062910924[Parallel(n_jobs=1)]: Using backend SequentialBackend with 1 concurrent workers.\n",
      "[Parallel(n_jobs=1)]: Done   1 out of   1 | elapsed:    0.0s remaining:    0.0s\n",
      "[Parallel(n_jobs=1)]: Done   7 out of   7 | elapsed:    0.0s finished\n",
      "\n",
      "[2021-08-06 03:12:12] Features: 4/5 -- score: 0.24026900108350957[Parallel(n_jobs=1)]: Using backend SequentialBackend with 1 concurrent workers.\n",
      "[Parallel(n_jobs=1)]: Done   1 out of   1 | elapsed:    0.0s remaining:    0.0s\n",
      "[Parallel(n_jobs=1)]: Done   6 out of   6 | elapsed:    0.0s finished\n",
      "\n",
      "[2021-08-06 03:12:12] Features: 5/5 -- score: 0.2547591546339485"
     ]
    }
   ],
   "source": [
    "l_for=sfs(estimator=lr,k_features=5,forward=True,verbose=2,scoring='r2')\n",
    "sfs_for=l_for.fit(x_train,y_tarin)"
   ]
  },
  {
   "cell_type": "code",
   "execution_count": 66,
   "metadata": {},
   "outputs": [
    {
     "data": {
      "text/plain": [
       "('fixed acidity', 'volatile acidity', 'residual sugar', 'density', 'pH')"
      ]
     },
     "execution_count": 66,
     "metadata": {},
     "output_type": "execute_result"
    }
   ],
   "source": [
    "sfs_for.k_feature_names_"
   ]
  },
  {
   "cell_type": "code",
   "execution_count": 67,
   "metadata": {},
   "outputs": [
    {
     "data": {
      "text/plain": [
       "0.2547591546339485"
      ]
     },
     "execution_count": 67,
     "metadata": {},
     "output_type": "execute_result"
    }
   ],
   "source": [
    "sfs_for.k_score_"
   ]
  },
  {
   "cell_type": "markdown",
   "metadata": {
    "collapsed": true
   },
   "source": [
    "<table align=\"left\">\n",
    "    <tr>\n",
    "        <td width=\"6%\">\n",
    "            <img src=\"question_icon.png\">\n",
    "        </td>\n",
    "        <td>\n",
    "            <div align=\"left\", style=\"font-size:120%\">\n",
    "                <font color=\"#21618C\">\n",
    "                        <b>11. Find the top five significant variables from the dataset using backward elimination technique. Also display the R-squared score for the model built using these five variables.<br><br> Compare the R-squared value obtained from question 10 with the value obtained using backward elimination.</b>\n",
    "                </font>\n",
    "            </div>\n",
    "        </td>\n",
    "    </tr>\n",
    "</table>"
   ]
  },
  {
   "cell_type": "code",
   "execution_count": 71,
   "metadata": {},
   "outputs": [
    {
     "name": "stderr",
     "output_type": "stream",
     "text": [
      "[Parallel(n_jobs=1)]: Using backend SequentialBackend with 1 concurrent workers.\n",
      "[Parallel(n_jobs=1)]: Done   1 out of   1 | elapsed:    0.0s remaining:    0.0s\n",
      "[Parallel(n_jobs=1)]: Done  11 out of  11 | elapsed:    0.0s finished\n",
      "\n",
      "[2021-08-06 03:55:07] Features: 10/5 -- score: 0.27583841919032803[Parallel(n_jobs=1)]: Using backend SequentialBackend with 1 concurrent workers.\n",
      "[Parallel(n_jobs=1)]: Done   1 out of   1 | elapsed:    0.0s remaining:    0.0s\n",
      "[Parallel(n_jobs=1)]: Done  10 out of  10 | elapsed:    0.0s finished\n",
      "\n",
      "[2021-08-06 03:55:07] Features: 9/5 -- score: 0.2763003372261185[Parallel(n_jobs=1)]: Using backend SequentialBackend with 1 concurrent workers.\n",
      "[Parallel(n_jobs=1)]: Done   1 out of   1 | elapsed:    0.0s remaining:    0.0s\n",
      "[Parallel(n_jobs=1)]: Done   9 out of   9 | elapsed:    0.0s finished\n",
      "\n",
      "[2021-08-06 03:55:07] Features: 8/5 -- score: 0.2763294459268302[Parallel(n_jobs=1)]: Using backend SequentialBackend with 1 concurrent workers.\n",
      "[Parallel(n_jobs=1)]: Done   1 out of   1 | elapsed:    0.0s remaining:    0.0s\n",
      "[Parallel(n_jobs=1)]: Done   8 out of   8 | elapsed:    0.0s finished\n",
      "\n",
      "[2021-08-06 03:55:07] Features: 7/5 -- score: 0.27535094187880177[Parallel(n_jobs=1)]: Using backend SequentialBackend with 1 concurrent workers.\n",
      "[Parallel(n_jobs=1)]: Done   1 out of   1 | elapsed:    0.0s remaining:    0.0s\n",
      "[Parallel(n_jobs=1)]: Done   7 out of   7 | elapsed:    0.0s finished\n",
      "\n",
      "[2021-08-06 03:55:07] Features: 6/5 -- score: 0.2731814992521905[Parallel(n_jobs=1)]: Using backend SequentialBackend with 1 concurrent workers.\n",
      "[Parallel(n_jobs=1)]: Done   1 out of   1 | elapsed:    0.0s remaining:    0.0s\n",
      "[Parallel(n_jobs=1)]: Done   6 out of   6 | elapsed:    0.0s finished\n",
      "\n",
      "[2021-08-06 03:55:07] Features: 5/5 -- score: 0.26802412388092145"
     ]
    }
   ],
   "source": [
    "ln_fr=sfs(estimator=lr,k_features=5,forward=False,verbose=2,scoring='r2')\n",
    "sfs_back=ln_fr.fit(x_train,y_tarin)"
   ]
  },
  {
   "cell_type": "code",
   "execution_count": 72,
   "metadata": {},
   "outputs": [
    {
     "data": {
      "text/plain": [
       "('volatile acidity', 'residual sugar', 'density', 'pH', 'alcohol')"
      ]
     },
     "execution_count": 72,
     "metadata": {},
     "output_type": "execute_result"
    }
   ],
   "source": [
    "sfs_back.k_feature_names_"
   ]
  },
  {
   "cell_type": "code",
   "execution_count": 73,
   "metadata": {},
   "outputs": [
    {
     "data": {
      "text/plain": [
       "0.26802412388092145"
      ]
     },
     "execution_count": 73,
     "metadata": {},
     "output_type": "execute_result"
    }
   ],
   "source": [
    "sfs_back.k_score_"
   ]
  },
  {
   "cell_type": "code",
   "execution_count": null,
   "metadata": {},
   "outputs": [],
   "source": [
    "#r2 score are quite increse forward selection r2 is 0.264 and backward ellimination 0.266\n"
   ]
  },
  {
   "cell_type": "markdown",
   "metadata": {
    "collapsed": true
   },
   "source": [
    "<table align=\"left\">\n",
    "    <tr>\n",
    "        <td width=\"6%\">\n",
    "            <img src=\"question_icon.png\">\n",
    "        </td>\n",
    "        <td>\n",
    "            <div align=\"left\", style=\"font-size:120%\">\n",
    "                <font color=\"#21618C\">\n",
    "                    <b>12. Find the best set of significant variables from the dataset using forward selection technique such that the selected set should have 2 to 6 features. Also display the R-squared score for the model built using the selected variables</b>\n",
    "                </font>\n",
    "            </div>\n",
    "        </td>\n",
    "    </tr>\n",
    "</table>"
   ]
  },
  {
   "cell_type": "code",
   "execution_count": 76,
   "metadata": {},
   "outputs": [
    {
     "name": "stderr",
     "output_type": "stream",
     "text": [
      "[Parallel(n_jobs=1)]: Using backend SequentialBackend with 1 concurrent workers.\n",
      "[Parallel(n_jobs=1)]: Done   1 out of   1 | elapsed:    0.0s remaining:    0.0s\n",
      "[Parallel(n_jobs=1)]: Done  11 out of  11 | elapsed:    0.0s finished\n",
      "\n",
      "[2021-08-06 03:56:58] Features: 1/6 -- score: 0.18747333410916894[Parallel(n_jobs=1)]: Using backend SequentialBackend with 1 concurrent workers.\n",
      "[Parallel(n_jobs=1)]: Done   1 out of   1 | elapsed:    0.0s remaining:    0.0s\n",
      "[Parallel(n_jobs=1)]: Done  10 out of  10 | elapsed:    0.0s finished\n",
      "\n",
      "[2021-08-06 03:56:58] Features: 2/6 -- score: 0.23776974947798185[Parallel(n_jobs=1)]: Using backend SequentialBackend with 1 concurrent workers.\n",
      "[Parallel(n_jobs=1)]: Done   1 out of   1 | elapsed:    0.0s remaining:    0.0s\n",
      "[Parallel(n_jobs=1)]: Done   9 out of   9 | elapsed:    0.0s finished\n",
      "\n",
      "[2021-08-06 03:56:58] Features: 3/6 -- score: 0.2556286538815082[Parallel(n_jobs=1)]: Using backend SequentialBackend with 1 concurrent workers.\n",
      "[Parallel(n_jobs=1)]: Done   1 out of   1 | elapsed:    0.0s remaining:    0.0s\n",
      "[Parallel(n_jobs=1)]: Done   8 out of   8 | elapsed:    0.0s finished\n",
      "\n",
      "[2021-08-06 03:56:58] Features: 4/6 -- score: 0.2611658820329429[Parallel(n_jobs=1)]: Using backend SequentialBackend with 1 concurrent workers.\n",
      "[Parallel(n_jobs=1)]: Done   1 out of   1 | elapsed:    0.0s remaining:    0.0s\n",
      "[Parallel(n_jobs=1)]: Done   7 out of   7 | elapsed:    0.0s finished\n",
      "\n",
      "[2021-08-06 03:56:58] Features: 5/6 -- score: 0.26802412388092145[Parallel(n_jobs=1)]: Using backend SequentialBackend with 1 concurrent workers.\n",
      "[Parallel(n_jobs=1)]: Done   1 out of   1 | elapsed:    0.0s remaining:    0.0s\n",
      "[Parallel(n_jobs=1)]: Done   6 out of   6 | elapsed:    0.0s finished\n",
      "\n",
      "[2021-08-06 03:56:58] Features: 6/6 -- score: 0.2731814992521905"
     ]
    }
   ],
   "source": [
    "ln_fr1=sfs(estimator=lr,k_features=(2,6),forward=True,verbose=2,scoring='r2')\n",
    "sfs_for1=ln_fr1.fit(x_train,y_tarin)"
   ]
  },
  {
   "cell_type": "code",
   "execution_count": 77,
   "metadata": {},
   "outputs": [
    {
     "data": {
      "text/plain": [
       "('volatile acidity', 'residual sugar', 'density', 'pH', 'sulphates', 'alcohol')"
      ]
     },
     "execution_count": 77,
     "metadata": {},
     "output_type": "execute_result"
    }
   ],
   "source": [
    "sfs_for1.k_feature_names_"
   ]
  },
  {
   "cell_type": "code",
   "execution_count": 78,
   "metadata": {},
   "outputs": [
    {
     "data": {
      "text/plain": [
       "0.2731814992521905"
      ]
     },
     "execution_count": 78,
     "metadata": {},
     "output_type": "execute_result"
    }
   ],
   "source": [
    "sfs_for1.k_score_"
   ]
  },
  {
   "cell_type": "markdown",
   "metadata": {
    "collapsed": true
   },
   "source": [
    "<table align=\"left\">\n",
    "    <tr>\n",
    "        <td width=\"6%\">\n",
    "            <img src=\"question_icon.png\">\n",
    "        </td>\n",
    "        <td>\n",
    "            <div align=\"left\", style=\"font-size:120%\">\n",
    "                <font color=\"#21618C\">\n",
    "                    <b>13. Find the best set of significant variables from the dataset using forward selection technique. Also display the R-squared score for the model built using the selected variables.</b>\n",
    "                </font>\n",
    "            </div>\n",
    "        </td>\n",
    "    </tr>\n",
    "</table>"
   ]
  },
  {
   "cell_type": "code",
   "execution_count": 79,
   "metadata": {},
   "outputs": [
    {
     "name": "stderr",
     "output_type": "stream",
     "text": [
      "[Parallel(n_jobs=1)]: Using backend SequentialBackend with 1 concurrent workers.\n",
      "[Parallel(n_jobs=1)]: Done   1 out of   1 | elapsed:    0.0s remaining:    0.0s\n",
      "[Parallel(n_jobs=1)]: Done  11 out of  11 | elapsed:    0.0s finished\n",
      "\n",
      "[2021-08-06 03:58:08] Features: 1/11 -- score: 0.18747333410916894[Parallel(n_jobs=1)]: Using backend SequentialBackend with 1 concurrent workers.\n",
      "[Parallel(n_jobs=1)]: Done   1 out of   1 | elapsed:    0.0s remaining:    0.0s\n",
      "[Parallel(n_jobs=1)]: Done  10 out of  10 | elapsed:    0.0s finished\n",
      "\n",
      "[2021-08-06 03:58:09] Features: 2/11 -- score: 0.23776974947798185[Parallel(n_jobs=1)]: Using backend SequentialBackend with 1 concurrent workers.\n",
      "[Parallel(n_jobs=1)]: Done   1 out of   1 | elapsed:    0.0s remaining:    0.0s\n",
      "[Parallel(n_jobs=1)]: Done   9 out of   9 | elapsed:    0.0s finished\n",
      "\n",
      "[2021-08-06 03:58:09] Features: 3/11 -- score: 0.2556286538815082[Parallel(n_jobs=1)]: Using backend SequentialBackend with 1 concurrent workers.\n",
      "[Parallel(n_jobs=1)]: Done   1 out of   1 | elapsed:    0.0s remaining:    0.0s\n",
      "[Parallel(n_jobs=1)]: Done   8 out of   8 | elapsed:    0.0s finished\n",
      "\n",
      "[2021-08-06 03:58:09] Features: 4/11 -- score: 0.2611658820329429[Parallel(n_jobs=1)]: Using backend SequentialBackend with 1 concurrent workers.\n",
      "[Parallel(n_jobs=1)]: Done   1 out of   1 | elapsed:    0.0s remaining:    0.0s\n",
      "[Parallel(n_jobs=1)]: Done   7 out of   7 | elapsed:    0.0s finished\n",
      "\n",
      "[2021-08-06 03:58:09] Features: 5/11 -- score: 0.26802412388092145[Parallel(n_jobs=1)]: Using backend SequentialBackend with 1 concurrent workers.\n",
      "[Parallel(n_jobs=1)]: Done   1 out of   1 | elapsed:    0.0s remaining:    0.0s\n",
      "[Parallel(n_jobs=1)]: Done   6 out of   6 | elapsed:    0.0s finished\n",
      "\n",
      "[2021-08-06 03:58:09] Features: 6/11 -- score: 0.2731814992521905[Parallel(n_jobs=1)]: Using backend SequentialBackend with 1 concurrent workers.\n",
      "[Parallel(n_jobs=1)]: Done   1 out of   1 | elapsed:    0.0s remaining:    0.0s\n",
      "[Parallel(n_jobs=1)]: Done   5 out of   5 | elapsed:    0.0s finished\n",
      "\n",
      "[2021-08-06 03:58:09] Features: 7/11 -- score: 0.27535094187880177[Parallel(n_jobs=1)]: Using backend SequentialBackend with 1 concurrent workers.\n",
      "[Parallel(n_jobs=1)]: Done   1 out of   1 | elapsed:    0.0s remaining:    0.0s\n",
      "[Parallel(n_jobs=1)]: Done   4 out of   4 | elapsed:    0.0s finished\n",
      "\n",
      "[2021-08-06 03:58:09] Features: 8/11 -- score: 0.2763294459268302[Parallel(n_jobs=1)]: Using backend SequentialBackend with 1 concurrent workers.\n",
      "[Parallel(n_jobs=1)]: Done   1 out of   1 | elapsed:    0.0s remaining:    0.0s\n",
      "[Parallel(n_jobs=1)]: Done   3 out of   3 | elapsed:    0.0s finished\n",
      "\n",
      "[2021-08-06 03:58:09] Features: 9/11 -- score: 0.2763003372261185[Parallel(n_jobs=1)]: Using backend SequentialBackend with 1 concurrent workers.\n",
      "[Parallel(n_jobs=1)]: Done   1 out of   1 | elapsed:    0.0s remaining:    0.0s\n",
      "[Parallel(n_jobs=1)]: Done   2 out of   2 | elapsed:    0.0s finished\n",
      "\n",
      "[2021-08-06 03:58:09] Features: 10/11 -- score: 0.27583841919032803[Parallel(n_jobs=1)]: Using backend SequentialBackend with 1 concurrent workers.\n",
      "[Parallel(n_jobs=1)]: Done   1 out of   1 | elapsed:    0.0s remaining:    0.0s\n",
      "[Parallel(n_jobs=1)]: Done   1 out of   1 | elapsed:    0.0s finished\n",
      "\n",
      "[2021-08-06 03:58:09] Features: 11/11 -- score: 0.27372627247726905"
     ]
    }
   ],
   "source": [
    "ln_fr2=sfs(estimator=lr,k_features='best',forward=True,verbose=2,scoring='r2')\n",
    "sfs_fr2=ln_fr2.fit(x_train,y_tarin)"
   ]
  },
  {
   "cell_type": "code",
   "execution_count": 80,
   "metadata": {},
   "outputs": [
    {
     "data": {
      "text/plain": [
       "('volatile acidity',\n",
       " 'citric acid',\n",
       " 'residual sugar',\n",
       " 'free sulfur dioxide',\n",
       " 'density',\n",
       " 'pH',\n",
       " 'sulphates',\n",
       " 'alcohol')"
      ]
     },
     "execution_count": 80,
     "metadata": {},
     "output_type": "execute_result"
    }
   ],
   "source": [
    "sfs_fr2.k_feature_names_"
   ]
  },
  {
   "cell_type": "code",
   "execution_count": 81,
   "metadata": {},
   "outputs": [
    {
     "data": {
      "text/plain": [
       "0.2763294459268302"
      ]
     },
     "execution_count": 81,
     "metadata": {},
     "output_type": "execute_result"
    }
   ],
   "source": [
    "sfs_fr2.k_score_"
   ]
  },
  {
   "cell_type": "markdown",
   "metadata": {
    "collapsed": true
   },
   "source": [
    "<table align=\"left\">\n",
    "    <tr>\n",
    "        <td width=\"6%\">\n",
    "            <img src=\"question_icon.png\">\n",
    "        </td>\n",
    "        <td>\n",
    "            <div align=\"left\", style=\"font-size:120%\">\n",
    "                <font color=\"#21618C\">\n",
    "                    <b>14. Find the best set of significant variables from the dataset using backward elimination technique. Also display the R-squared score for the model built using the selected variables. <br><br>Compare the R-squared value obtained from question 13 with the value obtained using backward elimination.</b>\n",
    "                </font>\n",
    "            </div>\n",
    "        </td>\n",
    "    </tr>\n",
    "</table>"
   ]
  },
  {
   "cell_type": "code",
   "execution_count": 85,
   "metadata": {},
   "outputs": [
    {
     "name": "stderr",
     "output_type": "stream",
     "text": [
      "[Parallel(n_jobs=1)]: Using backend SequentialBackend with 1 concurrent workers.\n",
      "[Parallel(n_jobs=1)]: Done   1 out of   1 | elapsed:    0.0s remaining:    0.0s\n",
      "[Parallel(n_jobs=1)]: Done  11 out of  11 | elapsed:    0.0s finished\n",
      "\n",
      "[2021-08-06 04:01:48] Features: 10/1 -- score: 0.27583841919032803[Parallel(n_jobs=1)]: Using backend SequentialBackend with 1 concurrent workers.\n",
      "[Parallel(n_jobs=1)]: Done   1 out of   1 | elapsed:    0.0s remaining:    0.0s\n",
      "[Parallel(n_jobs=1)]: Done  10 out of  10 | elapsed:    0.0s finished\n",
      "\n",
      "[2021-08-06 04:01:48] Features: 9/1 -- score: 0.2763003372261185[Parallel(n_jobs=1)]: Using backend SequentialBackend with 1 concurrent workers.\n",
      "[Parallel(n_jobs=1)]: Done   1 out of   1 | elapsed:    0.0s remaining:    0.0s\n",
      "[Parallel(n_jobs=1)]: Done   9 out of   9 | elapsed:    0.0s finished\n",
      "\n",
      "[2021-08-06 04:01:48] Features: 8/1 -- score: 0.2763294459268302[Parallel(n_jobs=1)]: Using backend SequentialBackend with 1 concurrent workers.\n",
      "[Parallel(n_jobs=1)]: Done   1 out of   1 | elapsed:    0.0s remaining:    0.0s\n",
      "[Parallel(n_jobs=1)]: Done   8 out of   8 | elapsed:    0.0s finished\n",
      "\n",
      "[2021-08-06 04:01:48] Features: 7/1 -- score: 0.27535094187880177[Parallel(n_jobs=1)]: Using backend SequentialBackend with 1 concurrent workers.\n",
      "[Parallel(n_jobs=1)]: Done   1 out of   1 | elapsed:    0.0s remaining:    0.0s\n",
      "[Parallel(n_jobs=1)]: Done   7 out of   7 | elapsed:    0.0s finished\n",
      "\n",
      "[2021-08-06 04:01:48] Features: 6/1 -- score: 0.2731814992521905[Parallel(n_jobs=1)]: Using backend SequentialBackend with 1 concurrent workers.\n",
      "[Parallel(n_jobs=1)]: Done   1 out of   1 | elapsed:    0.0s remaining:    0.0s\n",
      "[Parallel(n_jobs=1)]: Done   6 out of   6 | elapsed:    0.0s finished\n",
      "\n",
      "[2021-08-06 04:01:48] Features: 5/1 -- score: 0.26802412388092145[Parallel(n_jobs=1)]: Using backend SequentialBackend with 1 concurrent workers.\n",
      "[Parallel(n_jobs=1)]: Done   1 out of   1 | elapsed:    0.0s remaining:    0.0s\n",
      "[Parallel(n_jobs=1)]: Done   5 out of   5 | elapsed:    0.0s finished\n",
      "\n",
      "[2021-08-06 04:01:49] Features: 4/1 -- score: 0.2611658820329402[Parallel(n_jobs=1)]: Using backend SequentialBackend with 1 concurrent workers.\n",
      "[Parallel(n_jobs=1)]: Done   1 out of   1 | elapsed:    0.0s remaining:    0.0s\n",
      "[Parallel(n_jobs=1)]: Done   4 out of   4 | elapsed:    0.0s finished\n",
      "\n",
      "[2021-08-06 04:01:49] Features: 3/1 -- score: 0.2556286538815082[Parallel(n_jobs=1)]: Using backend SequentialBackend with 1 concurrent workers.\n",
      "[Parallel(n_jobs=1)]: Done   1 out of   1 | elapsed:    0.0s remaining:    0.0s\n",
      "[Parallel(n_jobs=1)]: Done   3 out of   3 | elapsed:    0.0s finished\n",
      "\n",
      "[2021-08-06 04:01:49] Features: 2/1 -- score: 0.23776974947798185[Parallel(n_jobs=1)]: Using backend SequentialBackend with 1 concurrent workers.\n",
      "[Parallel(n_jobs=1)]: Done   1 out of   1 | elapsed:    0.0s remaining:    0.0s\n",
      "[Parallel(n_jobs=1)]: Done   2 out of   2 | elapsed:    0.0s finished\n",
      "\n",
      "[2021-08-06 04:01:49] Features: 1/1 -- score: 0.18747333410916894"
     ]
    }
   ],
   "source": [
    "ln_fr2=sfs(estimator=lr,k_features='best',forward=False,verbose=2,scoring='r2')\n",
    "sfs_bck1=ln_fr2.fit(x_train,y_tarin)"
   ]
  },
  {
   "cell_type": "code",
   "execution_count": 86,
   "metadata": {},
   "outputs": [
    {
     "data": {
      "text/plain": [
       "('volatile acidity',\n",
       " 'citric acid',\n",
       " 'residual sugar',\n",
       " 'free sulfur dioxide',\n",
       " 'density',\n",
       " 'pH',\n",
       " 'sulphates',\n",
       " 'alcohol')"
      ]
     },
     "execution_count": 86,
     "metadata": {},
     "output_type": "execute_result"
    }
   ],
   "source": [
    "sfs_bck1.k_feature_names_"
   ]
  },
  {
   "cell_type": "code",
   "execution_count": 88,
   "metadata": {},
   "outputs": [
    {
     "data": {
      "text/plain": [
       "0.2763294459268302"
      ]
     },
     "execution_count": 88,
     "metadata": {},
     "output_type": "execute_result"
    }
   ],
   "source": [
    "sfs_bck1.k_score_"
   ]
  },
  {
   "cell_type": "markdown",
   "metadata": {
    "collapsed": true
   },
   "source": [
    "<table align=\"left\">\n",
    "    <tr>\n",
    "        <td width=\"6%\">\n",
    "            <img src=\"question_icon.png\">\n",
    "        </td>\n",
    "        <td>\n",
    "            <div align=\"left\", style=\"font-size:120%\">\n",
    "                <font color=\"#21618C\">\n",
    "                    <b>15. Find the best set of significant variables from the dataset among all the possible subsets of the variables. Build a linear regression model using the best subset and find the R-Squared value for that model.</b>\n",
    "                </font>\n",
    "            </div>\n",
    "        </td>\n",
    "    </tr>\n",
    "</table>"
   ]
  },
  {
   "cell_type": "code",
   "execution_count": 89,
   "metadata": {},
   "outputs": [],
   "source": [
    "modl_rfe=RFE(estimator=lr,n_features_to_select=5)\n",
    "model=modl_rfe.fit(x_train,y_tarin)"
   ]
  },
  {
   "cell_type": "code",
   "execution_count": 91,
   "metadata": {},
   "outputs": [
    {
     "data": {
      "text/html": [
       "<div>\n",
       "<style scoped>\n",
       "    .dataframe tbody tr th:only-of-type {\n",
       "        vertical-align: middle;\n",
       "    }\n",
       "\n",
       "    .dataframe tbody tr th {\n",
       "        vertical-align: top;\n",
       "    }\n",
       "\n",
       "    .dataframe thead th {\n",
       "        text-align: right;\n",
       "    }\n",
       "</style>\n",
       "<table border=\"1\" class=\"dataframe\">\n",
       "  <thead>\n",
       "    <tr style=\"text-align: right;\">\n",
       "      <th></th>\n",
       "      <th>0</th>\n",
       "    </tr>\n",
       "  </thead>\n",
       "  <tbody>\n",
       "    <tr>\n",
       "      <th>fixed acidity</th>\n",
       "      <td>5</td>\n",
       "    </tr>\n",
       "    <tr>\n",
       "      <th>volatile acidity</th>\n",
       "      <td>1</td>\n",
       "    </tr>\n",
       "    <tr>\n",
       "      <th>citric acid</th>\n",
       "      <td>3</td>\n",
       "    </tr>\n",
       "    <tr>\n",
       "      <th>residual sugar</th>\n",
       "      <td>4</td>\n",
       "    </tr>\n",
       "    <tr>\n",
       "      <th>chlorides</th>\n",
       "      <td>1</td>\n",
       "    </tr>\n",
       "    <tr>\n",
       "      <th>free sulfur dioxide</th>\n",
       "      <td>6</td>\n",
       "    </tr>\n",
       "    <tr>\n",
       "      <th>total sulfur dioxide</th>\n",
       "      <td>7</td>\n",
       "    </tr>\n",
       "    <tr>\n",
       "      <th>density</th>\n",
       "      <td>1</td>\n",
       "    </tr>\n",
       "    <tr>\n",
       "      <th>pH</th>\n",
       "      <td>2</td>\n",
       "    </tr>\n",
       "    <tr>\n",
       "      <th>sulphates</th>\n",
       "      <td>1</td>\n",
       "    </tr>\n",
       "    <tr>\n",
       "      <th>alcohol</th>\n",
       "      <td>1</td>\n",
       "    </tr>\n",
       "  </tbody>\n",
       "</table>\n",
       "</div>"
      ],
      "text/plain": [
       "                      0\n",
       "fixed acidity         5\n",
       "volatile acidity      1\n",
       "citric acid           3\n",
       "residual sugar        4\n",
       "chlorides             1\n",
       "free sulfur dioxide   6\n",
       "total sulfur dioxide  7\n",
       "density               1\n",
       "pH                    2\n",
       "sulphates             1\n",
       "alcohol               1"
      ]
     },
     "execution_count": 91,
     "metadata": {},
     "output_type": "execute_result"
    }
   ],
   "source": [
    "findex=pd.DataFrame(data=model.ranking_,index=x_train.columns)\n",
    "findex"
   ]
  },
  {
   "cell_type": "code",
   "execution_count": 96,
   "metadata": {},
   "outputs": [
    {
     "name": "stdout",
     "output_type": "stream",
     "text": [
      "0.2497877490305448\n"
     ]
    }
   ],
   "source": [
    "x_train1= x_train[['volatile acidity','chlorides', 'density','sulphates','alcohol']]\n",
    "lr.fit(x_train1, y_tarin)\n",
    "r2=lr.score(x_train1, y_tarin)\n",
    "print(r2)"
   ]
  },
  {
   "cell_type": "markdown",
   "metadata": {
    "collapsed": true
   },
   "source": [
    "<table align=\"left\">\n",
    "    <tr>\n",
    "        <td width=\"6%\">\n",
    "            <img src=\"question_icon.png\">\n",
    "        </td>\n",
    "        <td>\n",
    "            <div align=\"left\", style=\"font-size:120%\">\n",
    "                <font color=\"#21618C\">\n",
    "                    <b>16. Calculate the RMSE for the train set and test set for the model created using the top 5 variables obtained from forward selection in question 10. Check if the model is overfitted on the train set or not. If yes, then why do you think so?</b>\n",
    "                </font>\n",
    "            </div>\n",
    "        </td>\n",
    "    </tr>\n",
    "</table>"
   ]
  },
  {
   "cell_type": "code",
   "execution_count": 100,
   "metadata": {},
   "outputs": [],
   "source": [
    "x =df_w.iloc[:,:11]\n",
    "y =df_w['quality']\n",
    "x_train, x_test, y_train, y_test= train_test_split(x,y,test_size=.2, random_state=10)\n",
    "lr=LinearRegression()"
   ]
  },
  {
   "cell_type": "code",
   "execution_count": 103,
   "metadata": {},
   "outputs": [],
   "source": [
    "lin_for= sfs(estimator=lr, k_features=5, forward=True,scoring= 'r2')\n",
    "sfs_for= lin_for.fit(x_train, y_train)"
   ]
  },
  {
   "cell_type": "code",
   "execution_count": 105,
   "metadata": {},
   "outputs": [
    {
     "data": {
      "text/plain": [
       "LinearRegression()"
      ]
     },
     "execution_count": 105,
     "metadata": {},
     "output_type": "execute_result"
    }
   ],
   "source": [
    "f=list(sfs_for.k_feature_names_)\n",
    "X= X[f]\n",
    "X_train1, X_test1, y_tarin1, y_test1= train_test_split(X,y,test_size=.2, random_state=10)\n",
    "\n",
    "lr.fit(X_train1, y_train1)\n"
   ]
  },
  {
   "cell_type": "code",
   "execution_count": 107,
   "metadata": {},
   "outputs": [],
   "source": [
    "ypred1=lr.predict(X_train1)\n",
    "ypred2=lr.predict(X_test1)\n"
   ]
  },
  {
   "cell_type": "code",
   "execution_count": 109,
   "metadata": {},
   "outputs": [
    {
     "name": "stdout",
     "output_type": "stream",
     "text": [
      "0.5767545215693153 0.5688963831482611\n"
     ]
    }
   ],
   "source": [
    "mse1= mean_squared_error(y_train1, ypred1)\n",
    "mse2= mean_squared_error(y_test1, ypred2)\n",
    "\n",
    "print(mse1 , mse2)"
   ]
  },
  {
   "cell_type": "code",
   "execution_count": null,
   "metadata": {},
   "outputs": [],
   "source": [
    "# i have from the q.10 we can say there is not much difference in the rmse so there is not such offerfiiting"
   ]
  },
  {
   "cell_type": "markdown",
   "metadata": {},
   "source": [
    "<a id=\"cv\"> </a>\n",
    "## 3. Model Validation"
   ]
  },
  {
   "cell_type": "markdown",
   "metadata": {
    "collapsed": true
   },
   "source": [
    "<table align=\"left\">\n",
    "    <tr>\n",
    "        <td width=\"6%\">\n",
    "            <img src=\"question_icon.png\">\n",
    "        </td>\n",
    "        <td>\n",
    "            <div align=\"left\", style=\"font-size:120%\">\n",
    "                <font color=\"#21618C\">\n",
    "                    <b>17. Create a new feature based on the 'pH' which tells whether wine is acidic, basic or neutral. Will this variable significantly contribute to the model?</b>\n",
    "                </font>\n",
    "            </div>\n",
    "        </td>\n",
    "    </tr>\n",
    "</table>"
   ]
  },
  {
   "cell_type": "code",
   "execution_count": 15,
   "metadata": {},
   "outputs": [],
   "source": [
    "New_pH=[]\n",
    "\n",
    "for i in range(0, df_w.pH.shape[0]):\n",
    "    if df_w.pH.iloc[i]==7:\n",
    "        New_pH.append('N')\n",
    "    elif df_w.pH.iloc[i]>7:\n",
    "        New_pH.append('B')\n",
    "    elif df_w.pH.iloc[i]<7:\n",
    "        New_pH.append('A')\n",
    "\n",
    "df_w['New_pH']= New_pH  \n"
   ]
  },
  {
   "cell_type": "code",
   "execution_count": 16,
   "metadata": {},
   "outputs": [
    {
     "data": {
      "text/plain": [
       "A    4898\n",
       "Name: New_pH, dtype: int64"
      ]
     },
     "execution_count": 16,
     "metadata": {},
     "output_type": "execute_result"
    }
   ],
   "source": [
    "df_w.New_pH.value_counts()"
   ]
  },
  {
   "cell_type": "markdown",
   "metadata": {
    "collapsed": true
   },
   "source": [
    "<table align=\"left\">\n",
    "    <tr>\n",
    "        <td width=\"6%\">\n",
    "            <img src=\"question_icon.png\">\n",
    "        </td>\n",
    "        <td>\n",
    "            <div align=\"left\", style=\"font-size:120%\">\n",
    "                <font color=\"#21618C\">\n",
    "                    <b>18. Fit the a full model. Validate the model using cross validation method</b>\n",
    "                </font>\n",
    "            </div>\n",
    "        </td>\n",
    "    </tr>\n",
    "</table>"
   ]
  },
  {
   "cell_type": "code",
   "execution_count": 111,
   "metadata": {},
   "outputs": [],
   "source": [
    "X=df_w.iloc[:,:11]\n",
    "y=df_w['quality']\n",
    "X_train,X_test,y_train,y_test=train_test_split(X,y,test_size=0.2,random_state=10)\n",
    "LR=LinearRegression()"
   ]
  },
  {
   "cell_type": "code",
   "execution_count": 112,
   "metadata": {},
   "outputs": [],
   "source": [
    "score=cross_val_score(estimator=LR,X=X,y=y,cv=5,scoring='r2')"
   ]
  },
  {
   "cell_type": "code",
   "execution_count": 113,
   "metadata": {},
   "outputs": [
    {
     "data": {
      "text/plain": [
       "0.24727509163884548"
      ]
     },
     "execution_count": 113,
     "metadata": {},
     "output_type": "execute_result"
    }
   ],
   "source": [
    "score.mean()"
   ]
  },
  {
   "cell_type": "markdown",
   "metadata": {
    "collapsed": true
   },
   "source": [
    "<table align=\"left\">\n",
    "    <tr>\n",
    "        <td width=\"6%\">\n",
    "            <img src=\"question_icon.png\">\n",
    "        </td>\n",
    "        <td>\n",
    "            <div align=\"left\", style=\"font-size:120%\">\n",
    "                <font color=\"#21618C\">\n",
    "                    <b>19. Fit the a full model. Validate the model using 5 - fold cross validation</b>\n",
    "                </font>\n",
    "            </div>\n",
    "        </td>\n",
    "    </tr>\n",
    "</table>"
   ]
  },
  {
   "cell_type": "code",
   "execution_count": 115,
   "metadata": {},
   "outputs": [],
   "source": [
    "X=df_w.iloc[:,:11]\n",
    "y=df_w['quality']\n",
    "X_train,X_test,y_train,y_test=train_test_split(X,y,test_size=0.2,random_state=10)\n",
    "LR=LinearRegression()"
   ]
  },
  {
   "cell_type": "code",
   "execution_count": 116,
   "metadata": {},
   "outputs": [
    {
     "data": {
      "text/plain": [
       "array([0.20171614, 0.29711639, 0.27528225, 0.30511381, 0.15714687])"
      ]
     },
     "execution_count": 116,
     "metadata": {},
     "output_type": "execute_result"
    }
   ],
   "source": [
    "score=cross_val_score(estimator=LR,X=X,y=y,cv=5,scoring='r2')\n",
    "score"
   ]
  },
  {
   "cell_type": "markdown",
   "metadata": {
    "collapsed": true
   },
   "source": [
    "<table align=\"left\">\n",
    "    <tr>\n",
    "        <td width=\"6%\">\n",
    "            <img src=\"question_icon.png\">\n",
    "        </td>\n",
    "        <td>\n",
    "            <div align=\"left\", style=\"font-size:120%\">\n",
    "                <font color=\"#21618C\">\n",
    "                    <b>20. Fit the a full model. Validate the model using leave one out cross validation</b>\n",
    "                </font>\n",
    "            </div>\n",
    "        </td>\n",
    "    </tr>\n",
    "</table>"
   ]
  },
  {
   "cell_type": "code",
   "execution_count": 117,
   "metadata": {},
   "outputs": [
    {
     "data": {
      "text/plain": [
       "4898"
      ]
     },
     "execution_count": 117,
     "metadata": {},
     "output_type": "execute_result"
    }
   ],
   "source": [
    "l1=LeaveOneOut()\n",
    "l1.get_n_splits(X)\n"
   ]
  },
  {
   "cell_type": "code",
   "execution_count": 118,
   "metadata": {},
   "outputs": [],
   "source": [
    "loocv_rmse = []\n",
    "loocv = LeaveOneOut()\n",
    "for train_index, test_index in loocv.split(X_train):\n",
    "    X_train_l, X_test_l, y_train_l, y_test_l = X_train.iloc[train_index], X_train.iloc[test_index], \\\n",
    "    y_train.iloc[train_index], y_train.iloc[test_index]\n",
    "linreg = LinearRegression()\n",
    "linreg.fit(X_train_l, y_train_l)\n",
    "mse = mean_squared_error(y_test_l, linreg.predict(X_test_l))\n",
    "rmse = np.sqrt(mse)\n",
    "loocv_rmse.append(rmse)"
   ]
  },
  {
   "cell_type": "code",
   "execution_count": 119,
   "metadata": {},
   "outputs": [
    {
     "data": {
      "text/plain": [
       "0.15569483956952013"
      ]
     },
     "execution_count": 119,
     "metadata": {},
     "output_type": "execute_result"
    }
   ],
   "source": [
    "np.mean(loocv_rmse)"
   ]
  }
 ],
 "metadata": {
  "kernelspec": {
   "display_name": "Python 3",
   "language": "python",
   "name": "python3"
  },
  "language_info": {
   "codemirror_mode": {
    "name": "ipython",
    "version": 3
   },
   "file_extension": ".py",
   "mimetype": "text/x-python",
   "name": "python",
   "nbconvert_exporter": "python",
   "pygments_lexer": "ipython3",
   "version": "3.8.5"
  }
 },
 "nbformat": 4,
 "nbformat_minor": 2
}
