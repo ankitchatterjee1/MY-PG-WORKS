{
 "cells": [
  {
   "cell_type": "code",
   "execution_count": 1,
   "metadata": {},
   "outputs": [],
   "source": [
    "#imported required libraries\n",
    "import pandas as pd\n",
    "import numpy as np\n",
    "import matplotlib.pyplot as plt\n",
    "import seaborn as sns\n",
    "import scipy\n",
    "import sklearn\n",
    "import warnings\n",
    "warnings.filterwarnings(action='ignore')"
   ]
  },
  {
   "cell_type": "code",
   "execution_count": 5,
   "metadata": {},
   "outputs": [
    {
     "data": {
      "text/html": [
       "<div>\n",
       "<style scoped>\n",
       "    .dataframe tbody tr th:only-of-type {\n",
       "        vertical-align: middle;\n",
       "    }\n",
       "\n",
       "    .dataframe tbody tr th {\n",
       "        vertical-align: top;\n",
       "    }\n",
       "\n",
       "    .dataframe thead th {\n",
       "        text-align: right;\n",
       "    }\n",
       "</style>\n",
       "<table border=\"1\" class=\"dataframe\">\n",
       "  <thead>\n",
       "    <tr style=\"text-align: right;\">\n",
       "      <th></th>\n",
       "      <th>Month</th>\n",
       "      <th>Enquiry Date</th>\n",
       "      <th>Enquiry Id</th>\n",
       "      <th>Allocation Status</th>\n",
       "      <th>Status</th>\n",
       "      <th>State</th>\n",
       "      <th>City</th>\n",
       "      <th>Pincode</th>\n",
       "      <th>Type of Project</th>\n",
       "      <th>No of Windows</th>\n",
       "      <th>...</th>\n",
       "      <th>Second Action-Call Status.1</th>\n",
       "      <th>Remarks</th>\n",
       "      <th>Price Per Sft</th>\n",
       "      <th>Benefits</th>\n",
       "      <th>Aesthetics</th>\n",
       "      <th>Reduce Street Noise</th>\n",
       "      <th>Low Maintenance</th>\n",
       "      <th>Monsoon Proof</th>\n",
       "      <th>Better Lighting</th>\n",
       "      <th>Reduce AC Energy Cost</th>\n",
       "    </tr>\n",
       "  </thead>\n",
       "  <tbody>\n",
       "    <tr>\n",
       "      <th>0</th>\n",
       "      <td>April'16</td>\n",
       "      <td>02-Apr-16</td>\n",
       "      <td>EC02041646800</td>\n",
       "      <td>Dealer</td>\n",
       "      <td>Won</td>\n",
       "      <td>TAMILNADU</td>\n",
       "      <td>CHENNAI</td>\n",
       "      <td>600008</td>\n",
       "      <td>Renovation</td>\n",
       "      <td>6 to 10</td>\n",
       "      <td>...</td>\n",
       "      <td>NaN</td>\n",
       "      <td>NaN</td>\n",
       "      <td>1105</td>\n",
       "      <td>Aesthetics &amp; Street Noise</td>\n",
       "      <td>1.0</td>\n",
       "      <td>1.0</td>\n",
       "      <td>0.0</td>\n",
       "      <td>0.0</td>\n",
       "      <td>0.0</td>\n",
       "      <td>0.0</td>\n",
       "    </tr>\n",
       "    <tr>\n",
       "      <th>1</th>\n",
       "      <td>April'16</td>\n",
       "      <td>08-Apr-16</td>\n",
       "      <td>EC08041647157</td>\n",
       "      <td>Dealer</td>\n",
       "      <td>Lost</td>\n",
       "      <td>TAMILNADU</td>\n",
       "      <td>CHENNAI</td>\n",
       "      <td>600042</td>\n",
       "      <td>New Construction</td>\n",
       "      <td>6 to 10</td>\n",
       "      <td>...</td>\n",
       "      <td>NaN</td>\n",
       "      <td>Price Issue</td>\n",
       "      <td>985</td>\n",
       "      <td>NaN</td>\n",
       "      <td>NaN</td>\n",
       "      <td>NaN</td>\n",
       "      <td>NaN</td>\n",
       "      <td>NaN</td>\n",
       "      <td>NaN</td>\n",
       "      <td>NaN</td>\n",
       "    </tr>\n",
       "    <tr>\n",
       "      <th>2</th>\n",
       "      <td>April'16</td>\n",
       "      <td>08-Apr-16</td>\n",
       "      <td>EC08041647130</td>\n",
       "      <td>Dealer</td>\n",
       "      <td>Lost</td>\n",
       "      <td>TAMILNADU</td>\n",
       "      <td>CHENNAI</td>\n",
       "      <td>600015</td>\n",
       "      <td>New Construction</td>\n",
       "      <td>1 to 5</td>\n",
       "      <td>...</td>\n",
       "      <td>NaN</td>\n",
       "      <td>Delivery Issue</td>\n",
       "      <td>918</td>\n",
       "      <td>NaN</td>\n",
       "      <td>NaN</td>\n",
       "      <td>NaN</td>\n",
       "      <td>NaN</td>\n",
       "      <td>NaN</td>\n",
       "      <td>NaN</td>\n",
       "      <td>NaN</td>\n",
       "    </tr>\n",
       "    <tr>\n",
       "      <th>3</th>\n",
       "      <td>April'16</td>\n",
       "      <td>09-Apr-16</td>\n",
       "      <td>EC09041647202</td>\n",
       "      <td>Direct</td>\n",
       "      <td>Lost</td>\n",
       "      <td>TAMILNADU</td>\n",
       "      <td>KANCHIPURAM</td>\n",
       "      <td>600075</td>\n",
       "      <td>New Construction</td>\n",
       "      <td>21 to 40</td>\n",
       "      <td>...</td>\n",
       "      <td>NaN</td>\n",
       "      <td>Price Issue</td>\n",
       "      <td>919</td>\n",
       "      <td>NaN</td>\n",
       "      <td>NaN</td>\n",
       "      <td>NaN</td>\n",
       "      <td>NaN</td>\n",
       "      <td>NaN</td>\n",
       "      <td>NaN</td>\n",
       "      <td>NaN</td>\n",
       "    </tr>\n",
       "    <tr>\n",
       "      <th>4</th>\n",
       "      <td>April'16</td>\n",
       "      <td>11-Apr-16</td>\n",
       "      <td>EC11041647360</td>\n",
       "      <td>Direct</td>\n",
       "      <td>Won</td>\n",
       "      <td>TAMILNADU</td>\n",
       "      <td>CHENNAI</td>\n",
       "      <td>600041</td>\n",
       "      <td>Renovation</td>\n",
       "      <td>6 to 10</td>\n",
       "      <td>...</td>\n",
       "      <td>NaN</td>\n",
       "      <td>NaN</td>\n",
       "      <td>1350</td>\n",
       "      <td>Reduce AC Energy Cost</td>\n",
       "      <td>0.0</td>\n",
       "      <td>0.0</td>\n",
       "      <td>0.0</td>\n",
       "      <td>0.0</td>\n",
       "      <td>0.0</td>\n",
       "      <td>1.0</td>\n",
       "    </tr>\n",
       "  </tbody>\n",
       "</table>\n",
       "<p>5 rows × 40 columns</p>\n",
       "</div>"
      ],
      "text/plain": [
       "      Month Enquiry Date      Enquiry Id Allocation Status Status      State  \\\n",
       "0  April'16    02-Apr-16   EC02041646800            Dealer    Won  TAMILNADU   \n",
       "1  April'16    08-Apr-16   EC08041647157            Dealer   Lost  TAMILNADU   \n",
       "2  April'16    08-Apr-16   EC08041647130            Dealer   Lost  TAMILNADU   \n",
       "3  April'16    09-Apr-16   EC09041647202            Direct   Lost  TAMILNADU   \n",
       "4  April'16    11-Apr-16   EC11041647360            Direct    Won  TAMILNADU   \n",
       "\n",
       "          City  Pincode   Type of Project No of Windows  ...  \\\n",
       "0      CHENNAI   600008        Renovation       6 to 10  ...   \n",
       "1      CHENNAI   600042  New Construction       6 to 10  ...   \n",
       "2      CHENNAI   600015  New Construction        1 to 5  ...   \n",
       "3  KANCHIPURAM   600075  New Construction      21 to 40  ...   \n",
       "4      CHENNAI   600041        Renovation       6 to 10  ...   \n",
       "\n",
       "  Second Action-Call Status.1         Remarks Price Per Sft  \\\n",
       "0                         NaN             NaN          1105   \n",
       "1                         NaN     Price Issue           985   \n",
       "2                         NaN  Delivery Issue           918   \n",
       "3                         NaN     Price Issue           919   \n",
       "4                         NaN             NaN          1350   \n",
       "\n",
       "                    Benefits Aesthetics Reduce Street Noise Low Maintenance  \\\n",
       "0  Aesthetics & Street Noise        1.0                 1.0             0.0   \n",
       "1                        NaN        NaN                 NaN             NaN   \n",
       "2                        NaN        NaN                 NaN             NaN   \n",
       "3                        NaN        NaN                 NaN             NaN   \n",
       "4      Reduce AC Energy Cost        0.0                 0.0             0.0   \n",
       "\n",
       "  Monsoon Proof Better Lighting Reduce AC Energy Cost  \n",
       "0           0.0             0.0                   0.0  \n",
       "1           NaN             NaN                   NaN  \n",
       "2           NaN             NaN                   NaN  \n",
       "3           NaN             NaN                   NaN  \n",
       "4           0.0             0.0                   1.0  \n",
       "\n",
       "[5 rows x 40 columns]"
      ]
     },
     "execution_count": 5,
     "metadata": {},
     "output_type": "execute_result"
    }
   ],
   "source": [
    "#loaded dataset\n",
    "df = pd.read_csv('retail_data.csv',encoding='Unicode_escape')\n",
    "df.head()"
   ]
  },
  {
   "cell_type": "code",
   "execution_count": 6,
   "metadata": {},
   "outputs": [
    {
     "data": {
      "text/plain": [
       "Index(['Month', 'Enquiry Date', 'Enquiry Id', 'Allocation Status', 'Status',\n",
       "       'State', 'City', 'Pincode', 'Type of Project', 'No of Windows',\n",
       "       'Source', 'Zone', 'Dealer Name', 'First Action-Call made',\n",
       "       'Date DD/MM/YY', 'First Action-Call Status',\n",
       "       'Date of Appointment (DD/MM/YY)', 'Second Action-Customer Meeting',\n",
       "       'Date DD/MM/YY.1', 'Second Action-Call Status',\n",
       "       'Third Action-Quote Given', 'Date DD/MM/YY.2', 'Q Val. (Rs. Lac)',\n",
       "       'Quote QTY', ' Order Recd\\Lost ', 'Date DD/MM/YY.3',\n",
       "       'Order Val. (Rs. Lac)', 'Order QTY',\n",
       "       'Quote ID (as per match to CCC Records)',\n",
       "       ' Remarks-Brand and value if lost to UPVC ',\n",
       "       'Second Action-Call Status.1', 'Remarks', 'Price Per Sft', 'Benefits',\n",
       "       'Aesthetics', 'Reduce Street Noise', 'Low Maintenance', 'Monsoon Proof',\n",
       "       'Better Lighting', 'Reduce AC Energy Cost'],\n",
       "      dtype='object')"
      ]
     },
     "execution_count": 6,
     "metadata": {},
     "output_type": "execute_result"
    }
   ],
   "source": [
    "#understanding different columns\n",
    "df.columns"
   ]
  },
  {
   "cell_type": "code",
   "execution_count": 7,
   "metadata": {},
   "outputs": [
    {
     "data": {
      "text/plain": [
       "Month                                         object\n",
       "Enquiry Date                                  object\n",
       "Enquiry Id                                    object\n",
       "Allocation Status                             object\n",
       "Status                                        object\n",
       "State                                         object\n",
       "City                                          object\n",
       "Pincode                                        int64\n",
       "Type of Project                               object\n",
       "No of Windows                                 object\n",
       "Source                                        object\n",
       "Zone                                          object\n",
       "Dealer Name                                   object\n",
       "First Action-Call made                        object\n",
       "Date DD/MM/YY                                 object\n",
       "First Action-Call Status                      object\n",
       "Date of Appointment (DD/MM/YY)                object\n",
       "Second Action-Customer Meeting                object\n",
       "Date DD/MM/YY.1                               object\n",
       "Second Action-Call Status                     object\n",
       "Third Action-Quote Given                      object\n",
       "Date DD/MM/YY.2                               object\n",
       "Q Val. (Rs. Lac)                             float64\n",
       "Quote QTY                                     object\n",
       " Order Recd\\Lost                              object\n",
       "Date DD/MM/YY.3                               object\n",
       "Order Val. (Rs. Lac)                         float64\n",
       "Order QTY                                    float64\n",
       "Quote ID (as per match to CCC Records)        object\n",
       " Remarks-Brand and value if lost to UPVC      object\n",
       "Second Action-Call Status.1                  float64\n",
       "Remarks                                       object\n",
       "Price Per Sft                                  int64\n",
       "Benefits                                      object\n",
       "Aesthetics                                   float64\n",
       "Reduce Street Noise                          float64\n",
       "Low Maintenance                              float64\n",
       "Monsoon Proof                                float64\n",
       "Better Lighting                              float64\n",
       "Reduce AC Energy Cost                        float64\n",
       "dtype: object"
      ]
     },
     "execution_count": 7,
     "metadata": {},
     "output_type": "execute_result"
    }
   ],
   "source": [
    "#identified data types of all variables, to check variable if any wrongly identified\n",
    "df.dtypes"
   ]
  },
  {
   "cell_type": "code",
   "execution_count": 8,
   "metadata": {},
   "outputs": [
    {
     "data": {
      "text/html": [
       "<div>\n",
       "<style scoped>\n",
       "    .dataframe tbody tr th:only-of-type {\n",
       "        vertical-align: middle;\n",
       "    }\n",
       "\n",
       "    .dataframe tbody tr th {\n",
       "        vertical-align: top;\n",
       "    }\n",
       "\n",
       "    .dataframe thead th {\n",
       "        text-align: right;\n",
       "    }\n",
       "</style>\n",
       "<table border=\"1\" class=\"dataframe\">\n",
       "  <thead>\n",
       "    <tr style=\"text-align: right;\">\n",
       "      <th></th>\n",
       "      <th>Month</th>\n",
       "      <th>Enquiry Date</th>\n",
       "      <th>Enquiry Id</th>\n",
       "      <th>Allocation Status</th>\n",
       "      <th>Status</th>\n",
       "      <th>State</th>\n",
       "      <th>City</th>\n",
       "      <th>Pincode</th>\n",
       "      <th>Type of Project</th>\n",
       "      <th>No of Windows</th>\n",
       "      <th>...</th>\n",
       "      <th>Second Action-Call Status.1</th>\n",
       "      <th>Remarks</th>\n",
       "      <th>Price Per Sft</th>\n",
       "      <th>Benefits</th>\n",
       "      <th>Aesthetics</th>\n",
       "      <th>Reduce Street Noise</th>\n",
       "      <th>Low Maintenance</th>\n",
       "      <th>Monsoon Proof</th>\n",
       "      <th>Better Lighting</th>\n",
       "      <th>Reduce AC Energy Cost</th>\n",
       "    </tr>\n",
       "  </thead>\n",
       "  <tbody>\n",
       "    <tr>\n",
       "      <th>count</th>\n",
       "      <td>229</td>\n",
       "      <td>229</td>\n",
       "      <td>229</td>\n",
       "      <td>229</td>\n",
       "      <td>229</td>\n",
       "      <td>229</td>\n",
       "      <td>229</td>\n",
       "      <td>229.000000</td>\n",
       "      <td>229</td>\n",
       "      <td>229</td>\n",
       "      <td>...</td>\n",
       "      <td>0.0</td>\n",
       "      <td>171</td>\n",
       "      <td>229.000000</td>\n",
       "      <td>53</td>\n",
       "      <td>37.000000</td>\n",
       "      <td>37.000000</td>\n",
       "      <td>37.000000</td>\n",
       "      <td>37.000000</td>\n",
       "      <td>37.000000</td>\n",
       "      <td>37.000000</td>\n",
       "    </tr>\n",
       "    <tr>\n",
       "      <th>unique</th>\n",
       "      <td>9</td>\n",
       "      <td>150</td>\n",
       "      <td>228</td>\n",
       "      <td>2</td>\n",
       "      <td>2</td>\n",
       "      <td>1</td>\n",
       "      <td>9</td>\n",
       "      <td>NaN</td>\n",
       "      <td>2</td>\n",
       "      <td>6</td>\n",
       "      <td>...</td>\n",
       "      <td>NaN</td>\n",
       "      <td>13</td>\n",
       "      <td>NaN</td>\n",
       "      <td>17</td>\n",
       "      <td>NaN</td>\n",
       "      <td>NaN</td>\n",
       "      <td>NaN</td>\n",
       "      <td>NaN</td>\n",
       "      <td>NaN</td>\n",
       "      <td>NaN</td>\n",
       "    </tr>\n",
       "    <tr>\n",
       "      <th>top</th>\n",
       "      <td>July'16</td>\n",
       "      <td>28-Jul-16</td>\n",
       "      <td>EC21041648139</td>\n",
       "      <td>Dealer</td>\n",
       "      <td>Lost</td>\n",
       "      <td>TAMILNADU</td>\n",
       "      <td>CHENNAI</td>\n",
       "      <td>NaN</td>\n",
       "      <td>Renovation</td>\n",
       "      <td>1 to 5</td>\n",
       "      <td>...</td>\n",
       "      <td>NaN</td>\n",
       "      <td>Price Issue</td>\n",
       "      <td>NaN</td>\n",
       "      <td>Nil</td>\n",
       "      <td>NaN</td>\n",
       "      <td>NaN</td>\n",
       "      <td>NaN</td>\n",
       "      <td>NaN</td>\n",
       "      <td>NaN</td>\n",
       "      <td>NaN</td>\n",
       "    </tr>\n",
       "    <tr>\n",
       "      <th>freq</th>\n",
       "      <td>37</td>\n",
       "      <td>4</td>\n",
       "      <td>2</td>\n",
       "      <td>165</td>\n",
       "      <td>176</td>\n",
       "      <td>229</td>\n",
       "      <td>146</td>\n",
       "      <td>NaN</td>\n",
       "      <td>142</td>\n",
       "      <td>150</td>\n",
       "      <td>...</td>\n",
       "      <td>NaN</td>\n",
       "      <td>103</td>\n",
       "      <td>NaN</td>\n",
       "      <td>14</td>\n",
       "      <td>NaN</td>\n",
       "      <td>NaN</td>\n",
       "      <td>NaN</td>\n",
       "      <td>NaN</td>\n",
       "      <td>NaN</td>\n",
       "      <td>NaN</td>\n",
       "    </tr>\n",
       "    <tr>\n",
       "      <th>mean</th>\n",
       "      <td>NaN</td>\n",
       "      <td>NaN</td>\n",
       "      <td>NaN</td>\n",
       "      <td>NaN</td>\n",
       "      <td>NaN</td>\n",
       "      <td>NaN</td>\n",
       "      <td>NaN</td>\n",
       "      <td>601742.572052</td>\n",
       "      <td>NaN</td>\n",
       "      <td>NaN</td>\n",
       "      <td>...</td>\n",
       "      <td>NaN</td>\n",
       "      <td>NaN</td>\n",
       "      <td>1045.323144</td>\n",
       "      <td>NaN</td>\n",
       "      <td>0.243243</td>\n",
       "      <td>0.648649</td>\n",
       "      <td>0.486486</td>\n",
       "      <td>0.081081</td>\n",
       "      <td>0.027027</td>\n",
       "      <td>0.162162</td>\n",
       "    </tr>\n",
       "    <tr>\n",
       "      <th>std</th>\n",
       "      <td>NaN</td>\n",
       "      <td>NaN</td>\n",
       "      <td>NaN</td>\n",
       "      <td>NaN</td>\n",
       "      <td>NaN</td>\n",
       "      <td>NaN</td>\n",
       "      <td>NaN</td>\n",
       "      <td>6573.378113</td>\n",
       "      <td>NaN</td>\n",
       "      <td>NaN</td>\n",
       "      <td>...</td>\n",
       "      <td>NaN</td>\n",
       "      <td>NaN</td>\n",
       "      <td>220.032076</td>\n",
       "      <td>NaN</td>\n",
       "      <td>0.434959</td>\n",
       "      <td>0.483978</td>\n",
       "      <td>0.506712</td>\n",
       "      <td>0.276725</td>\n",
       "      <td>0.164399</td>\n",
       "      <td>0.373684</td>\n",
       "    </tr>\n",
       "    <tr>\n",
       "      <th>min</th>\n",
       "      <td>NaN</td>\n",
       "      <td>NaN</td>\n",
       "      <td>NaN</td>\n",
       "      <td>NaN</td>\n",
       "      <td>NaN</td>\n",
       "      <td>NaN</td>\n",
       "      <td>NaN</td>\n",
       "      <td>600001.000000</td>\n",
       "      <td>NaN</td>\n",
       "      <td>NaN</td>\n",
       "      <td>...</td>\n",
       "      <td>NaN</td>\n",
       "      <td>NaN</td>\n",
       "      <td>650.000000</td>\n",
       "      <td>NaN</td>\n",
       "      <td>0.000000</td>\n",
       "      <td>0.000000</td>\n",
       "      <td>0.000000</td>\n",
       "      <td>0.000000</td>\n",
       "      <td>0.000000</td>\n",
       "      <td>0.000000</td>\n",
       "    </tr>\n",
       "    <tr>\n",
       "      <th>25%</th>\n",
       "      <td>NaN</td>\n",
       "      <td>NaN</td>\n",
       "      <td>NaN</td>\n",
       "      <td>NaN</td>\n",
       "      <td>NaN</td>\n",
       "      <td>NaN</td>\n",
       "      <td>NaN</td>\n",
       "      <td>600033.000000</td>\n",
       "      <td>NaN</td>\n",
       "      <td>NaN</td>\n",
       "      <td>...</td>\n",
       "      <td>NaN</td>\n",
       "      <td>NaN</td>\n",
       "      <td>921.000000</td>\n",
       "      <td>NaN</td>\n",
       "      <td>0.000000</td>\n",
       "      <td>0.000000</td>\n",
       "      <td>0.000000</td>\n",
       "      <td>0.000000</td>\n",
       "      <td>0.000000</td>\n",
       "      <td>0.000000</td>\n",
       "    </tr>\n",
       "    <tr>\n",
       "      <th>50%</th>\n",
       "      <td>NaN</td>\n",
       "      <td>NaN</td>\n",
       "      <td>NaN</td>\n",
       "      <td>NaN</td>\n",
       "      <td>NaN</td>\n",
       "      <td>NaN</td>\n",
       "      <td>NaN</td>\n",
       "      <td>600059.000000</td>\n",
       "      <td>NaN</td>\n",
       "      <td>NaN</td>\n",
       "      <td>...</td>\n",
       "      <td>NaN</td>\n",
       "      <td>NaN</td>\n",
       "      <td>1030.000000</td>\n",
       "      <td>NaN</td>\n",
       "      <td>0.000000</td>\n",
       "      <td>1.000000</td>\n",
       "      <td>0.000000</td>\n",
       "      <td>0.000000</td>\n",
       "      <td>0.000000</td>\n",
       "      <td>0.000000</td>\n",
       "    </tr>\n",
       "    <tr>\n",
       "      <th>75%</th>\n",
       "      <td>NaN</td>\n",
       "      <td>NaN</td>\n",
       "      <td>NaN</td>\n",
       "      <td>NaN</td>\n",
       "      <td>NaN</td>\n",
       "      <td>NaN</td>\n",
       "      <td>NaN</td>\n",
       "      <td>600099.000000</td>\n",
       "      <td>NaN</td>\n",
       "      <td>NaN</td>\n",
       "      <td>...</td>\n",
       "      <td>NaN</td>\n",
       "      <td>NaN</td>\n",
       "      <td>1129.000000</td>\n",
       "      <td>NaN</td>\n",
       "      <td>0.000000</td>\n",
       "      <td>1.000000</td>\n",
       "      <td>1.000000</td>\n",
       "      <td>0.000000</td>\n",
       "      <td>0.000000</td>\n",
       "      <td>0.000000</td>\n",
       "    </tr>\n",
       "    <tr>\n",
       "      <th>max</th>\n",
       "      <td>NaN</td>\n",
       "      <td>NaN</td>\n",
       "      <td>NaN</td>\n",
       "      <td>NaN</td>\n",
       "      <td>NaN</td>\n",
       "      <td>NaN</td>\n",
       "      <td>NaN</td>\n",
       "      <td>635810.000000</td>\n",
       "      <td>NaN</td>\n",
       "      <td>NaN</td>\n",
       "      <td>...</td>\n",
       "      <td>NaN</td>\n",
       "      <td>NaN</td>\n",
       "      <td>3121.000000</td>\n",
       "      <td>NaN</td>\n",
       "      <td>1.000000</td>\n",
       "      <td>1.000000</td>\n",
       "      <td>1.000000</td>\n",
       "      <td>1.000000</td>\n",
       "      <td>1.000000</td>\n",
       "      <td>1.000000</td>\n",
       "    </tr>\n",
       "  </tbody>\n",
       "</table>\n",
       "<p>11 rows × 40 columns</p>\n",
       "</div>"
      ],
      "text/plain": [
       "          Month Enquiry Date     Enquiry Id Allocation Status Status  \\\n",
       "count       229          229            229               229    229   \n",
       "unique        9          150            228                 2      2   \n",
       "top     July'16    28-Jul-16  EC21041648139            Dealer   Lost   \n",
       "freq         37            4              2               165    176   \n",
       "mean        NaN          NaN            NaN               NaN    NaN   \n",
       "std         NaN          NaN            NaN               NaN    NaN   \n",
       "min         NaN          NaN            NaN               NaN    NaN   \n",
       "25%         NaN          NaN            NaN               NaN    NaN   \n",
       "50%         NaN          NaN            NaN               NaN    NaN   \n",
       "75%         NaN          NaN            NaN               NaN    NaN   \n",
       "max         NaN          NaN            NaN               NaN    NaN   \n",
       "\n",
       "            State     City        Pincode Type of Project No of Windows  ...  \\\n",
       "count         229      229     229.000000             229           229  ...   \n",
       "unique          1        9            NaN               2             6  ...   \n",
       "top     TAMILNADU  CHENNAI            NaN      Renovation        1 to 5  ...   \n",
       "freq          229      146            NaN             142           150  ...   \n",
       "mean          NaN      NaN  601742.572052             NaN           NaN  ...   \n",
       "std           NaN      NaN    6573.378113             NaN           NaN  ...   \n",
       "min           NaN      NaN  600001.000000             NaN           NaN  ...   \n",
       "25%           NaN      NaN  600033.000000             NaN           NaN  ...   \n",
       "50%           NaN      NaN  600059.000000             NaN           NaN  ...   \n",
       "75%           NaN      NaN  600099.000000             NaN           NaN  ...   \n",
       "max           NaN      NaN  635810.000000             NaN           NaN  ...   \n",
       "\n",
       "       Second Action-Call Status.1      Remarks Price Per Sft Benefits  \\\n",
       "count                          0.0          171    229.000000       53   \n",
       "unique                         NaN           13           NaN       17   \n",
       "top                            NaN  Price Issue           NaN      Nil   \n",
       "freq                           NaN          103           NaN       14   \n",
       "mean                           NaN          NaN   1045.323144      NaN   \n",
       "std                            NaN          NaN    220.032076      NaN   \n",
       "min                            NaN          NaN    650.000000      NaN   \n",
       "25%                            NaN          NaN    921.000000      NaN   \n",
       "50%                            NaN          NaN   1030.000000      NaN   \n",
       "75%                            NaN          NaN   1129.000000      NaN   \n",
       "max                            NaN          NaN   3121.000000      NaN   \n",
       "\n",
       "       Aesthetics Reduce Street Noise Low Maintenance Monsoon Proof  \\\n",
       "count   37.000000           37.000000       37.000000     37.000000   \n",
       "unique        NaN                 NaN             NaN           NaN   \n",
       "top           NaN                 NaN             NaN           NaN   \n",
       "freq          NaN                 NaN             NaN           NaN   \n",
       "mean     0.243243            0.648649        0.486486      0.081081   \n",
       "std      0.434959            0.483978        0.506712      0.276725   \n",
       "min      0.000000            0.000000        0.000000      0.000000   \n",
       "25%      0.000000            0.000000        0.000000      0.000000   \n",
       "50%      0.000000            1.000000        0.000000      0.000000   \n",
       "75%      0.000000            1.000000        1.000000      0.000000   \n",
       "max      1.000000            1.000000        1.000000      1.000000   \n",
       "\n",
       "       Better Lighting Reduce AC Energy Cost  \n",
       "count        37.000000             37.000000  \n",
       "unique             NaN                   NaN  \n",
       "top                NaN                   NaN  \n",
       "freq               NaN                   NaN  \n",
       "mean          0.027027              0.162162  \n",
       "std           0.164399              0.373684  \n",
       "min           0.000000              0.000000  \n",
       "25%           0.000000              0.000000  \n",
       "50%           0.000000              0.000000  \n",
       "75%           0.000000              0.000000  \n",
       "max           1.000000              1.000000  \n",
       "\n",
       "[11 rows x 40 columns]"
      ]
     },
     "execution_count": 8,
     "metadata": {},
     "output_type": "execute_result"
    }
   ],
   "source": [
    "#description of data including categaroical variables\n",
    "df.describe(include='all')"
   ]
  },
  {
   "cell_type": "code",
   "execution_count": 9,
   "metadata": {},
   "outputs": [
    {
     "data": {
      "text/plain": [
       "Month                                          0\n",
       "Enquiry Date                                   0\n",
       "Enquiry Id                                     0\n",
       "Allocation Status                              0\n",
       "Status                                         0\n",
       "State                                          0\n",
       "City                                           0\n",
       "Pincode                                        0\n",
       "Type of Project                                0\n",
       "No of Windows                                  0\n",
       "Source                                         0\n",
       "Zone                                           0\n",
       "Dealer Name                                    0\n",
       "First Action-Call made                         0\n",
       "Date DD/MM/YY                                  0\n",
       "First Action-Call Status                       0\n",
       "Date of Appointment (DD/MM/YY)                37\n",
       "Second Action-Customer Meeting                37\n",
       "Date DD/MM/YY.1                               37\n",
       "Second Action-Call Status                     38\n",
       "Third Action-Quote Given                      40\n",
       "Date DD/MM/YY.2                               41\n",
       "Q Val. (Rs. Lac)                              46\n",
       "Quote QTY                                     46\n",
       " Order Recd\\Lost                               0\n",
       "Date DD/MM/YY.3                              181\n",
       "Order Val. (Rs. Lac)                         181\n",
       "Order QTY                                    181\n",
       "Quote ID (as per match to CCC Records)       113\n",
       " Remarks-Brand and value if lost to UPVC     106\n",
       "Second Action-Call Status.1                  229\n",
       "Remarks                                       58\n",
       "Price Per Sft                                  0\n",
       "Benefits                                     176\n",
       "Aesthetics                                   192\n",
       "Reduce Street Noise                          192\n",
       "Low Maintenance                              192\n",
       "Monsoon Proof                                192\n",
       "Better Lighting                              192\n",
       "Reduce AC Energy Cost                        192\n",
       "dtype: int64"
      ]
     },
     "execution_count": 9,
     "metadata": {},
     "output_type": "execute_result"
    }
   ],
   "source": [
    "#identified presence of null values in variables\n",
    "df.isna().sum()"
   ]
  },
  {
   "cell_type": "code",
   "execution_count": 10,
   "metadata": {},
   "outputs": [],
   "source": [
    "#find metric and come up with threshold percentage which will help in guaging peroformance of the delears\n"
   ]
  },
  {
   "cell_type": "code",
   "execution_count": 13,
   "metadata": {},
   "outputs": [],
   "source": [
    "#filtered desired columns for further analysis\n",
    "df_sample = df[['Month','Allocation Status','State','Dealer Name','Status','Order QTY','Order Val. (Rs. Lac)','Remarks']]"
   ]
  },
  {
   "cell_type": "code",
   "execution_count": 14,
   "metadata": {},
   "outputs": [
    {
     "data": {
      "text/html": [
       "<div>\n",
       "<style scoped>\n",
       "    .dataframe tbody tr th:only-of-type {\n",
       "        vertical-align: middle;\n",
       "    }\n",
       "\n",
       "    .dataframe tbody tr th {\n",
       "        vertical-align: top;\n",
       "    }\n",
       "\n",
       "    .dataframe thead th {\n",
       "        text-align: right;\n",
       "    }\n",
       "</style>\n",
       "<table border=\"1\" class=\"dataframe\">\n",
       "  <thead>\n",
       "    <tr style=\"text-align: right;\">\n",
       "      <th></th>\n",
       "      <th>Month</th>\n",
       "      <th>Allocation Status</th>\n",
       "      <th>State</th>\n",
       "      <th>Dealer Name</th>\n",
       "      <th>Status</th>\n",
       "      <th>Order QTY</th>\n",
       "      <th>Order Val. (Rs. Lac)</th>\n",
       "      <th>Remarks</th>\n",
       "    </tr>\n",
       "  </thead>\n",
       "  <tbody>\n",
       "    <tr>\n",
       "      <th>0</th>\n",
       "      <td>April'16</td>\n",
       "      <td>Dealer</td>\n",
       "      <td>TAMILNADU</td>\n",
       "      <td>Sunbird</td>\n",
       "      <td>Won</td>\n",
       "      <td>3.0</td>\n",
       "      <td>0.54</td>\n",
       "      <td>NaN</td>\n",
       "    </tr>\n",
       "    <tr>\n",
       "      <th>1</th>\n",
       "      <td>April'16</td>\n",
       "      <td>Dealer</td>\n",
       "      <td>TAMILNADU</td>\n",
       "      <td>Winfratech</td>\n",
       "      <td>Lost</td>\n",
       "      <td>NaN</td>\n",
       "      <td>NaN</td>\n",
       "      <td>Price Issue</td>\n",
       "    </tr>\n",
       "    <tr>\n",
       "      <th>2</th>\n",
       "      <td>April'16</td>\n",
       "      <td>Dealer</td>\n",
       "      <td>TAMILNADU</td>\n",
       "      <td>Sunbird</td>\n",
       "      <td>Lost</td>\n",
       "      <td>NaN</td>\n",
       "      <td>NaN</td>\n",
       "      <td>Delivery Issue</td>\n",
       "    </tr>\n",
       "    <tr>\n",
       "      <th>3</th>\n",
       "      <td>April'16</td>\n",
       "      <td>Direct</td>\n",
       "      <td>TAMILNADU</td>\n",
       "      <td>Direct</td>\n",
       "      <td>Lost</td>\n",
       "      <td>NaN</td>\n",
       "      <td>NaN</td>\n",
       "      <td>Price Issue</td>\n",
       "    </tr>\n",
       "    <tr>\n",
       "      <th>4</th>\n",
       "      <td>April'16</td>\n",
       "      <td>Direct</td>\n",
       "      <td>TAMILNADU</td>\n",
       "      <td>Sunbird</td>\n",
       "      <td>Won</td>\n",
       "      <td>8.0</td>\n",
       "      <td>1.63</td>\n",
       "      <td>NaN</td>\n",
       "    </tr>\n",
       "    <tr>\n",
       "      <th>...</th>\n",
       "      <td>...</td>\n",
       "      <td>...</td>\n",
       "      <td>...</td>\n",
       "      <td>...</td>\n",
       "      <td>...</td>\n",
       "      <td>...</td>\n",
       "      <td>...</td>\n",
       "      <td>...</td>\n",
       "    </tr>\n",
       "    <tr>\n",
       "      <th>224</th>\n",
       "      <td>Jan'17</td>\n",
       "      <td>Dealer</td>\n",
       "      <td>TAMILNADU</td>\n",
       "      <td>Direct</td>\n",
       "      <td>Lost</td>\n",
       "      <td>NaN</td>\n",
       "      <td>NaN</td>\n",
       "      <td>Price Issue</td>\n",
       "    </tr>\n",
       "    <tr>\n",
       "      <th>225</th>\n",
       "      <td>Jan'17</td>\n",
       "      <td>Direct</td>\n",
       "      <td>TAMILNADU</td>\n",
       "      <td>Direct</td>\n",
       "      <td>Won</td>\n",
       "      <td>16.0</td>\n",
       "      <td>3.69</td>\n",
       "      <td>NaN</td>\n",
       "    </tr>\n",
       "    <tr>\n",
       "      <th>226</th>\n",
       "      <td>Jan'17</td>\n",
       "      <td>Direct</td>\n",
       "      <td>TAMILNADU</td>\n",
       "      <td>Direct</td>\n",
       "      <td>Lost</td>\n",
       "      <td>NaN</td>\n",
       "      <td>NaN</td>\n",
       "      <td>No Requirment</td>\n",
       "    </tr>\n",
       "    <tr>\n",
       "      <th>227</th>\n",
       "      <td>Jan'17</td>\n",
       "      <td>Dealer</td>\n",
       "      <td>TAMILNADU</td>\n",
       "      <td>OXXO</td>\n",
       "      <td>Lost</td>\n",
       "      <td>NaN</td>\n",
       "      <td>NaN</td>\n",
       "      <td>Design Infeasibility</td>\n",
       "    </tr>\n",
       "    <tr>\n",
       "      <th>228</th>\n",
       "      <td>Jan'17</td>\n",
       "      <td>Direct</td>\n",
       "      <td>TAMILNADU</td>\n",
       "      <td>Direct</td>\n",
       "      <td>Lost</td>\n",
       "      <td>NaN</td>\n",
       "      <td>NaN</td>\n",
       "      <td>Price Issue</td>\n",
       "    </tr>\n",
       "  </tbody>\n",
       "</table>\n",
       "<p>229 rows × 8 columns</p>\n",
       "</div>"
      ],
      "text/plain": [
       "        Month Allocation Status      State Dealer Name Status  Order QTY  \\\n",
       "0    April'16            Dealer  TAMILNADU     Sunbird    Won        3.0   \n",
       "1    April'16            Dealer  TAMILNADU  Winfratech   Lost        NaN   \n",
       "2    April'16            Dealer  TAMILNADU     Sunbird   Lost        NaN   \n",
       "3    April'16            Direct  TAMILNADU      Direct   Lost        NaN   \n",
       "4    April'16            Direct  TAMILNADU     Sunbird    Won        8.0   \n",
       "..        ...               ...        ...         ...    ...        ...   \n",
       "224    Jan'17            Dealer  TAMILNADU      Direct   Lost        NaN   \n",
       "225    Jan'17            Direct  TAMILNADU      Direct    Won       16.0   \n",
       "226    Jan'17            Direct  TAMILNADU      Direct   Lost        NaN   \n",
       "227    Jan'17            Dealer  TAMILNADU        OXXO   Lost        NaN   \n",
       "228    Jan'17            Direct  TAMILNADU      Direct   Lost        NaN   \n",
       "\n",
       "     Order Val. (Rs. Lac)               Remarks  \n",
       "0                    0.54                   NaN  \n",
       "1                     NaN           Price Issue  \n",
       "2                     NaN        Delivery Issue  \n",
       "3                     NaN           Price Issue  \n",
       "4                    1.63                   NaN  \n",
       "..                    ...                   ...  \n",
       "224                   NaN           Price Issue  \n",
       "225                  3.69                   NaN  \n",
       "226                   NaN         No Requirment  \n",
       "227                   NaN  Design Infeasibility  \n",
       "228                   NaN           Price Issue  \n",
       "\n",
       "[229 rows x 8 columns]"
      ]
     },
     "execution_count": 14,
     "metadata": {},
     "output_type": "execute_result"
    }
   ],
   "source": [
    "df_sample"
   ]
  },
  {
   "cell_type": "code",
   "execution_count": 15,
   "metadata": {},
   "outputs": [
    {
     "data": {
      "text/plain": [
       "Month                     0\n",
       "Allocation Status         0\n",
       "State                     0\n",
       "Dealer Name               0\n",
       "Status                    0\n",
       "Order QTY               181\n",
       "Order Val. (Rs. Lac)    181\n",
       "Remarks                  58\n",
       "dtype: int64"
      ]
     },
     "execution_count": 15,
     "metadata": {},
     "output_type": "execute_result"
    }
   ],
   "source": [
    "#identified presence of null values\n",
    "df_sample.isna().sum()"
   ]
  },
  {
   "cell_type": "code",
   "execution_count": 16,
   "metadata": {},
   "outputs": [
    {
     "data": {
      "text/plain": [
       "Month                    0.000000\n",
       "Allocation Status        0.000000\n",
       "State                    0.000000\n",
       "Dealer Name              0.000000\n",
       "Status                   0.000000\n",
       "Order QTY               79.039301\n",
       "Order Val. (Rs. Lac)    79.039301\n",
       "Remarks                 25.327511\n",
       "dtype: float64"
      ]
     },
     "execution_count": 16,
     "metadata": {},
     "output_type": "execute_result"
    }
   ],
   "source": [
    "#as percentage\n",
    "df_sample.isna().sum()/len(df_sample)*100 #missing values"
   ]
  },
  {
   "cell_type": "code",
   "execution_count": 17,
   "metadata": {},
   "outputs": [
    {
     "data": {
      "text/plain": [
       "Month                    object\n",
       "Allocation Status        object\n",
       "State                    object\n",
       "Dealer Name              object\n",
       "Status                   object\n",
       "Order QTY               float64\n",
       "Order Val. (Rs. Lac)    float64\n",
       "Remarks                  object\n",
       "dtype: object"
      ]
     },
     "execution_count": 17,
     "metadata": {},
     "output_type": "execute_result"
    }
   ],
   "source": [
    "df_sample.dtypes #info on datatypes"
   ]
  },
  {
   "cell_type": "code",
   "execution_count": 18,
   "metadata": {},
   "outputs": [
    {
     "data": {
      "image/png": "[encoded data removed]",
      "text/plain": [
       "<Figure size 1080x576 with 1 Axes>"
      ]
     },
     "metadata": {
      "needs_background": "light"
     },
     "output_type": "display_data"
    },
    {
     "data": {
      "text/plain": [
       "<Figure size 864x504 with 0 Axes>"
      ]
     },
     "metadata": {},
     "output_type": "display_data"
    }
   ],
   "source": [
    "#relationship between dealer name and status\n",
    "plt.rcParams['figure.figsize'] = [15,8]\n",
    "pd.crosstab(df_sample['Dealer Name'],df['Status']).plot(kind='bar')\n",
    "plt.grid()\n",
    "plt.figure(figsize=(12,7))\n",
    "plt.show()"
   ]
  },
  {
   "cell_type": "code",
   "execution_count": 19,
   "metadata": {},
   "outputs": [],
   "source": [
    "#from the above plot, we can infer that,Direct dealer have acquired highest won status and ITP with no won status "
   ]
  },
  {
   "cell_type": "code",
   "execution_count": 20,
   "metadata": {},
   "outputs": [
    {
     "data": {
      "text/plain": [
       "10.229166666666666"
      ]
     },
     "execution_count": 20,
     "metadata": {},
     "output_type": "execute_result"
    }
   ],
   "source": [
    "#average order Quantity\n",
    "df_sample['Order QTY'].mean()"
   ]
  },
  {
   "cell_type": "code",
   "execution_count": 21,
   "metadata": {},
   "outputs": [
    {
     "data": {
      "text/plain": [
       "1.874375"
      ]
     },
     "execution_count": 21,
     "metadata": {},
     "output_type": "execute_result"
    }
   ],
   "source": [
    "df_sample['Order Val. (Rs. Lac)'].mean()"
   ]
  },
  {
   "cell_type": "code",
   "execution_count": 22,
   "metadata": {},
   "outputs": [
    {
     "data": {
      "image/png": "[encoded data removed]",
      "text/plain": [
       "<Figure size 1080x576 with 1 Axes>"
      ]
     },
     "metadata": {
      "needs_background": "light"
     },
     "output_type": "display_data"
    }
   ],
   "source": [
    "#distribution of order value\n",
    "plt.rcParams['figure.figsize'] = [15,8]\n",
    "sns.distplot(df_sample['Order Val. (Rs. Lac)'].dropna())\n",
    "plt.show()"
   ]
  },
  {
   "cell_type": "code",
   "execution_count": 23,
   "metadata": {},
   "outputs": [
    {
     "data": {
      "text/html": [
       "<div>\n",
       "<style scoped>\n",
       "    .dataframe tbody tr th:only-of-type {\n",
       "        vertical-align: middle;\n",
       "    }\n",
       "\n",
       "    .dataframe tbody tr th {\n",
       "        vertical-align: top;\n",
       "    }\n",
       "\n",
       "    .dataframe thead th {\n",
       "        text-align: right;\n",
       "    }\n",
       "</style>\n",
       "<table border=\"1\" class=\"dataframe\">\n",
       "  <thead>\n",
       "    <tr style=\"text-align: right;\">\n",
       "      <th></th>\n",
       "      <th>Month</th>\n",
       "      <th>Allocation Status</th>\n",
       "      <th>State</th>\n",
       "      <th>Dealer Name</th>\n",
       "      <th>Status</th>\n",
       "      <th>Order QTY</th>\n",
       "      <th>Order Val. (Rs. Lac)</th>\n",
       "      <th>Remarks</th>\n",
       "    </tr>\n",
       "  </thead>\n",
       "  <tbody>\n",
       "    <tr>\n",
       "      <th>225</th>\n",
       "      <td>Jan'17</td>\n",
       "      <td>Direct</td>\n",
       "      <td>TAMILNADU</td>\n",
       "      <td>Direct</td>\n",
       "      <td>Won</td>\n",
       "      <td>16.0</td>\n",
       "      <td>3.69</td>\n",
       "      <td>NaN</td>\n",
       "    </tr>\n",
       "    <tr>\n",
       "      <th>218</th>\n",
       "      <td>Jan'17</td>\n",
       "      <td>Direct</td>\n",
       "      <td>TAMILNADU</td>\n",
       "      <td>Direct</td>\n",
       "      <td>Won</td>\n",
       "      <td>9.0</td>\n",
       "      <td>1.62</td>\n",
       "      <td>NaN</td>\n",
       "    </tr>\n",
       "    <tr>\n",
       "      <th>193</th>\n",
       "      <td>Dec'16</td>\n",
       "      <td>Dealer</td>\n",
       "      <td>TAMILNADU</td>\n",
       "      <td>Windoors</td>\n",
       "      <td>Won</td>\n",
       "      <td>1.0</td>\n",
       "      <td>0.07</td>\n",
       "      <td>NaN</td>\n",
       "    </tr>\n",
       "    <tr>\n",
       "      <th>39</th>\n",
       "      <td>June'16</td>\n",
       "      <td>Dealer</td>\n",
       "      <td>TAMILNADU</td>\n",
       "      <td>OXXO</td>\n",
       "      <td>Won</td>\n",
       "      <td>1.0</td>\n",
       "      <td>0.39</td>\n",
       "      <td>NaN</td>\n",
       "    </tr>\n",
       "    <tr>\n",
       "      <th>136</th>\n",
       "      <td>Sept'16</td>\n",
       "      <td>Dealer</td>\n",
       "      <td>TAMILNADU</td>\n",
       "      <td>OXXO</td>\n",
       "      <td>Won</td>\n",
       "      <td>2.0</td>\n",
       "      <td>0.68</td>\n",
       "      <td>NaN</td>\n",
       "    </tr>\n",
       "  </tbody>\n",
       "</table>\n",
       "</div>"
      ],
      "text/plain": [
       "       Month Allocation Status      State Dealer Name Status  Order QTY  \\\n",
       "225   Jan'17            Direct  TAMILNADU      Direct    Won       16.0   \n",
       "218   Jan'17            Direct  TAMILNADU      Direct    Won        9.0   \n",
       "193   Dec'16            Dealer  TAMILNADU    Windoors    Won        1.0   \n",
       "39   June'16            Dealer  TAMILNADU        OXXO    Won        1.0   \n",
       "136  Sept'16            Dealer  TAMILNADU        OXXO    Won        2.0   \n",
       "\n",
       "     Order Val. (Rs. Lac) Remarks  \n",
       "225                  3.69     NaN  \n",
       "218                  1.62     NaN  \n",
       "193                  0.07     NaN  \n",
       "39                   0.39     NaN  \n",
       "136                  0.68     NaN  "
      ]
     },
     "execution_count": 23,
     "metadata": {},
     "output_type": "execute_result"
    }
   ],
   "source": [
    "#created separate dataframe with status won\n",
    "df_won = df_sample[df_sample['Status']=='Won']\n",
    "df_won.sample(5)"
   ]
  },
  {
   "cell_type": "code",
   "execution_count": 24,
   "metadata": {},
   "outputs": [
    {
     "data": {
      "text/plain": [
       "Month                    0\n",
       "Allocation Status        0\n",
       "State                    0\n",
       "Dealer Name              0\n",
       "Status                   0\n",
       "Order QTY                5\n",
       "Order Val. (Rs. Lac)     5\n",
       "Remarks                 53\n",
       "dtype: int64"
      ]
     },
     "execution_count": 24,
     "metadata": {},
     "output_type": "execute_result"
    }
   ],
   "source": [
    "#identified null values\n",
    "df_won.isna().sum()"
   ]
  },
  {
   "cell_type": "code",
   "execution_count": 25,
   "metadata": {},
   "outputs": [],
   "source": [
    "#dropped null values\n",
    "df_won.dropna(subset=['Order Val. (Rs. Lac)','Order QTY'],inplace=True)"
   ]
  },
  {
   "cell_type": "code",
   "execution_count": 26,
   "metadata": {},
   "outputs": [
    {
     "data": {
      "image/png": "[encoded data removed]",
      "text/plain": [
       "<Figure size 1080x576 with 1 Axes>"
      ]
     },
     "metadata": {
      "needs_background": "light"
     },
     "output_type": "display_data"
    }
   ],
   "source": [
    "#5 point summary and outliers are observed by using box plot for each dealer and corresponding order value\n",
    "plt.rcParams['figure.figsize'] = [15,8]\n",
    "sns.boxplot(df_won['Dealer Name'],df_won['Order Val. (Rs. Lac)'])\n",
    "plt.show()"
   ]
  },
  {
   "cell_type": "code",
   "execution_count": 27,
   "metadata": {},
   "outputs": [],
   "source": [
    "#even with less won percentage delaer windoors gives us maximum order val\n",
    "#dealer with more number of won status is Direct"
   ]
  },
  {
   "cell_type": "code",
   "execution_count": 28,
   "metadata": {},
   "outputs": [
    {
     "data": {
      "text/plain": [
       "<AxesSubplot:xlabel='Dealer Name', ylabel='count'>"
      ]
     },
     "execution_count": 28,
     "metadata": {},
     "output_type": "execute_result"
    },
    {
     "data": {
      "image/png": "[encoded data removed]",
      "text/plain": [
       "<Figure size 1080x576 with 1 Axes>"
      ]
     },
     "metadata": {
      "needs_background": "light"
     },
     "output_type": "display_data"
    }
   ],
   "source": [
    "#quantity of orders for each dealer\n",
    "sns.countplot(df_won['Dealer Name'])"
   ]
  },
  {
   "cell_type": "code",
   "execution_count": 29,
   "metadata": {},
   "outputs": [
    {
     "data": {
      "image/png": "[encoded data removed]",
      "text/plain": [
       "<Figure size 1080x576 with 1 Axes>"
      ]
     },
     "metadata": {
      "needs_background": "light"
     },
     "output_type": "display_data"
    }
   ],
   "source": [
    "#5 point summary and outliers observed for order value variable\n",
    "sns.boxplot(df_won['Order Val. (Rs. Lac)'].dropna())\n",
    "plt.show()"
   ]
  },
  {
   "cell_type": "code",
   "execution_count": 30,
   "metadata": {},
   "outputs": [
    {
     "data": {
      "text/plain": [
       "<AxesSubplot:xlabel='Order Val. (Rs. Lac)'>"
      ]
     },
     "execution_count": 30,
     "metadata": {},
     "output_type": "execute_result"
    },
    {
     "data": {
      "image/png": "[encoded data removed]",
      "text/plain": [
       "<Figure size 1080x576 with 1 Axes>"
      ]
     },
     "metadata": {
      "needs_background": "light"
     },
     "output_type": "display_data"
    }
   ],
   "source": [
    "sns.boxplot(df_won['Order Val. (Rs. Lac)'])# box plot with outliers"
   ]
  },
  {
   "cell_type": "code",
   "execution_count": 31,
   "metadata": {},
   "outputs": [],
   "source": [
    "#treated outliers with IQR method"
   ]
  },
  {
   "cell_type": "code",
   "execution_count": 32,
   "metadata": {},
   "outputs": [],
   "source": [
    "Q1 = np.quantile(df_won['Order Val. (Rs. Lac)'],0.25)\n",
    "Q3 = np.quantile(df_won['Order Val. (Rs. Lac)'],0.75)\n",
    "IQR = Q3-Q1\n",
    "UB = Q3+1.5*IQR\n",
    "LB = Q1-1.5*IQR\n",
    "(df[(df['Order Val. (Rs. Lac)']>UB)|(df['Order Val. (Rs. Lac)']<LB)])\n",
    "df_won_without_outliers = df[(df['Order Val. (Rs. Lac)'] <= UB)&(df['Order Val. (Rs. Lac)'] >= LB)]   # removing outliers"
   ]
  },
  {
   "cell_type": "code",
   "execution_count": 33,
   "metadata": {},
   "outputs": [
    {
     "data": {
      "text/plain": [
       "0.9389743589743591"
      ]
     },
     "execution_count": 33,
     "metadata": {},
     "output_type": "execute_result"
    }
   ],
   "source": [
    "df_won_without_outliers['Order Val. (Rs. Lac)'].mean() "
   ]
  },
  {
   "cell_type": "code",
   "execution_count": 34,
   "metadata": {},
   "outputs": [
    {
     "data": {
      "text/plain": [
       "0.9354006410256408"
      ]
     },
     "execution_count": 34,
     "metadata": {},
     "output_type": "execute_result"
    }
   ],
   "source": [
    "df_won['Order Val. (Rs. Lac)'].mean()-df_won_without_outliers['Order Val. (Rs. Lac)'].mean()"
   ]
  },
  {
   "cell_type": "code",
   "execution_count": 35,
   "metadata": {},
   "outputs": [
    {
     "data": {
      "image/png": "[encoded data removed]",
      "text/plain": [
       "<Figure size 1080x576 with 1 Axes>"
      ]
     },
     "metadata": {
      "needs_background": "light"
     },
     "output_type": "display_data"
    }
   ],
   "source": [
    "sns.boxplot(df_won_without_outliers['Order Val. (Rs. Lac)'])#without outliers(removed outliers with IQR method)\n",
    "plt.show()"
   ]
  },
  {
   "cell_type": "code",
   "execution_count": 36,
   "metadata": {},
   "outputs": [
    {
     "data": {
      "text/html": [
       "<div>\n",
       "<style scoped>\n",
       "    .dataframe tbody tr th:only-of-type {\n",
       "        vertical-align: middle;\n",
       "    }\n",
       "\n",
       "    .dataframe tbody tr th {\n",
       "        vertical-align: top;\n",
       "    }\n",
       "\n",
       "    .dataframe thead th {\n",
       "        text-align: right;\n",
       "    }\n",
       "</style>\n",
       "<table border=\"1\" class=\"dataframe\">\n",
       "  <thead>\n",
       "    <tr style=\"text-align: right;\">\n",
       "      <th></th>\n",
       "      <th>Order Val. (Rs. Lac)</th>\n",
       "    </tr>\n",
       "    <tr>\n",
       "      <th>Dealer Name</th>\n",
       "      <th></th>\n",
       "    </tr>\n",
       "  </thead>\n",
       "  <tbody>\n",
       "    <tr>\n",
       "      <th>Direct</th>\n",
       "      <td>42.70</td>\n",
       "    </tr>\n",
       "    <tr>\n",
       "      <th>OXXO</th>\n",
       "      <td>7.39</td>\n",
       "    </tr>\n",
       "    <tr>\n",
       "      <th>Pearlson</th>\n",
       "      <td>10.95</td>\n",
       "    </tr>\n",
       "    <tr>\n",
       "      <th>Rajtechnis</th>\n",
       "      <td>0.53</td>\n",
       "    </tr>\n",
       "    <tr>\n",
       "      <th>Sunbird</th>\n",
       "      <td>11.93</td>\n",
       "    </tr>\n",
       "    <tr>\n",
       "      <th>Windoors</th>\n",
       "      <td>11.54</td>\n",
       "    </tr>\n",
       "    <tr>\n",
       "      <th>Winfratech</th>\n",
       "      <td>2.11</td>\n",
       "    </tr>\n",
       "    <tr>\n",
       "      <th>pearlson</th>\n",
       "      <td>2.82</td>\n",
       "    </tr>\n",
       "  </tbody>\n",
       "</table>\n",
       "</div>"
      ],
      "text/plain": [
       "             Order Val. (Rs. Lac)\n",
       "Dealer Name                      \n",
       "Direct                      42.70\n",
       "OXXO                         7.39\n",
       "Pearlson                    10.95\n",
       "Rajtechnis                   0.53\n",
       "Sunbird                     11.93\n",
       "Windoors                    11.54\n",
       "Winfratech                   2.11\n",
       "pearlson                     2.82"
      ]
     },
     "execution_count": 36,
     "metadata": {},
     "output_type": "execute_result"
    }
   ],
   "source": [
    "#total revenue for each delaer using crosstab\n",
    "df_won.groupby(df_won['Dealer Name'])['Order Val. (Rs. Lac)'].sum().to_frame()"
   ]
  },
  {
   "cell_type": "code",
   "execution_count": 37,
   "metadata": {},
   "outputs": [
    {
     "data": {
      "image/png": "[encoded data removed]",
      "text/plain": [
       "<Figure size 1080x576 with 1 Axes>"
      ]
     },
     "metadata": {
      "needs_background": "light"
     },
     "output_type": "display_data"
    }
   ],
   "source": [
    "#total revenue for each delaer using bar plot\n",
    "df_won.groupby(df_won['Dealer Name'])['Order Val. (Rs. Lac)'].sum().to_frame().plot(kind='bar')\n",
    "plt.axhline(y=5,color='red')\n",
    "plt.xlabel('Dealer Name')\n",
    "plt.ylabel('Revenue in lakhs')\n",
    "plt.title('Total sales of each dealer')\n",
    "plt.grid()\n",
    "plt.show()\n",
    "#direct dealers have generated maximum revenue\n",
    "#as a trail and error basis, assumed that the threshold revenue as 5 lakhs and above are performers and below are non performers"
   ]
  },
  {
   "cell_type": "code",
   "execution_count": 38,
   "metadata": {},
   "outputs": [],
   "source": [
    "#we dropped column since no data was recorded\n",
    "df_won.drop('Remarks',axis=1,inplace=True)"
   ]
  },
  {
   "cell_type": "code",
   "execution_count": 39,
   "metadata": {},
   "outputs": [
    {
     "data": {
      "text/html": [
       "<div>\n",
       "<style scoped>\n",
       "    .dataframe tbody tr th:only-of-type {\n",
       "        vertical-align: middle;\n",
       "    }\n",
       "\n",
       "    .dataframe tbody tr th {\n",
       "        vertical-align: top;\n",
       "    }\n",
       "\n",
       "    .dataframe thead th {\n",
       "        text-align: right;\n",
       "    }\n",
       "</style>\n",
       "<table border=\"1\" class=\"dataframe\">\n",
       "  <thead>\n",
       "    <tr style=\"text-align: right;\">\n",
       "      <th></th>\n",
       "      <th>Month</th>\n",
       "      <th>Allocation Status</th>\n",
       "      <th>State</th>\n",
       "      <th>Dealer Name</th>\n",
       "      <th>Status</th>\n",
       "      <th>Order QTY</th>\n",
       "      <th>Order Val. (Rs. Lac)</th>\n",
       "    </tr>\n",
       "  </thead>\n",
       "  <tbody>\n",
       "    <tr>\n",
       "      <th>221</th>\n",
       "      <td>Jan'17</td>\n",
       "      <td>Dealer</td>\n",
       "      <td>TAMILNADU</td>\n",
       "      <td>Sunbird</td>\n",
       "      <td>Won</td>\n",
       "      <td>1.0</td>\n",
       "      <td>0.20</td>\n",
       "    </tr>\n",
       "    <tr>\n",
       "      <th>199</th>\n",
       "      <td>Dec'16</td>\n",
       "      <td>Direct</td>\n",
       "      <td>TAMILNADU</td>\n",
       "      <td>Direct</td>\n",
       "      <td>Won</td>\n",
       "      <td>1.0</td>\n",
       "      <td>0.22</td>\n",
       "    </tr>\n",
       "    <tr>\n",
       "      <th>136</th>\n",
       "      <td>Sept'16</td>\n",
       "      <td>Dealer</td>\n",
       "      <td>TAMILNADU</td>\n",
       "      <td>OXXO</td>\n",
       "      <td>Won</td>\n",
       "      <td>2.0</td>\n",
       "      <td>0.68</td>\n",
       "    </tr>\n",
       "    <tr>\n",
       "      <th>185</th>\n",
       "      <td>Dec'16</td>\n",
       "      <td>Dealer</td>\n",
       "      <td>TAMILNADU</td>\n",
       "      <td>pearlson</td>\n",
       "      <td>Won</td>\n",
       "      <td>7.0</td>\n",
       "      <td>1.39</td>\n",
       "    </tr>\n",
       "    <tr>\n",
       "      <th>161</th>\n",
       "      <td>Oct'16</td>\n",
       "      <td>Dealer</td>\n",
       "      <td>TAMILNADU</td>\n",
       "      <td>Windoors</td>\n",
       "      <td>Won</td>\n",
       "      <td>41.0</td>\n",
       "      <td>7.05</td>\n",
       "    </tr>\n",
       "  </tbody>\n",
       "</table>\n",
       "</div>"
      ],
      "text/plain": [
       "       Month Allocation Status      State Dealer Name Status  Order QTY  \\\n",
       "221   Jan'17            Dealer  TAMILNADU     Sunbird    Won        1.0   \n",
       "199   Dec'16            Direct  TAMILNADU      Direct    Won        1.0   \n",
       "136  Sept'16            Dealer  TAMILNADU        OXXO    Won        2.0   \n",
       "185   Dec'16            Dealer  TAMILNADU    pearlson    Won        7.0   \n",
       "161   Oct'16            Dealer  TAMILNADU    Windoors    Won       41.0   \n",
       "\n",
       "     Order Val. (Rs. Lac)  \n",
       "221                  0.20  \n",
       "199                  0.22  \n",
       "136                  0.68  \n",
       "185                  1.39  \n",
       "161                  7.05  "
      ]
     },
     "execution_count": 39,
     "metadata": {},
     "output_type": "execute_result"
    }
   ],
   "source": [
    "df_won.sample(5)"
   ]
  },
  {
   "cell_type": "code",
   "execution_count": 40,
   "metadata": {},
   "outputs": [],
   "source": [
    "#created a separate to check city and dealer wise total revenue\n",
    "df_check = df[['City','Dealer Name','Order Val. (Rs. Lac)']]"
   ]
  },
  {
   "cell_type": "code",
   "execution_count": 41,
   "metadata": {},
   "outputs": [
    {
     "data": {
      "image/png": "[encoded data removed]",
      "text/plain": [
       "<Figure size 1080x576 with 1 Axes>"
      ]
     },
     "metadata": {
      "needs_background": "light"
     },
     "output_type": "display_data"
    }
   ],
   "source": [
    "#plotted bar plot for same\n",
    "sns.barplot(x=df_check['Dealer Name'],y=df_check['Order Val. (Rs. Lac)'],hue=df_check['City'])\n",
    "plt.show()"
   ]
  },
  {
   "cell_type": "code",
   "execution_count": 42,
   "metadata": {},
   "outputs": [],
   "source": [
    "df1 = df_check.groupby(['City','Dealer Name'])['Order Val. (Rs. Lac)'].sum().to_frame().sort_values(by='Order Val. (Rs. Lac)')"
   ]
  },
  {
   "cell_type": "code",
   "execution_count": 43,
   "metadata": {},
   "outputs": [
    {
     "data": {
      "text/html": [
       "<div>\n",
       "<style scoped>\n",
       "    .dataframe tbody tr th:only-of-type {\n",
       "        vertical-align: middle;\n",
       "    }\n",
       "\n",
       "    .dataframe tbody tr th {\n",
       "        vertical-align: top;\n",
       "    }\n",
       "\n",
       "    .dataframe thead th {\n",
       "        text-align: right;\n",
       "    }\n",
       "</style>\n",
       "<table border=\"1\" class=\"dataframe\">\n",
       "  <thead>\n",
       "    <tr style=\"text-align: right;\">\n",
       "      <th></th>\n",
       "      <th></th>\n",
       "      <th>Order Val. (Rs. Lac)</th>\n",
       "    </tr>\n",
       "    <tr>\n",
       "      <th>City</th>\n",
       "      <th>Dealer Name</th>\n",
       "      <th></th>\n",
       "    </tr>\n",
       "  </thead>\n",
       "  <tbody>\n",
       "    <tr>\n",
       "      <th>VILLUPURAM</th>\n",
       "      <th>Windoors</th>\n",
       "      <td>0.00</td>\n",
       "    </tr>\n",
       "    <tr>\n",
       "      <th>THIRUVALLUR</th>\n",
       "      <th>ITP</th>\n",
       "      <td>0.00</td>\n",
       "    </tr>\n",
       "    <tr>\n",
       "      <th>PONDICHERRY</th>\n",
       "      <th>Direct</th>\n",
       "      <td>0.00</td>\n",
       "    </tr>\n",
       "    <tr>\n",
       "      <th>KRISHNAGIRI</th>\n",
       "      <th>Windoors</th>\n",
       "      <td>0.00</td>\n",
       "    </tr>\n",
       "    <tr>\n",
       "      <th>KANCHIPURAM</th>\n",
       "      <th>Winfratech</th>\n",
       "      <td>0.00</td>\n",
       "    </tr>\n",
       "    <tr>\n",
       "      <th>VILLUPURAM</th>\n",
       "      <th>ITP</th>\n",
       "      <td>0.00</td>\n",
       "    </tr>\n",
       "    <tr>\n",
       "      <th rowspan=\"2\" valign=\"top\">THIRUVALLUR</th>\n",
       "      <th>Rajtechnis</th>\n",
       "      <td>0.00</td>\n",
       "    </tr>\n",
       "    <tr>\n",
       "      <th>Windoors</th>\n",
       "      <td>0.00</td>\n",
       "    </tr>\n",
       "    <tr>\n",
       "      <th>CUDDALORE</th>\n",
       "      <th>Windoors</th>\n",
       "      <td>0.00</td>\n",
       "    </tr>\n",
       "    <tr>\n",
       "      <th>KANCHIPURAM</th>\n",
       "      <th>ITP</th>\n",
       "      <td>0.00</td>\n",
       "    </tr>\n",
       "    <tr>\n",
       "      <th>TIRUVANNAMALAI</th>\n",
       "      <th>Sunbird</th>\n",
       "      <td>0.00</td>\n",
       "    </tr>\n",
       "    <tr>\n",
       "      <th>VELLORE</th>\n",
       "      <th>Windoors</th>\n",
       "      <td>0.00</td>\n",
       "    </tr>\n",
       "    <tr>\n",
       "      <th>CHENNAI</th>\n",
       "      <th>ITP</th>\n",
       "      <td>0.00</td>\n",
       "    </tr>\n",
       "    <tr>\n",
       "      <th>KANCHIPURAM</th>\n",
       "      <th>OXXO</th>\n",
       "      <td>0.39</td>\n",
       "    </tr>\n",
       "    <tr>\n",
       "      <th>CHENNAI</th>\n",
       "      <th>Rajtechnis</th>\n",
       "      <td>0.53</td>\n",
       "    </tr>\n",
       "    <tr>\n",
       "      <th rowspan=\"3\" valign=\"top\">THIRUVALLUR</th>\n",
       "      <th>Direct</th>\n",
       "      <td>0.54</td>\n",
       "    </tr>\n",
       "    <tr>\n",
       "      <th>Sunbird</th>\n",
       "      <td>0.86</td>\n",
       "    </tr>\n",
       "    <tr>\n",
       "      <th>OXXO</th>\n",
       "      <td>1.09</td>\n",
       "    </tr>\n",
       "    <tr>\n",
       "      <th>KANCHIPURAM</th>\n",
       "      <th>Sunbird</th>\n",
       "      <td>1.48</td>\n",
       "    </tr>\n",
       "    <tr>\n",
       "      <th rowspan=\"2\" valign=\"top\">CHENNAI</th>\n",
       "      <th>Winfratech</th>\n",
       "      <td>2.11</td>\n",
       "    </tr>\n",
       "    <tr>\n",
       "      <th>pearlson</th>\n",
       "      <td>2.82</td>\n",
       "    </tr>\n",
       "    <tr>\n",
       "      <th>KRISHNAGIRI</th>\n",
       "      <th>Direct</th>\n",
       "      <td>3.78</td>\n",
       "    </tr>\n",
       "    <tr>\n",
       "      <th rowspan=\"2\" valign=\"top\">CHENNAI</th>\n",
       "      <th>Windoors</th>\n",
       "      <td>4.49</td>\n",
       "    </tr>\n",
       "    <tr>\n",
       "      <th>OXXO</th>\n",
       "      <td>5.91</td>\n",
       "    </tr>\n",
       "    <tr>\n",
       "      <th>KANCHIPURAM</th>\n",
       "      <th>Windoors</th>\n",
       "      <td>7.05</td>\n",
       "    </tr>\n",
       "    <tr>\n",
       "      <th rowspan=\"2\" valign=\"top\">CHENNAI</th>\n",
       "      <th>Sunbird</th>\n",
       "      <td>9.59</td>\n",
       "    </tr>\n",
       "    <tr>\n",
       "      <th>Pearlson</th>\n",
       "      <td>10.95</td>\n",
       "    </tr>\n",
       "    <tr>\n",
       "      <th>KANCHIPURAM</th>\n",
       "      <th>Direct</th>\n",
       "      <td>11.91</td>\n",
       "    </tr>\n",
       "    <tr>\n",
       "      <th>CHENNAI</th>\n",
       "      <th>Direct</th>\n",
       "      <td>26.47</td>\n",
       "    </tr>\n",
       "  </tbody>\n",
       "</table>\n",
       "</div>"
      ],
      "text/plain": [
       "                            Order Val. (Rs. Lac)\n",
       "City           Dealer Name                      \n",
       "VILLUPURAM     Windoors                     0.00\n",
       "THIRUVALLUR    ITP                          0.00\n",
       "PONDICHERRY    Direct                       0.00\n",
       "KRISHNAGIRI    Windoors                     0.00\n",
       "KANCHIPURAM    Winfratech                   0.00\n",
       "VILLUPURAM     ITP                          0.00\n",
       "THIRUVALLUR    Rajtechnis                   0.00\n",
       "               Windoors                     0.00\n",
       "CUDDALORE      Windoors                     0.00\n",
       "KANCHIPURAM    ITP                          0.00\n",
       "TIRUVANNAMALAI Sunbird                      0.00\n",
       "VELLORE        Windoors                     0.00\n",
       "CHENNAI        ITP                          0.00\n",
       "KANCHIPURAM    OXXO                         0.39\n",
       "CHENNAI        Rajtechnis                   0.53\n",
       "THIRUVALLUR    Direct                       0.54\n",
       "               Sunbird                      0.86\n",
       "               OXXO                         1.09\n",
       "KANCHIPURAM    Sunbird                      1.48\n",
       "CHENNAI        Winfratech                   2.11\n",
       "               pearlson                     2.82\n",
       "KRISHNAGIRI    Direct                       3.78\n",
       "CHENNAI        Windoors                     4.49\n",
       "               OXXO                         5.91\n",
       "KANCHIPURAM    Windoors                     7.05\n",
       "CHENNAI        Sunbird                      9.59\n",
       "               Pearlson                    10.95\n",
       "KANCHIPURAM    Direct                      11.91\n",
       "CHENNAI        Direct                      26.47"
      ]
     },
     "execution_count": 43,
     "metadata": {},
     "output_type": "execute_result"
    }
   ],
   "source": [
    "df1"
   ]
  },
  {
   "cell_type": "code",
   "execution_count": 44,
   "metadata": {},
   "outputs": [
    {
     "data": {
      "text/html": [
       "<div>\n",
       "<style scoped>\n",
       "    .dataframe tbody tr th:only-of-type {\n",
       "        vertical-align: middle;\n",
       "    }\n",
       "\n",
       "    .dataframe tbody tr th {\n",
       "        vertical-align: top;\n",
       "    }\n",
       "\n",
       "    .dataframe thead th {\n",
       "        text-align: right;\n",
       "    }\n",
       "</style>\n",
       "<table border=\"1\" class=\"dataframe\">\n",
       "  <thead>\n",
       "    <tr style=\"text-align: right;\">\n",
       "      <th></th>\n",
       "      <th>Order QTY</th>\n",
       "      <th>Order Val. (Rs. Lac)</th>\n",
       "    </tr>\n",
       "  </thead>\n",
       "  <tbody>\n",
       "    <tr>\n",
       "      <th>Order QTY</th>\n",
       "      <td>1.000000</td>\n",
       "      <td>0.733693</td>\n",
       "    </tr>\n",
       "    <tr>\n",
       "      <th>Order Val. (Rs. Lac)</th>\n",
       "      <td>0.733693</td>\n",
       "      <td>1.000000</td>\n",
       "    </tr>\n",
       "  </tbody>\n",
       "</table>\n",
       "</div>"
      ],
      "text/plain": [
       "                      Order QTY  Order Val. (Rs. Lac)\n",
       "Order QTY              1.000000              0.733693\n",
       "Order Val. (Rs. Lac)   0.733693              1.000000"
      ]
     },
     "execution_count": 44,
     "metadata": {},
     "output_type": "execute_result"
    }
   ],
   "source": [
    "df_won.corr()#strength of relationship between order qty and order val"
   ]
  },
  {
   "cell_type": "code",
   "execution_count": 45,
   "metadata": {},
   "outputs": [
    {
     "data": {
      "image/png": "[encoded data removed]",
      "text/plain": [
       "<Figure size 1080x576 with 1 Axes>"
      ]
     },
     "metadata": {
      "needs_background": "light"
     },
     "output_type": "display_data"
    }
   ],
   "source": [
    "sns.regplot(df_won['Order QTY'],df_won['Order Val. (Rs. Lac)'])\n",
    "plt.show()\n",
    "#direction of relationship between order qty and order val"
   ]
  }
 ],
 "metadata": {
  "kernelspec": {
   "display_name": "Python 3",
   "language": "python",
   "name": "python3"
  },
  "language_info": {
   "codemirror_mode": {
    "name": "ipython",
    "version": 3
   },
   "file_extension": ".py",
   "mimetype": "text/x-python",
   "name": "python",
   "nbconvert_exporter": "python",
   "pygments_lexer": "ipython3",
   "version": "3.8.5"
  }
 },
 "nbformat": 4,
 "nbformat_minor": 4
}
